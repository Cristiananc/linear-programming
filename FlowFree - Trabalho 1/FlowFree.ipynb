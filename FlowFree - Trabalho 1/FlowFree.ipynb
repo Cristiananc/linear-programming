{
 "cells": [
  {
   "cell_type": "markdown",
   "metadata": {},
   "source": [
    "## Programação Linear e Inteira\n",
    "### Professor Luciano Monteiro\n",
    "### Cristiana Couto\n",
    "\n",
    "### Solucionando o jogo *FlowFree* através de programação linear inteira"
   ]
  },
  {
   "cell_type": "code",
   "execution_count": 1,
   "metadata": {},
   "outputs": [],
   "source": [
    "using JuMP, GLPK"
   ]
  },
  {
   "cell_type": "code",
   "execution_count": 2,
   "metadata": {},
   "outputs": [],
   "source": [
    "model = Model(GLPK.Optimizer)\n",
    "nodesInput = [1, 3, 5, 6, 7, 8, 9, 19, 20, 21, 29, 31];\n",
    "nodesColors = [6, 5, 2, 1, 4, 6, 3, 5, 4, 3, 2, 1];"
   ]
  },
  {
   "cell_type": "code",
   "execution_count": 7,
   "metadata": {},
   "outputs": [
    {
     "data": {
      "text/plain": [
       "flowFree (generic function with 1 method)"
      ]
     },
     "execution_count": 7,
     "metadata": {},
     "output_type": "execute_result"
    }
   ],
   "source": [
    "function flowFree(model, n, nodesInput, c, nodesColors)\n",
    "    \n",
    "    @variable(model, 1 >= N[1:n*n, 1:4, 1:c] >= 0, Int)\n",
    "    @variable(model, 1 >= C[1:n*n, 1:c] >= 0, Int)\n",
    "    \n",
    "    #Cada nó só tem no maxímo 2 arestas saindo dele e no mínimo 1\n",
    "    #Nós terminais só possuem uma aresta saindo dele\n",
    "    for i in 1:n*n\n",
    "        if i in nodesInput\n",
    "            @constraint(model, sum(N[i,1:4, 1:c]) == 1)\n",
    "        else\n",
    "            @constraint(model, 1 <= sum(N[i,1:4, 1:c]) <= 2)\n",
    "        end\n",
    "    end\n",
    "    \n",
    "    #Restrições de cores\n",
    "    for i in 1:n*n\n",
    "        @constraint(model, sum(C[i, 1:c]) == 1)\n",
    "        if i ∉ nodesInput\n",
    "            for j in 1:c\n",
    "                @constraint(model, C[i,j] == sum(N[i,1:4,j])*0.5)\n",
    "            end\n",
    "        else\n",
    "            for k in 1:c\n",
    "                @constraint(model, C[i,k] == sum(N[i,1:4,k]))\n",
    "            end\n",
    "        end\n",
    "    end\n",
    "    \n",
    "    #Cada aresta só possui uma cor e soma zero se ela não existe\n",
    "    for i in 1:n*n\n",
    "        for j in 1:4\n",
    "           @constraint(model, sum(N[i,j, 1:c]) <= 1)\n",
    "        end\n",
    "    end\n",
    "\n",
    "    #Cores do input nos nós terminais\n",
    "    for j in 1:size(nodesInput)[1]\n",
    "        @constraint(model, sum(N[nodesInput[j], i, nodesColors[j]] for i in 1:4) == 1)\n",
    "    end    \n",
    "    \n",
    "    \n",
    "    #Os nós da borda não possuem algumas arestas 1= esquerda, 2= p/ cima, 3= direita, 4 = p/ baixo\n",
    "    #Começando pelos nós que não têm aresta esquerda\n",
    "    for i in 0:n-1\n",
    "        @constraint(model, sum(N[i*n + 1,1, 1:c]) == 0)\n",
    "    end\n",
    "\n",
    "    #Nós que não têm aresta p/ baixo\n",
    "    for i in n*(n-1) + 1:n*n\n",
    "        @constraint(model, sum(N[i, 4, 1:c]) == 0)\n",
    "    end\n",
    "    \n",
    "    #Nós que não têm aresta p/ cima e nós que não têm aresta p/ direita\n",
    "    for i in 1:n\n",
    "        @constraint(model, sum(N[i, 2, 1:n]) == 0)\n",
    "        @constraint(model, sum(N[i*n, 3, 1:n]) == 0)\n",
    "    end\n",
    "    \n",
    "    #A aresta (u,v) tem a mesma cor que a aresta (v,u)\n",
    "    #Os vizinhos na horizontal e vertical que compartilham arestas precisam \n",
    "    #ter as mesmas cores (começamos pelo subtabuleiro que possui todos os vizinhos)\n",
    "    for i in n+2:n*n - (n+1)\n",
    "        @constraint(model, N[i, 1, 1:c] .== N[i - 1, 3, 1:c])\n",
    "        @constraint(model, N[i, 2, 1:c] .== N[i - 6, 4, 1:c])\n",
    "        @constraint(model, N[i, 3, 1:c] .== N[i + 1, 1, 1:c])\n",
    "        @constraint(model, N[i, 4, 1:c] .== N[i + 6, 2, 1:c])\n",
    "    end\n",
    "\n",
    "    #Última linha (nós que são não canto)\n",
    "    for i in (n-1)*n + 2:n*n -1\n",
    "        @constraint(model, N[i, 1, 1:c] .== N[i - 1, 3, 1:c])\n",
    "        @constraint(model, N[i, 2, 1:c] .== N[i - 6, 4, 1:c])\n",
    "        @constraint(model, N[i, 3, 1:c] .== N[i + 1, 1, 1:c])\n",
    "    end\n",
    "\n",
    "    #Primeira linha e última coluna (nós que são não canto)\n",
    "    for i in 2:n-1\n",
    "        @constraint(model, N[i, 1, 1:c] .== N[i - 1, 3, 1:c])\n",
    "        @constraint(model, N[i, 3, 1:c] .== N[i + 1, 1, 1:c])\n",
    "        @constraint(model, N[i, 4, 1:c] .== N[i + 6, 2, 1:c])\n",
    "        \n",
    "        @constraint(model, N[i*n, 1, 1:c] .== N[i*n - 1, 3, 1:c])\n",
    "        @constraint(model, N[i*n, 2, 1:c] .== N[i*n - 6, 4, 1:c])\n",
    "        @constraint(model, N[i*n, 4, 1:c] .== N[i*n + 6, 2, 1:c])\n",
    "    end\n",
    "\n",
    "    #Primeira coluna\n",
    "    for i in 1:n-2\n",
    "        @constraint(model, N[i*n + 1, 2, 1:c] .== N[i*n - 5, 4, 1:c])\n",
    "        @constraint(model, N[i*n + 1, 3, 1:c] .== N[i*n + 2, 1, 1:c])\n",
    "        @constraint(model, N[i*n + 1, 4, 1:c] .== N[i*n + 7, 2, 1:c])\n",
    "    end\n",
    "    \n",
    "    #Cantos\n",
    "    #Casa [1,1] do tabuleiro\n",
    "    @constraint(model, N[1, 3, 1:c] .== N[2, 1, 1:c])\n",
    "    @constraint(model, N[1, 4, 1:c] .== N[n+1, 2, 1:c])\n",
    "\n",
    "    #Casa [1,n]\n",
    "    @constraint(model, N[n, 1, 1:c] .== N[n-1, 3, 1:c])\n",
    "    @constraint(model, N[n, 4, 1:c] .== N[2*n, 2, 1:c])\n",
    "\n",
    "    #Casa [n,1]\n",
    "    @constraint(model, N[n*(n-1) + 1, 2, 1:c] .== N[n*(n-1) + 1 - n, 4, 1:c])\n",
    "    @constraint(model, N[n*(n-1) + 1, 3, 1:c] .== N[n*(n-1) + 2, 1, 1:c])\n",
    "\n",
    "    #Casa [n,n]\n",
    "    @constraint(model, N[n*n, 1, 1:c] .== N[n*n - 1, 3, 1:c])\n",
    "    @constraint(model, N[n*n, 2, 1:c] .== N[n*(n - 1), 4, 1:c])\n",
    "    \n",
    "    # Chamada do Solver\n",
    "    optimize!(model)\n",
    "    \n",
    "    return value.(N), value.(C)\n",
    "end"
   ]
  },
  {
   "cell_type": "code",
   "execution_count": 4,
   "metadata": {},
   "outputs": [],
   "source": [
    "M, C = flowFree(model, 6, nodesInput, 6, nodesColors);"
   ]
  },
  {
   "cell_type": "code",
   "execution_count": 5,
   "metadata": {},
   "outputs": [
    {
     "data": {
      "text/plain": [
       "4×6 Array{Float64,2}:\n",
       " 0.0  0.0  0.0  0.0  0.0  0.0\n",
       " 0.0  0.0  0.0  0.0  0.0  0.0\n",
       " 0.0  0.0  0.0  0.0  0.0  1.0\n",
       " 0.0  0.0  0.0  0.0  0.0  0.0"
      ]
     },
     "execution_count": 5,
     "metadata": {},
     "output_type": "execute_result"
    }
   ],
   "source": [
    "M[1,:,:]"
   ]
  }
 ],
 "metadata": {
  "kernelspec": {
   "display_name": "Julia 1.5.3",
   "language": "julia",
   "name": "julia-1.5"
  },
  "language_info": {
   "file_extension": ".jl",
   "mimetype": "application/julia",
   "name": "julia",
   "version": "1.5.3"
  }
 },
 "nbformat": 4,
 "nbformat_minor": 4
}
