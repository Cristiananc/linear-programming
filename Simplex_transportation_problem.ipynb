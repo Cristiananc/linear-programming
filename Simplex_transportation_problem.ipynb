{
 "cells": [
  {
   "cell_type": "markdown",
   "metadata": {},
   "source": [
    "## Minimum matrix method"
   ]
  },
  {
   "cell_type": "code",
   "execution_count": 1,
   "metadata": {},
   "outputs": [
    {
     "data": {
      "text/plain": [
       "min_matrix (generic function with 1 method)"
      ]
     },
     "execution_count": 1,
     "metadata": {},
     "output_type": "execute_result"
    }
   ],
   "source": [
    "function min_matrix(c,s,d)\n",
    "    #= Find a feasible solution using the minimum matrix method \n",
    "    INPUT\n",
    "        c: matrix with costs of the edges\n",
    "        s: array with the supplies\n",
    "        d: array with the demands           \n",
    "    \n",
    "    OUTPUT\n",
    "        x: matrix with the feasible solution  =#\n",
    "    c0 = convert(Array{Float64},copy(c))\n",
    "    x = zeros(size(c)[1], size(c)[2])\n",
    "    while sum(d) != 0\n",
    "        if sum(s) == 0\n",
    "            println(\"Oferta insuficiente para demanda\")\n",
    "            return\n",
    "        end\n",
    "        index = findmin(c0)[2]\n",
    "        lin = index[1]\n",
    "        col = index[2]\n",
    "        minimum = min(d[col], s[lin])\n",
    "        d[col] = d[col] - minimum\n",
    "        s[lin] = s[lin] - minimum\n",
    "        x[lin, col] = minimum\n",
    "        c0[lin, col] = Inf\n",
    "    end\n",
    "    return x\n",
    "end"
   ]
  },
  {
   "cell_type": "markdown",
   "metadata": {},
   "source": [
    "## Optimization Criterion"
   ]
  },
  {
   "cell_type": "markdown",
   "metadata": {},
   "source": [
    "We use shadow prices and look at the dual of the transportation problem. "
   ]
  },
  {
   "cell_type": "code",
   "execution_count": null,
   "metadata": {},
   "outputs": [],
   "source": [
    "function multipliers(c,s,d,x)\n",
    "    "
   ]
  },
  {
   "cell_type": "code",
   "execution_count": null,
   "metadata": {},
   "outputs": [],
   "source": []
  }
 ],
 "metadata": {
  "kernelspec": {
   "display_name": "Julia 1.5.3",
   "language": "julia",
   "name": "julia-1.5"
  },
  "language_info": {
   "file_extension": ".jl",
   "mimetype": "application/julia",
   "name": "julia",
   "version": "1.5.3"
  }
 },
 "nbformat": 4,
 "nbformat_minor": 4
}
