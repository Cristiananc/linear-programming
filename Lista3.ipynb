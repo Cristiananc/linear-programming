{
 "cells": [
  {
   "cell_type": "markdown",
   "metadata": {},
   "source": [
    "## Programação Linear e Inteira\n",
    "### Professor Luciano Monteiro\n",
    "### Cristiana Couto"
   ]
  },
  {
   "cell_type": "markdown",
   "metadata": {},
   "source": [
    "## Chapter 9 - AMP MIT\n"
   ]
  },
  {
   "cell_type": "code",
   "execution_count": 2,
   "metadata": {},
   "outputs": [],
   "source": [
    "using JuMP, GLPK, LinearAlgebra"
   ]
  },
  {
   "cell_type": "markdown",
   "metadata": {},
   "source": [
    "### Exercise 3"
   ]
  },
  {
   "cell_type": "code",
   "execution_count": 20,
   "metadata": {},
   "outputs": [
    {
     "data": {
      "text/latex": [
       "$$ \\begin{alignat*}{1}\\max\\quad & 1.0e6 A_{1} + 200000 A_{2} + 300000 A_{3} + 400000 A_{4} + 450000 A_{5} + 450000 A_{6}\\\\\n",
       "\\text{Subject to} \\quad & A_{1} + A_{4} - A_{6} \\geq 0.0\\\\\n",
       " & 500000 A_{1} + 150000 A_{2} + 300000 A_{3} + 250000 A_{4} + 250000 A_{5} + 100000 A_{6} \\leq 1.8e6\\\\\n",
       " & 700 A_{1} + 250 A_{2} + 200 A_{3} + 200 A_{4} + 300 A_{5} + 400 A_{6} \\leq 1500.0\\\\\n",
       " & 200 A_{1} + 100 A_{2} + 100 A_{3} + 100 A_{4} + 100 A_{5} + 1000 A_{6} \\leq 1200.0\\\\\n",
       " & A_{2} + A_{5} \\leq 1.0\\\\\n",
       " & A_{1} \\geq 0.0\\\\\n",
       " & A_{2} \\geq 0.0\\\\\n",
       " & A_{3} \\geq 0.0\\\\\n",
       " & A_{4} \\geq 0.0\\\\\n",
       " & A_{5} \\geq 0.0\\\\\n",
       " & A_{6} \\geq 0.0\\\\\n",
       " & A_{1} \\leq 1.0\\\\\n",
       " & A_{2} \\leq 1.0\\\\\n",
       " & A_{3} \\leq 1.0\\\\\n",
       " & A_{4} \\leq 1.0\\\\\n",
       " & A_{5} \\leq 1.0\\\\\n",
       " & A_{6} \\leq 1.0\\\\\n",
       " & A_{1} integer\\\\\n",
       " & A_{2} integer\\\\\n",
       " & A_{3} integer\\\\\n",
       " & A_{4} integer\\\\\n",
       " & A_{5} integer\\\\\n",
       " & A_{6} integer\\\\\n",
       "\\end{alignat*}\n",
       " $$"
      ],
      "text/plain": [
       "A JuMP Model\n",
       "Maximization problem with:\n",
       "Variables: 6\n",
       "Objective function type: GenericAffExpr{Float64,VariableRef}\n",
       "`GenericAffExpr{Float64,VariableRef}`-in-`MathOptInterface.GreaterThan{Float64}`: 1 constraint\n",
       "`GenericAffExpr{Float64,VariableRef}`-in-`MathOptInterface.LessThan{Float64}`: 4 constraints\n",
       "`VariableRef`-in-`MathOptInterface.GreaterThan{Float64}`: 6 constraints\n",
       "`VariableRef`-in-`MathOptInterface.LessThan{Float64}`: 6 constraints\n",
       "`VariableRef`-in-`MathOptInterface.Integer`: 6 constraints\n",
       "Model mode: AUTOMATIC\n",
       "CachingOptimizer state: EMPTY_OPTIMIZER\n",
       "Solver name: GLPK\n",
       "Names registered in the model: A"
      ]
     },
     "execution_count": 20,
     "metadata": {},
     "output_type": "execute_result"
    }
   ],
   "source": [
    "modelAdvertising = Model(GLPK.Optimizer)\n",
    "\n",
    "#Customers reached \n",
    "C = [1000000, 200000, 300000, 400000, 450000, 450000]\n",
    "\n",
    "#Cost\n",
    "Cost = [500000, 150000, 300000, 250000, 250000, 100000]\n",
    "\n",
    "#Designers needed (man-hours)\n",
    "D = [700, 250, 200, 200, 300, 400]\n",
    "\n",
    "#Salesmen needed (man-hours)\n",
    "S = [200, 100, 100, 100, 100, 1000]\n",
    "\n",
    "# Variables\n",
    "@variable(modelAdvertising, 1 >= A[1:6] >= 0, Int)\n",
    "\n",
    "# Constraints: Total resources avaiable\n",
    "@constraint(modelAdvertising, sum(Cost.*A) <= 1800000)\n",
    "@constraint(modelAdvertising, sum(D.*A) <= 1500)\n",
    "@constraint(modelAdvertising, sum(S.*A) <= 1200)\n",
    "\n",
    "#If the promotional campaign is undertaken, it needs either a radio \n",
    "#or a popular magazine campaign effort to support it\n",
    "@constraint(modelAdvertising, A[1] + A[4] >= A[6])\n",
    "\n",
    "#The firm cannot advertise in both the trade and popular magazines\n",
    "@constraint(modelAdvertising, A[2] + A[5] <= 1)\n",
    "\n",
    "@objective(modelAdvertising, Max, sum(A.*C))\n",
    "\n",
    "modelAdvertising"
   ]
  },
  {
   "cell_type": "code",
   "execution_count": 19,
   "metadata": {},
   "outputs": [
    {
     "name": "stdout",
     "output_type": "stream",
     "text": [
      "Optimal Solutions:\n",
      "objective_value(modelAdvertising) = 2.15e6\n"
     ]
    },
    {
     "data": {
      "text/plain": [
       "6-element Array{Float64,1}:\n",
       " 1.0\n",
       " 0.0\n",
       " 1.0\n",
       " 1.0\n",
       " 1.0\n",
       " 0.0"
      ]
     },
     "execution_count": 19,
     "metadata": {},
     "output_type": "execute_result"
    }
   ],
   "source": [
    "optimize!(modelAdvertising)\n",
    "println(\"Optimal Solutions:\")\n",
    "@show objective_value(modelAdvertising)\n",
    "value.(A)"
   ]
  }
 ],
 "metadata": {
  "kernelspec": {
   "display_name": "Julia 1.5.3",
   "language": "julia",
   "name": "julia-1.5"
  },
  "language_info": {
   "file_extension": ".jl",
   "mimetype": "application/julia",
   "name": "julia",
   "version": "1.5.3"
  }
 },
 "nbformat": 4,
 "nbformat_minor": 4
}
