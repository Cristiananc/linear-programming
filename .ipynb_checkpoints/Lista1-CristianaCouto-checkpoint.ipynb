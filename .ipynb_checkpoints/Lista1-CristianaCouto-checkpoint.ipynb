{
 "cells": [
  {
   "cell_type": "markdown",
   "metadata": {},
   "source": [
    "## Programação Linear e Inteira\n",
    "### Professor Luciano Monteiro\n",
    "### Cristiana Couto"
   ]
  },
  {
   "cell_type": "markdown",
   "metadata": {},
   "source": [
    "## Seção 1.2\n",
    "### Questão 1 "
   ]
  },
  {
   "cell_type": "code",
   "execution_count": 2,
   "metadata": {},
   "outputs": [],
   "source": [
    "using JuMP, GLPK"
   ]
  },
  {
   "cell_type": "code",
   "execution_count": 6,
   "metadata": {},
   "outputs": [
    {
     "name": "stdout",
     "output_type": "stream",
     "text": [
      "Min 0.14 f1 + 0.12 f2 + 0.2 f3 + 0.75 f4 + 0.15 f5\n",
      "Subject to\n",
      " 23 f1 + 171 f2 + 65 f3 + 112 f4 + 188 f5 ≥ 2000.0\n",
      " 0.1 f1 + 0.2 f2 + 9.3 f4 + 16 f5 ≥ 50.0\n",
      " 0.6 f1 + 3.7 f2 + 2.2 f3 + 7 f4 + 7.7 f5 ≥ 100.0\n",
      " 6 f1 + 30 f2 + 13 f3 + 2 f5 ≥ 250.0\n",
      " f1 ≥ 0.0\n",
      " f2 ≥ 0.0\n",
      " f3 ≥ 0.0\n",
      " f4 ≥ 0.0\n",
      " f5 ≥ 0.0\n",
      " x[1] ≥ 0.0\n",
      " x[2] ≥ 0.0\n",
      " x[3] ≥ 0.0\n"
     ]
    }
   ],
   "source": [
    "# Modelo e Solver\n",
    "model = Model(GLPK.Optimizer)\n",
    "\n",
    "# Variaveis que representam as comidas, onde f1 é a primeira da tabela e assim por diante \n",
    "@variable(model,f1>=0)\n",
    "@variable(model,f2>=0)\n",
    "@variable(model,f3>=0)\n",
    "@variable(model,f4>=0)\n",
    "@variable(model,f5>=0)\n",
    "\n",
    "# Restrições\n",
    "@constraint(model,23*f1 + 171*f2 + 65*f3 + 112*f4 + 188*f5 >= 2000)\n",
    "@constraint(model, 0.1*f1 + 0.2*f2 + 9.3*f4 + 16*f5 >= 50)\n",
    "@constraint(model, 0.6*f1 + 3.7*f2 + 2.2*f3 + 7*f4 + 7.7*f5 >= 100)\n",
    "@constraint(model, 6*f1 + 30*f2 + 13*f3 + 2*f5 >= 250)\n",
    "\n",
    "# Função objetivo\n",
    "@objective(model,Min,0.14*f1 + 0.12*f2 + 0.2*f3 + 0.75*f4 + 0.15*f5)\n",
    "\n",
    "print(model)"
   ]
  },
  {
   "cell_type": "markdown",
   "metadata": {},
   "source": [
    "Com a formulação do problema como LP é possível determinar a quantidade de cada alimento obedecendo as restrições nutricionais e minimizando os gastos."
   ]
  },
  {
   "cell_type": "markdown",
   "metadata": {},
   "source": [
    "### Questão 3"
   ]
  },
  {
   "cell_type": "markdown",
   "metadata": {},
   "source": [
    "item a)"
   ]
  },
  {
   "cell_type": "code",
   "execution_count": 30,
   "metadata": {},
   "outputs": [
    {
     "name": "stdout",
     "output_type": "stream",
     "text": [
      "Min T + N + P + S + G + L + B\n",
      "Subject to\n",
      " -G + L = 200.0\n",
      " T ≥ 20000.0\n",
      " -T + N ≥ 5000.0\n",
      " -T + P ≥ 5000.0\n",
      " -T + S ≥ 5000.0\n",
      " -T - P + G ≥ 0.0\n",
      " -2 T + N - 2 P + S ≥ 0.0\n",
      " -P + B ≥ 0.0\n",
      " -S + B ≥ 0.0\n",
      " P + B ≥ 60000.0\n",
      " -T + L - B ≤ 0.0\n",
      " T ≥ 0.0\n",
      " N ≥ 0.0\n",
      " P ≥ 0.0\n",
      " S ≥ 0.0\n",
      " G ≥ 0.0\n",
      " L ≥ 0.0\n",
      " B ≥ 0.0\n"
     ]
    }
   ],
   "source": [
    "# Modelo e Solver\n",
    "m3a = Model(GLPK.Optimizer)\n",
    "\n",
    "# Variaveis representando os funcionários\n",
    "@variable(m3a, T >= 0)\n",
    "@variable(m3a, N >= 0)\n",
    "@variable(m3a, P >= 0)\n",
    "@variable(m3a, S >= 0)\n",
    "@variable(m3a, G >= 0)\n",
    "@variable(m3a, L >= 0)\n",
    "@variable(m3a, B >= 0)\n",
    "\n",
    "# Restrições de salário que cada funcionário espera receber\n",
    "@constraint(m3a, T >= 20000)\n",
    "@constraint(m3a, N >= T + 5000)\n",
    "@constraint(m3a, P >= T + 5000)\n",
    "@constraint(m3a, S >= T + 5000)\n",
    "@constraint(m3a, G >= T + P)\n",
    "@constraint(m3a, L == G + 200)\n",
    "@constraint(m3a, N + S >= 2*(T + P))\n",
    "@constraint(m3a, B >= P)\n",
    "@constraint(m3a, B >= S)\n",
    "@constraint(m3a, B + P >= 60000)\n",
    "@constraint(m3a, L <= B + T)\n",
    "\n",
    "\n",
    "# Função objetivo\n",
    "@objective(m3a, Min,T + N + P + S + G + L + B)\n",
    "\n",
    "print(m3a)"
   ]
  },
  {
   "cell_type": "code",
   "execution_count": 31,
   "metadata": {},
   "outputs": [
    {
     "name": "stdout",
     "output_type": "stream",
     "text": [
      "value(T) = 20000.0\n",
      "value(N) = 55000.0\n",
      "value(P) = 25000.0\n",
      "value(S) = 35000.0\n",
      "value(G) = 45000.0\n",
      "value(L) = 45200.0\n",
      "value(B) = 35000.0\n",
      "objective_value(m3a) = 260200.0\n"
     ]
    },
    {
     "data": {
      "text/plain": [
       "260200.0"
      ]
     },
     "execution_count": 31,
     "metadata": {},
     "output_type": "execute_result"
    }
   ],
   "source": [
    "# Chamada do Solver\n",
    "optimize!(m3a)\n",
    "@show value(T)\n",
    "@show value(N)\n",
    "@show value(P)\n",
    "@show value(S)\n",
    "@show value(G)\n",
    "@show value(L)\n",
    "@show value(B)\n",
    "\n",
    "@show objective_value(m3a)"
   ]
  },
  {
   "cell_type": "markdown",
   "metadata": {},
   "source": [
    "item b) Nesse item o objetivo é minimizar o salário do funcionário mais bem pago. "
   ]
  },
  {
   "cell_type": "code",
   "execution_count": 32,
   "metadata": {},
   "outputs": [
    {
     "name": "stdout",
     "output_type": "stream",
     "text": [
      "Min sal_max\n",
      "Subject to\n",
      " -G + L = 200.0\n",
      " T ≥ 20000.0\n",
      " -T + N ≥ 5000.0\n",
      " -T + P ≥ 5000.0\n",
      " -T + S ≥ 5000.0\n",
      " -T - P + G ≥ 0.0\n",
      " -2 T + N - 2 P + S ≥ 0.0\n",
      " -P + B ≥ 0.0\n",
      " -S + B ≥ 0.0\n",
      " P + B ≥ 60000.0\n",
      " -T + sal_max ≥ 0.0\n",
      " -N + sal_max ≥ 0.0\n",
      " -P + sal_max ≥ 0.0\n",
      " -S + sal_max ≥ 0.0\n",
      " -G + sal_max ≥ 0.0\n",
      " -L + sal_max ≥ 0.0\n",
      " -B + sal_max ≥ 0.0\n",
      " -T + L - B ≤ 0.0\n",
      " T ≥ 0.0\n",
      " N ≥ 0.0\n",
      " P ≥ 0.0\n",
      " S ≥ 0.0\n",
      " G ≥ 0.0\n",
      " L ≥ 0.0\n",
      " B ≥ 0.0\n",
      " sal_max ≥ 0.0\n"
     ]
    }
   ],
   "source": [
    "# Modelo e Solver\n",
    "m3b = Model(GLPK.Optimizer)\n",
    "\n",
    "# Variaveis representando os funcionários\n",
    "@variable(m3b, T >= 0)\n",
    "@variable(m3b, N >= 0)\n",
    "@variable(m3b, P >= 0)\n",
    "@variable(m3b, S >= 0)\n",
    "@variable(m3b, G >= 0)\n",
    "@variable(m3b, L >= 0)\n",
    "@variable(m3b, B >= 0)\n",
    "@variable(m3b, sal_max >= 0)\n",
    "\n",
    "f = [T N P S G L B]\n",
    "\n",
    "# Restrições de salário que cada funcionário espera receber\n",
    "@constraint(m3b, T >= 20000)\n",
    "@constraint(m3b, N >= T + 5000)\n",
    "@constraint(m3b, P >= T + 5000)\n",
    "@constraint(m3b, S >= T + 5000)\n",
    "@constraint(m3b, G >= T + P)\n",
    "@constraint(m3b, L == G + 200)\n",
    "@constraint(m3b, N + S >= 2*(T + P))\n",
    "@constraint(m3b, B >= P)\n",
    "@constraint(m3b, B >= S)\n",
    "@constraint(m3b, B + P >= 60000)\n",
    "@constraint(m3b, L <= B + T)\n",
    "\n",
    "#Restrição para que a váriavel sal_max seja maior ou igual a todos os salários\n",
    "@constraint(m3b, [i = 1:7], sal_max >= f[i])\n",
    "\n",
    "# Função objetivo que minimiza a variável sal_max e consequentemente minimiza o maior salário que pode ser\n",
    "#recebido por um funcionário\n",
    "@objective(m3b, Min,sal_max)\n",
    "\n",
    "print(m3b)"
   ]
  },
  {
   "cell_type": "code",
   "execution_count": 33,
   "metadata": {},
   "outputs": [
    {
     "name": "stdout",
     "output_type": "stream",
     "text": [
      "value(T) = 20000.0\n",
      "value(N) = 44800.0\n",
      "value(P) = 25000.0\n",
      "value(S) = 45200.0\n",
      "value(G) = 45000.0\n",
      "value(L) = 45200.0\n",
      "value(B) = 45200.0\n",
      "value(sal_max) = 45200.0\n",
      "value(T + N + P + S + G + L + B) = 270400.0\n",
      "objective_value(m3b) = 45200.0\n"
     ]
    },
    {
     "data": {
      "text/plain": [
       "45200.0"
      ]
     },
     "execution_count": 33,
     "metadata": {},
     "output_type": "execute_result"
    }
   ],
   "source": [
    "# Chamada do Solver\n",
    "optimize!(m3b)\n",
    "@show value(T)\n",
    "@show value(N)\n",
    "@show value(P)\n",
    "@show value(S)\n",
    "@show value(G)\n",
    "@show value(L)\n",
    "@show value(B)\n",
    "@show value(sal_max)\n",
    "@show value(T + N + P + S + G + L + B)\n",
    "\n",
    "@show objective_value(m3b)"
   ]
  },
  {
   "cell_type": "markdown",
   "metadata": {},
   "source": [
    "item c) Aqui o item pede para comentar sobre a relação entre as soluções dos itens a e b. O valor total do salário obtido foi diferente. Podemos perceber que minimizar o maior salário não implica minizar a soma dos salários, pois é possível \"compensar\" o que foi minimizado nesse salário aumentando outros e ainda respeitando as restrições."
   ]
  },
  {
   "cell_type": "markdown",
   "metadata": {},
   "source": [
    "## Seção 1.3"
   ]
  },
  {
   "cell_type": "markdown",
   "metadata": {},
   "source": [
    "### Questão 1"
   ]
  },
  {
   "cell_type": "markdown",
   "metadata": {},
   "source": [
    "item a)"
   ]
  },
  {
   "cell_type": "code",
   "execution_count": 6,
   "metadata": {},
   "outputs": [
    {
     "name": "stdout",
     "output_type": "stream",
     "text": [
      "Max 0.55 x[1] + 0.6 x[2] + 0.7 x[3] + 0.75 x[4] + 0.85 x[5] + 0.9 x[6] + 0.95 x[7]\n",
      "Subject to\n",
      " 0.55 x[1] + 0.6 x[2] + 0.7 x[3] + 0.75 x[4] + 0.85 x[5] + 0.9 x[6] + 0.95 x[7] ≤ 3.6\n",
      " x[1] binary\n",
      " x[2] binary\n",
      " x[3] binary\n",
      " x[4] binary\n",
      " x[5] binary\n",
      " x[6] binary\n",
      " x[7] binary\n"
     ]
    }
   ],
   "source": [
    "# Modelo e Solver\n",
    "model1a = Model(GLPK.Optimizer)\n",
    "\n",
    "# Variaveis\n",
    "@variable(model1a,x[1:7], Bin)\n",
    "\n",
    "# Restrições\n",
    "v = [ 0.55 0.6 0.7 0.75 0.85 0.9 0.95]\n",
    "\n",
    "@constraint(model1a, sum(x[i]*v[i] for i=1:7) <= 3.6)\n",
    "\n",
    "# Função objetivo\n",
    "@objective(model1a,Max,sum(x[i]*v[i] for i=1:7))\n",
    "\n",
    "print(model1a)"
   ]
  },
  {
   "cell_type": "markdown",
   "metadata": {},
   "source": [
    "item b)"
   ]
  },
  {
   "cell_type": "code",
   "execution_count": 40,
   "metadata": {},
   "outputs": [
    {
     "data": {
      "text/latex": [
       "$$ 0.55 x_{1,1} + 0.55 x_{1,2} + 0.55 x_{1,3} + 0.6 x_{2,1} + 0.6 x_{2,2} + 0.6 x_{2,3} + 0.7 x_{3,1} + 0.7 x_{3,2} + 0.7 x_{3,3} + 0.75 x_{4,1} + 0.75 x_{4,2} + 0.75 x_{4,3} + 0.85 x_{5,1} + 0.85 x_{5,2} + 0.85 x_{5,3} + 0.9 x_{6,1} + 0.9 x_{6,2} + 0.9 x_{6,3} + 0.95 x_{7,1} + 0.95 x_{7,2} + 0.95 x_{7,3} + 0.55 x_{8,1} + 0.55 x_{8,2} + 0.55 x_{8,3} + 0.6 x_{9,1} + 0.6 x_{9,2} + 0.6 x_{9,3} + 0.7 x_{10,1} + 0.7 x_{10,2} + 0.7 x_{10,3} + 0.75 x_{11,1} + 0.75 x_{11,2} + 0.75 x_{11,3} + 0.85 x_{12,1} + 0.85 x_{12,2} + 0.85 x_{12,3} + 0.9 x_{13,1} + 0.9 x_{13,2} + 0.9 x_{13,3} + 0.95 x_{14,1} + 0.95 x_{14,2} + 0.95 x_{14,3} $$"
      ],
      "text/plain": [
       "0.55 x[1,1] + 0.55 x[1,2] + 0.55 x[1,3] + 0.6 x[2,1] + 0.6 x[2,2] + 0.6 x[2,3] + 0.7 x[3,1] + 0.7 x[3,2] + 0.7 x[3,3] + 0.75 x[4,1] + 0.75 x[4,2] + 0.75 x[4,3] + 0.85 x[5,1] + 0.85 x[5,2] + 0.85 x[5,3] + 0.9 x[6,1] + 0.9 x[6,2] + 0.9 x[6,3] + 0.95 x[7,1] + 0.95 x[7,2] + 0.95 x[7,3] + 0.55 x[8,1] + 0.55 x[8,2] + 0.55 x[8,3] + 0.6 x[9,1] + 0.6 x[9,2] + 0.6 x[9,3] + 0.7 x[10,1] + 0.7 x[10,2] + 0.7 x[10,3] + 0.75 x[11,1] + 0.75 x[11,2] + 0.75 x[11,3] + 0.85 x[12,1] + 0.85 x[12,2] + 0.85 x[12,3] + 0.9 x[13,1] + 0.9 x[13,2] + 0.9 x[13,3] + 0.95 x[14,1] + 0.95 x[14,2] + 0.95 x[14,3]"
      ]
     },
     "execution_count": 40,
     "metadata": {},
     "output_type": "execute_result"
    }
   ],
   "source": [
    "# Modelo e Solver\n",
    "model1 = Model(GLPK.Optimizer)\n",
    "\n",
    "# Variaveis\n",
    "@variable(model1,x[1:14, 1:3], Bin)\n",
    "\n",
    "# Restrições\n",
    "v = [ 0.55 0.6 0.7 0.75 0.85 0.9 0.95 0.55 0.6 0.7 0.75 0.85 0.9 0.95]\n",
    "\n",
    "@constraint(model1, constraint[j=1:3], sum(x[i,j]*v[i] for i=1:14) <= 3.6)\n",
    "@constraint(model1, cons[l=1:14], sum(x[l,j] for j=1:3) == 1)\n",
    "\n",
    "\n",
    "# Função objetivo\n",
    "@objective(model1,Max,sum(x[i,1]*v[i] + x[i,2]*v[i] + x[i,3]*v[i]  for i=1:14))\n",
    "\n",
    "#print(model1)"
   ]
  },
  {
   "cell_type": "code",
   "execution_count": 42,
   "metadata": {},
   "outputs": [
    {
     "name": "stdout",
     "output_type": "stream",
     "text": [
      "Optimal Solutions:\n",
      "x[1, 1] = 0.0\n",
      "x[1, 2] = 0.0\n",
      "x[1, 3] = 1.0\n",
      "x[2, 1] = 1.0\n",
      "x[2, 2] = 0.0\n",
      "x[2, 3] = 0.0\n",
      "x[3, 1] = 1.0\n",
      "x[3, 2] = 0.0\n",
      "x[3, 3] = 0.0\n",
      "x[4, 1] = 1.0\n",
      "x[4, 2] = 0.0\n",
      "x[4, 3] = 0.0\n",
      "x[5, 1] = 0.0\n",
      "x[5, 2] = 0.0\n",
      "x[5, 3] = 1.0\n",
      "x[6, 1] = 0.0\n",
      "x[6, 2] = 1.0\n",
      "x[6, 3] = 0.0\n",
      "x[7, 1] = 0.0\n",
      "x[7, 2] = 0.0\n",
      "x[7, 3] = 1.0\n",
      "x[8, 1] = 0.0\n",
      "x[8, 2] = 0.0\n",
      "x[8, 3] = 1.0\n",
      "x[9, 1] = 1.0\n",
      "x[9, 2] = 0.0\n",
      "x[9, 3] = 0.0\n",
      "x[10, 1] = 0.0\n",
      "x[10, 2] = 0.0\n",
      "x[10, 3] = 1.0\n",
      "x[11, 1] = 0.0\n",
      "x[11, 2] = 1.0\n",
      "x[11, 3] = 0.0\n",
      "x[12, 1] = 0.0\n",
      "x[12, 2] = 1.0\n",
      "x[12, 3] = 0.0\n",
      "x[13, 1] = 0.0\n",
      "x[13, 2] = 1.0\n",
      "x[13, 3] = 0.0\n",
      "x[14, 1] = 1.0\n",
      "x[14, 2] = 0.0\n",
      "x[14, 3] = 0.0\n",
      "objective_value(model1) = 10.6\n"
     ]
    },
    {
     "data": {
      "text/plain": [
       "10.6"
      ]
     },
     "execution_count": 42,
     "metadata": {},
     "output_type": "execute_result"
    }
   ],
   "source": [
    "# Chamada do Solver\n",
    "optimize!(model1)\n",
    "\n",
    "println(\"Optimal Solutions:\")\n",
    "for i=1:14\n",
    "    println(\"x[$i, 1] = \", getvalue(x[i, 1]))\n",
    "    println(\"x[$i, 2] = \", getvalue(x[i, 2]))\n",
    "    println(\"x[$i, 3] = \", getvalue(x[i, 3]))\n",
    "end\n",
    "\n",
    "\n",
    "@show objective_value(model1)"
   ]
  },
  {
   "cell_type": "markdown",
   "metadata": {},
   "source": [
    "### Questão 2"
   ]
  },
  {
   "cell_type": "markdown",
   "metadata": {},
   "source": [
    "Nessa questão precisamos alocar os salva-vidas de modo que em cada período de hora haja pelo menos um disponível. Para cada hora existe um certo grupo de salva-vidas que poderia atuar. Observe que na hora 1,2 e 3 são os mesmos disponíveis, por isso podemos colocar a restrição, que é a soma das variáveis binárias que representam os profissionais, apenas uma vez."
   ]
  },
  {
   "cell_type": "code",
   "execution_count": 35,
   "metadata": {},
   "outputs": [
    {
     "name": "stdout",
     "output_type": "stream",
     "text": [
      "Min 30 S[1] + 18 S[2] + 21 S[3] + 38 S[4] + 20 S[5] + 22 S[6] + 9 S[7]\n",
      "Subject to\n",
      " S[1] + S[2] ≥ 1.0\n",
      " S[1] ≥ 1.0\n",
      " S[1] + S[3] + S[4] ≥ 1.0\n",
      " S[3] + S[4] + S[6] ≥ 1.0\n",
      " S[3] + S[4] + S[5] + S[6] ≥ 1.0\n",
      " S[4] + S[5] + S[6] ≥ 1.0\n",
      " S[4] + S[5] + S[7] ≥ 1.0\n",
      " S[1] binary\n",
      " S[2] binary\n",
      " S[3] binary\n",
      " S[4] binary\n",
      " S[5] binary\n",
      " S[6] binary\n",
      " S[7] binary\n"
     ]
    }
   ],
   "source": [
    "# Modelo e Solver\n",
    "model2 = Model(GLPK.Optimizer)\n",
    "\n",
    "# Variaveis\n",
    "@variable(model2,S[1:7], Bin)\n",
    "\n",
    "# Restrições\n",
    "r = [30 18 21 38 20 22 9]\n",
    "@constraint(model2, S[1] + S[2] >= 1) #h1, h2\n",
    "@constraint(model2, S[1] >= 1) #h3\n",
    "@constraint(model2, S[1] + S[3] + S[4] >= 1) #h4\n",
    "@constraint(model2, S[3] + S[4] + S[6] >= 1) #h5\n",
    "@constraint(model2, S[3] + S[4] + S[5] + S[6] >= 1) #h6\n",
    "@constraint(model2, S[4] + S[5] + S[6] >= 1) #h7\n",
    "@constraint(model2, S[4] + S[5] + S[7] >= 1) #h8\n",
    "\n",
    "# Função objetivo\n",
    "@objective(model2,Min,sum(S[i]*r[i]  for i=1:7))\n",
    "\n",
    "print(model2)"
   ]
  },
  {
   "cell_type": "code",
   "execution_count": 36,
   "metadata": {},
   "outputs": [
    {
     "name": "stdout",
     "output_type": "stream",
     "text": [
      "Optimal Solutions:\n",
      "S[1] = 1.0\n",
      "S[2] = 0.0\n",
      "S[3] = 0.0\n",
      "S[4] = 0.0\n",
      "S[5] = 0.0\n",
      "S[6] = 1.0\n",
      "S[7] = 1.0\n",
      "objective_value(model2) = 61.0\n"
     ]
    },
    {
     "data": {
      "text/plain": [
       "61.0"
      ]
     },
     "execution_count": 36,
     "metadata": {},
     "output_type": "execute_result"
    }
   ],
   "source": [
    "# Chamada do Solver\n",
    "optimize!(model2)\n",
    "\n",
    "println(\"Optimal Solutions:\")\n",
    "for i=1:7\n",
    "    println(\"S[$i] = \", getvalue(S[i]))\n",
    "end\n",
    "\n",
    "\n",
    "@show objective_value(model2)"
   ]
  },
  {
   "cell_type": "markdown",
   "metadata": {},
   "source": [
    "### Questão 3"
   ]
  },
  {
   "cell_type": "markdown",
   "metadata": {},
   "source": [
    "item a)"
   ]
  },
  {
   "cell_type": "code",
   "execution_count": 39,
   "metadata": {},
   "outputs": [
    {
     "name": "stdout",
     "output_type": "stream",
     "text": [
      "Max 60 I[1] + 70 I[2] + 40 I[3] + 70 I[4] + 16 I[5] + 100 I[6]\n",
      "Subject to\n",
      " 6 I[1] + 7 I[2] + 4 I[3] + 9 I[4] + 3 I[5] + 8 I[6] ≤ 20.0\n",
      " I[1] binary\n",
      " I[2] binary\n",
      " I[3] binary\n",
      " I[4] binary\n",
      " I[5] binary\n",
      " I[6] binary\n"
     ]
    }
   ],
   "source": [
    "# Modelo e Solver\n",
    "model3a = Model(GLPK.Optimizer)\n",
    "\n",
    "# Variaveis\n",
    "@variable(model3a,I[1:6], Bin)\n",
    "\n",
    "# Restrições\n",
    "w = [6 7 4 9 3 8]\n",
    "v = [60 70 40 70 16 100]\n",
    "\n",
    "@constraint(model3a, sum(I[i]*w[i]  for i=1:6) <= 20)\n",
    "\n",
    "# Função objetivo\n",
    "@objective(model3a,Max,sum(I[i]*v[i]  for i=1:6))\n",
    "\n",
    "print(model3a)"
   ]
  },
  {
   "cell_type": "markdown",
   "metadata": {},
   "source": [
    "item b)"
   ]
  },
  {
   "cell_type": "code",
   "execution_count": 67,
   "metadata": {},
   "outputs": [
    {
     "name": "stdout",
     "output_type": "stream",
     "text": [
      "Max 60 I[1] + 70 I[2] + 40 I[3] + 70 I[4] + 16 I[5] + 100 I[6]\n",
      "Subject to\n",
      " -I[1] + I[4] ≤ 0.0\n",
      " 6 I[1] + 7 I[2] + 4 I[3] + 9 I[4] + 3 I[5] + 8 I[6] ≤ 20.0\n",
      " I[1] binary\n",
      " I[2] binary\n",
      " I[3] binary\n",
      " I[4] binary\n",
      " I[5] binary\n",
      " I[6] binary\n"
     ]
    }
   ],
   "source": [
    "# Modelo e Solver\n",
    "model3b = Model(GLPK.Optimizer)\n",
    "\n",
    "# Variaveis\n",
    "@variable(model3b, I[1:6], Bin)\n",
    "\n",
    "# Restrições\n",
    "w = [6 7 4 9 3 8]\n",
    "v = [60 70 40 70 16 100]\n",
    "\n",
    "#Adicionamos a restrição que implica que caso o item A não seja levado, não se pode levar o item D\n",
    "@constraint(model3b, I[4] <= I[1])\n",
    "@constraint(model3b, sum(I[i]*w[i]  for i=1:6) <= 20)\n",
    "\n",
    "\n",
    "# Função objetivo\n",
    "@objective(model3b,Max,sum(I[i]*v[i]  for i=1:6))\n",
    "\n",
    "print(model3b)"
   ]
  },
  {
   "cell_type": "code",
   "execution_count": 69,
   "metadata": {},
   "outputs": [
    {
     "name": "stdout",
     "output_type": "stream",
     "text": [
      "Optimal Solutions:\n",
      "I[1] = 0.0\n",
      "I[2] = 1.0\n",
      "I[3] = 1.0\n",
      "I[4] = 0.0\n",
      "I[5] = 0.0\n",
      "I[6] = 1.0\n",
      "objective_value(model3b) = 210.0\n"
     ]
    },
    {
     "data": {
      "text/plain": [
       "210.0"
      ]
     },
     "execution_count": 69,
     "metadata": {},
     "output_type": "execute_result"
    }
   ],
   "source": [
    "# Chamada do Solver\n",
    "optimize!(model3b)\n",
    "\n",
    "println(\"Optimal Solutions:\")\n",
    "for i=1:6\n",
    "    println(\"I[$i] = \", getvalue(I[i]))\n",
    "end\n",
    "\n",
    "@show objective_value(model3b)"
   ]
  },
  {
   "cell_type": "markdown",
   "metadata": {},
   "source": [
    "item c)"
   ]
  },
  {
   "cell_type": "code",
   "execution_count": 53,
   "metadata": {},
   "outputs": [
    {
     "name": "stdout",
     "output_type": "stream",
     "text": [
      "Max 60 I[1] + 70 I[2] + 40 I[3] + 70 I[4] + 16 I[5] + 100 I[6] - 15 E\n",
      "Subject to\n",
      " -6 I[1] - 7 I[2] - 4 I[3] - 9 I[4] - 3 I[5] - 8 I[6] + E ≥ -20.0\n",
      " E ≥ 0.0\n",
      " E integer\n",
      " I[1] binary\n",
      " I[2] binary\n",
      " I[3] binary\n",
      " I[4] binary\n",
      " I[5] binary\n",
      " I[6] binary\n"
     ]
    }
   ],
   "source": [
    "# Modelo e Solver\n",
    "model3c = Model(GLPK.Optimizer)\n",
    "\n",
    "# Variaveis\n",
    "@variable(model3c, I[1:6], Bin)\n",
    "@variable(model3c, E >= 0, Int) #Representa os quilos extras\n",
    "\n",
    "# Restrições\n",
    "w = [6 7 4 9 3 8]\n",
    "v = [60 70 40 70 16 100]\n",
    "\n",
    "@constraint(model3c, E >= sum(I[i]*w[i]  for i=1:6) - 20)\n",
    "\n",
    "# Função objetivo\n",
    "@objective(model3c,Max,sum(I[i]*v[i] for i=1:6) - E*15)\n",
    "\n",
    "print(model3c)"
   ]
  },
  {
   "cell_type": "code",
   "execution_count": 55,
   "metadata": {},
   "outputs": [
    {
     "name": "stdout",
     "output_type": "stream",
     "text": [
      "Optimal Solutions:\n",
      "I[1] = 1.0\n",
      "I[2] = 1.0\n",
      "I[3] = 0.0\n",
      "I[4] = 0.0\n",
      "I[5] = 0.0\n",
      "I[6] = 1.0\n",
      "value(E) = 1.0\n",
      "objective_value(model3c) = 215.0\n"
     ]
    },
    {
     "data": {
      "text/plain": [
       "215.0"
      ]
     },
     "execution_count": 55,
     "metadata": {},
     "output_type": "execute_result"
    }
   ],
   "source": [
    "# Chamada do Solver\n",
    "optimize!(model3c)\n",
    "\n",
    "println(\"Optimal Solutions:\")\n",
    "for i=1:6\n",
    "    println(\"I[$i] = \", getvalue(I[i]))\n",
    "end\n",
    "\n",
    "@show value(E)\n",
    "@show objective_value(model3c)"
   ]
  }
 ],
 "metadata": {
  "kernelspec": {
   "display_name": "Julia 1.5.3",
   "language": "julia",
   "name": "julia-1.5"
  },
  "language_info": {
   "file_extension": ".jl",
   "mimetype": "application/julia",
   "name": "julia",
   "version": "1.5.3"
  }
 },
 "nbformat": 4,
 "nbformat_minor": 4
}
