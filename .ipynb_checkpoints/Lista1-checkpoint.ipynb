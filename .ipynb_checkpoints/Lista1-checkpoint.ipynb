{
 "cells": [
  {
   "cell_type": "markdown",
   "metadata": {},
   "source": [
    "## Programação Linear e Inteira\n",
    "### Professor Luciano Monteiro\n",
    "### Cristiana Couto"
   ]
  },
  {
   "cell_type": "markdown",
   "metadata": {},
   "source": [
    "## Seção 1.2\n",
    "### Questão 1 "
   ]
  },
  {
   "cell_type": "code",
   "execution_count": 2,
   "metadata": {},
   "outputs": [],
   "source": [
    "using JuMP, GLPK"
   ]
  },
  {
   "cell_type": "code",
   "execution_count": 3,
   "metadata": {},
   "outputs": [
    {
     "data": {
      "text/latex": [
       "$$ \\begin{alignat*}{1}\\min\\quad & 0.14 f1 + 0.12 f2 + 0.2 f3 + 0.75 f4 + 0.15 f5\\\\\n",
       "\\text{Subject to} \\quad & 23 f1 + 171 f2 + 65 f3 + 112 f4 + 188 f5 \\geq 2000.0\\\\\n",
       " & 0.1 f1 + 0.2 f2 + 9.3 f4 + 16 f5 \\geq 50.0\\\\\n",
       " & 0.6 f1 + 3.7 f2 + 2.2 f3 + 7 f4 + 7.7 f5 \\geq 100.0\\\\\n",
       " & 6 f1 + 30 f2 + 13 f3 + 2 f5 \\geq 250.0\\\\\n",
       " & f1 \\geq 0.0\\\\\n",
       " & f2 \\geq 0.0\\\\\n",
       " & f3 \\geq 0.0\\\\\n",
       " & f4 \\geq 0.0\\\\\n",
       " & f5 \\geq 0.0\\\\\n",
       "\\end{alignat*}\n",
       " $$"
      ],
      "text/plain": [
       "A JuMP Model\n",
       "Minimization problem with:\n",
       "Variables: 5\n",
       "Objective function type: GenericAffExpr{Float64,VariableRef}\n",
       "`GenericAffExpr{Float64,VariableRef}`-in-`MathOptInterface.GreaterThan{Float64}`: 4 constraints\n",
       "`VariableRef`-in-`MathOptInterface.GreaterThan{Float64}`: 5 constraints\n",
       "Model mode: AUTOMATIC\n",
       "CachingOptimizer state: EMPTY_OPTIMIZER\n",
       "Solver name: GLPK\n",
       "Names registered in the model: f1, f2, f3, f4, f5"
      ]
     },
     "execution_count": 3,
     "metadata": {},
     "output_type": "execute_result"
    }
   ],
   "source": [
    "# Modelo e Solver\n",
    "model = Model(GLPK.Optimizer)\n",
    "\n",
    "# Variaveis que representam as comidas, onde f1 é a primeira da tabela e assim por diante \n",
    "@variable(model,f1>=0)\n",
    "@variable(model,f2>=0)\n",
    "@variable(model,f3>=0)\n",
    "@variable(model,f4>=0)\n",
    "@variable(model,f5>=0)\n",
    "\n",
    "# Restrições\n",
    "@constraint(model,23*f1 + 171*f2 + 65*f3 + 112*f4 + 188*f5 >= 2000)\n",
    "@constraint(model, 0.1*f1 + 0.2*f2 + 9.3*f4 + 16*f5 >= 50)\n",
    "@constraint(model, 0.6*f1 + 3.7*f2 + 2.2*f3 + 7*f4 + 7.7*f5 >= 100)\n",
    "@constraint(model, 6*f1 + 30*f2 + 13*f3 + 2*f5 >= 250)\n",
    "\n",
    "# Função objetivo\n",
    "@objective(model,Min,0.14*f1 + 0.12*f2 + 0.2*f3 + 0.75*f4 + 0.15*f5)\n",
    "\n",
    "model"
   ]
  },
  {
   "cell_type": "markdown",
   "metadata": {},
   "source": [
    "Com a formulação do problema como LP é possível determinar a quantidade de cada alimento obedecendo as restrições nutricionais e minimizando os gastos."
   ]
  },
  {
   "cell_type": "markdown",
   "metadata": {},
   "source": [
    "### Questão 3"
   ]
  },
  {
   "cell_type": "markdown",
   "metadata": {},
   "source": [
    "item a)"
   ]
  },
  {
   "cell_type": "code",
   "execution_count": 4,
   "metadata": {},
   "outputs": [
    {
     "data": {
      "text/latex": [
       "$$ \\begin{alignat*}{1}\\min\\quad & T + N + P + S + G + L + B\\\\\n",
       "\\text{Subject to} \\quad & -G + L = 200.0\\\\\n",
       " & T \\geq 20000.0\\\\\n",
       " & -T + N \\geq 5000.0\\\\\n",
       " & -T + P \\geq 5000.0\\\\\n",
       " & -T + S \\geq 5000.0\\\\\n",
       " & -T - P + G \\geq 0.0\\\\\n",
       " & -2 T + N - 2 P + S \\geq 0.0\\\\\n",
       " & -P + B \\geq 0.0\\\\\n",
       " & -S + B \\geq 0.0\\\\\n",
       " & P + B \\geq 60000.0\\\\\n",
       " & -T + L - B \\leq 0.0\\\\\n",
       " & T \\geq 0.0\\\\\n",
       " & N \\geq 0.0\\\\\n",
       " & P \\geq 0.0\\\\\n",
       " & S \\geq 0.0\\\\\n",
       " & G \\geq 0.0\\\\\n",
       " & L \\geq 0.0\\\\\n",
       " & B \\geq 0.0\\\\\n",
       "\\end{alignat*}\n",
       " $$"
      ],
      "text/plain": [
       "A JuMP Model\n",
       "Minimization problem with:\n",
       "Variables: 7\n",
       "Objective function type: GenericAffExpr{Float64,VariableRef}\n",
       "`GenericAffExpr{Float64,VariableRef}`-in-`MathOptInterface.EqualTo{Float64}`: 1 constraint\n",
       "`GenericAffExpr{Float64,VariableRef}`-in-`MathOptInterface.GreaterThan{Float64}`: 9 constraints\n",
       "`GenericAffExpr{Float64,VariableRef}`-in-`MathOptInterface.LessThan{Float64}`: 1 constraint\n",
       "`VariableRef`-in-`MathOptInterface.GreaterThan{Float64}`: 7 constraints\n",
       "Model mode: AUTOMATIC\n",
       "CachingOptimizer state: EMPTY_OPTIMIZER\n",
       "Solver name: GLPK\n",
       "Names registered in the model: B, G, L, N, P, S, T"
      ]
     },
     "execution_count": 4,
     "metadata": {},
     "output_type": "execute_result"
    }
   ],
   "source": [
    "# Modelo e Solver\n",
    "m3a = Model(GLPK.Optimizer)\n",
    "\n",
    "# Variaveis representando os funcionários\n",
    "@variable(m3a, T >= 0)\n",
    "@variable(m3a, N >= 0)\n",
    "@variable(m3a, P >= 0)\n",
    "@variable(m3a, S >= 0)\n",
    "@variable(m3a, G >= 0)\n",
    "@variable(m3a, L >= 0)\n",
    "@variable(m3a, B >= 0)\n",
    "\n",
    "# Restrições de salário que cada funcionário espera receber\n",
    "@constraint(m3a, T >= 20000)\n",
    "@constraint(m3a, N >= T + 5000)\n",
    "@constraint(m3a, P >= T + 5000)\n",
    "@constraint(m3a, S >= T + 5000)\n",
    "@constraint(m3a, G >= T + P)\n",
    "@constraint(m3a, L == G + 200)\n",
    "@constraint(m3a, N + S >= 2*(T + P))\n",
    "@constraint(m3a, B >= P)\n",
    "@constraint(m3a, B >= S)\n",
    "@constraint(m3a, B + P >= 60000)\n",
    "@constraint(m3a, L <= B + T)\n",
    "\n",
    "\n",
    "# Função objetivo\n",
    "@objective(m3a, Min,T + N + P + S + G + L + B)\n",
    "\n",
    "m3a"
   ]
  },
  {
   "cell_type": "code",
   "execution_count": 5,
   "metadata": {},
   "outputs": [
    {
     "name": "stdout",
     "output_type": "stream",
     "text": [
      "value(T) = 20000.0\n",
      "value(N) = 55000.0\n",
      "value(P) = 25000.0\n",
      "value(S) = 35000.0\n",
      "value(G) = 45000.0\n",
      "value(L) = 45200.0\n",
      "value(B) = 35000.0\n",
      "objective_value(m3a) = 260200.0\n"
     ]
    },
    {
     "data": {
      "text/plain": [
       "260200.0"
      ]
     },
     "execution_count": 5,
     "metadata": {},
     "output_type": "execute_result"
    }
   ],
   "source": [
    "# Chamada do Solver\n",
    "optimize!(m3a)\n",
    "@show value(T)\n",
    "@show value(N)\n",
    "@show value(P)\n",
    "@show value(S)\n",
    "@show value(G)\n",
    "@show value(L)\n",
    "@show value(B)\n",
    "\n",
    "@show objective_value(m3a)"
   ]
  },
  {
   "cell_type": "markdown",
   "metadata": {},
   "source": [
    "item b) Nesse item o objetivo é minimizar o salário do funcionário mais bem pago. "
   ]
  },
  {
   "cell_type": "code",
   "execution_count": 6,
   "metadata": {},
   "outputs": [
    {
     "data": {
      "text/latex": [
       "$$ \\begin{alignat*}{1}\\min\\quad & sal\\_max\\\\\n",
       "\\text{Subject to} \\quad & -G + L = 200.0\\\\\n",
       " & T \\geq 20000.0\\\\\n",
       " & -T + N \\geq 5000.0\\\\\n",
       " & -T + P \\geq 5000.0\\\\\n",
       " & -T + S \\geq 5000.0\\\\\n",
       " & -T - P + G \\geq 0.0\\\\\n",
       " & -2 T + N - 2 P + S \\geq 0.0\\\\\n",
       " & -P + B \\geq 0.0\\\\\n",
       " & -S + B \\geq 0.0\\\\\n",
       " & P + B \\geq 60000.0\\\\\n",
       " & -T + sal\\_max \\geq 0.0\\\\\n",
       " & -N + sal\\_max \\geq 0.0\\\\\n",
       " & -P + sal\\_max \\geq 0.0\\\\\n",
       " & -S + sal\\_max \\geq 0.0\\\\\n",
       " & -G + sal\\_max \\geq 0.0\\\\\n",
       " & -L + sal\\_max \\geq 0.0\\\\\n",
       " & -B + sal\\_max \\geq 0.0\\\\\n",
       " & -T + L - B \\leq 0.0\\\\\n",
       " & T \\geq 0.0\\\\\n",
       " & N \\geq 0.0\\\\\n",
       " & P \\geq 0.0\\\\\n",
       " & S \\geq 0.0\\\\\n",
       " & G \\geq 0.0\\\\\n",
       " & L \\geq 0.0\\\\\n",
       " & B \\geq 0.0\\\\\n",
       " & sal\\_max \\geq 0.0\\\\\n",
       "\\end{alignat*}\n",
       " $$"
      ],
      "text/plain": [
       "A JuMP Model\n",
       "Minimization problem with:\n",
       "Variables: 8\n",
       "Objective function type: VariableRef\n",
       "`GenericAffExpr{Float64,VariableRef}`-in-`MathOptInterface.EqualTo{Float64}`: 1 constraint\n",
       "`GenericAffExpr{Float64,VariableRef}`-in-`MathOptInterface.GreaterThan{Float64}`: 16 constraints\n",
       "`GenericAffExpr{Float64,VariableRef}`-in-`MathOptInterface.LessThan{Float64}`: 1 constraint\n",
       "`VariableRef`-in-`MathOptInterface.GreaterThan{Float64}`: 8 constraints\n",
       "Model mode: AUTOMATIC\n",
       "CachingOptimizer state: EMPTY_OPTIMIZER\n",
       "Solver name: GLPK\n",
       "Names registered in the model: B, G, L, N, P, S, T, sal_max"
      ]
     },
     "execution_count": 6,
     "metadata": {},
     "output_type": "execute_result"
    }
   ],
   "source": [
    "# Modelo e Solver\n",
    "m3b = Model(GLPK.Optimizer)\n",
    "\n",
    "# Variaveis representando os funcionários\n",
    "@variable(m3b, T >= 0)\n",
    "@variable(m3b, N >= 0)\n",
    "@variable(m3b, P >= 0)\n",
    "@variable(m3b, S >= 0)\n",
    "@variable(m3b, G >= 0)\n",
    "@variable(m3b, L >= 0)\n",
    "@variable(m3b, B >= 0)\n",
    "@variable(m3b, sal_max >= 0)\n",
    "\n",
    "f = [T N P S G L B]\n",
    "\n",
    "# Restrições de salário que cada funcionário espera receber\n",
    "@constraint(m3b, T >= 20000)\n",
    "@constraint(m3b, N >= T + 5000)\n",
    "@constraint(m3b, P >= T + 5000)\n",
    "@constraint(m3b, S >= T + 5000)\n",
    "@constraint(m3b, G >= T + P)\n",
    "@constraint(m3b, L == G + 200)\n",
    "@constraint(m3b, N + S >= 2*(T + P))\n",
    "@constraint(m3b, B >= P)\n",
    "@constraint(m3b, B >= S)\n",
    "@constraint(m3b, B + P >= 60000)\n",
    "@constraint(m3b, L <= B + T)\n",
    "\n",
    "#Restrição para que a váriavel sal_max seja maior ou igual a todos os salários\n",
    "@constraint(m3b, [i = 1:7], sal_max >= f[i])\n",
    "\n",
    "# Função objetivo que minimiza a variável sal_max e consequentemente minimiza o maior salário que pode ser\n",
    "#recebido por um funcionário\n",
    "@objective(m3b, Min,sal_max)\n",
    "\n",
    "m3b"
   ]
  },
  {
   "cell_type": "code",
   "execution_count": 7,
   "metadata": {},
   "outputs": [
    {
     "name": "stdout",
     "output_type": "stream",
     "text": [
      "value(T) = 20000.0\n",
      "value(N) = 44800.0\n",
      "value(P) = 25000.0\n",
      "value(S) = 45200.0\n",
      "value(G) = 45000.0\n",
      "value(L) = 45200.0\n",
      "value(B) = 45200.0\n",
      "value(sal_max) = 45200.0\n",
      "value(T + N + P + S + G + L + B) = 270400.0\n",
      "objective_value(m3b) = 45200.0\n"
     ]
    },
    {
     "data": {
      "text/plain": [
       "45200.0"
      ]
     },
     "execution_count": 7,
     "metadata": {},
     "output_type": "execute_result"
    }
   ],
   "source": [
    "# Chamada do Solver\n",
    "optimize!(m3b)\n",
    "@show value(T)\n",
    "@show value(N)\n",
    "@show value(P)\n",
    "@show value(S)\n",
    "@show value(G)\n",
    "@show value(L)\n",
    "@show value(B)\n",
    "@show value(sal_max)\n",
    "@show value(T + N + P + S + G + L + B)\n",
    "\n",
    "@show objective_value(m3b)"
   ]
  },
  {
   "cell_type": "markdown",
   "metadata": {},
   "source": [
    "item c) Aqui o item pede para comentar sobre a relação entre as soluções dos itens a e b. O valor total do salário obtido foi diferente. Podemos perceber que minimizar o maior salário não implica minizar a soma dos salários, pois é possível \"compensar\" o que foi minimizado nesse salário aumentando outros e ainda respeitando as restrições."
   ]
  },
  {
   "cell_type": "markdown",
   "metadata": {},
   "source": [
    "## Seção 1.3"
   ]
  },
  {
   "cell_type": "markdown",
   "metadata": {},
   "source": [
    "### Questão 1"
   ]
  },
  {
   "cell_type": "markdown",
   "metadata": {},
   "source": [
    "item a)"
   ]
  },
  {
   "cell_type": "code",
   "execution_count": 8,
   "metadata": {},
   "outputs": [
    {
     "data": {
      "text/latex": [
       "$$ \\begin{alignat*}{1}\\max\\quad & 0.55 x_{1} + 0.6 x_{2} + 0.7 x_{3} + 0.75 x_{4} + 0.85 x_{5} + 0.9 x_{6} + 0.95 x_{7}\\\\\n",
       "\\text{Subject to} \\quad & 0.55 x_{1} + 0.6 x_{2} + 0.7 x_{3} + 0.75 x_{4} + 0.85 x_{5} + 0.9 x_{6} + 0.95 x_{7} \\leq 3.6\\\\\n",
       " & x_{1} binary\\\\\n",
       " & x_{2} binary\\\\\n",
       " & x_{3} binary\\\\\n",
       " & x_{4} binary\\\\\n",
       " & x_{5} binary\\\\\n",
       " & x_{6} binary\\\\\n",
       " & x_{7} binary\\\\\n",
       "\\end{alignat*}\n",
       " $$"
      ],
      "text/plain": [
       "A JuMP Model\n",
       "Maximization problem with:\n",
       "Variables: 7\n",
       "Objective function type: GenericAffExpr{Float64,VariableRef}\n",
       "`GenericAffExpr{Float64,VariableRef}`-in-`MathOptInterface.LessThan{Float64}`: 1 constraint\n",
       "`VariableRef`-in-`MathOptInterface.ZeroOne`: 7 constraints\n",
       "Model mode: AUTOMATIC\n",
       "CachingOptimizer state: EMPTY_OPTIMIZER\n",
       "Solver name: GLPK\n",
       "Names registered in the model: x"
      ]
     },
     "execution_count": 8,
     "metadata": {},
     "output_type": "execute_result"
    }
   ],
   "source": [
    "# Modelo e Solver\n",
    "model1a = Model(GLPK.Optimizer)\n",
    "\n",
    "# Variaveis\n",
    "@variable(model1a,x[1:7], Bin)\n",
    "\n",
    "# Restrições\n",
    "v = [ 0.55 0.6 0.7 0.75 0.85 0.9 0.95]\n",
    "\n",
    "@constraint(model1a, sum(x[i]*v[i] for i=1:7) <= 3.6)\n",
    "\n",
    "# Função objetivo\n",
    "@objective(model1a,Max,sum(x[i]*v[i] for i=1:7))\n",
    "\n",
    "model1a"
   ]
  },
  {
   "cell_type": "markdown",
   "metadata": {},
   "source": [
    "item b)"
   ]
  },
  {
   "cell_type": "code",
   "execution_count": 9,
   "metadata": {},
   "outputs": [
    {
     "data": {
      "text/latex": [
       "$$ 0.55 x_{1,1} + 0.55 x_{1,2} + 0.55 x_{1,3} + 0.6 x_{2,1} + 0.6 x_{2,2} + 0.6 x_{2,3} + 0.7 x_{3,1} + 0.7 x_{3,2} + 0.7 x_{3,3} + 0.75 x_{4,1} + 0.75 x_{4,2} + 0.75 x_{4,3} + 0.85 x_{5,1} + 0.85 x_{5,2} + 0.85 x_{5,3} + 0.9 x_{6,1} + 0.9 x_{6,2} + 0.9 x_{6,3} + 0.95 x_{7,1} + 0.95 x_{7,2} + 0.95 x_{7,3} + 0.55 x_{8,1} + 0.55 x_{8,2} + 0.55 x_{8,3} + 0.6 x_{9,1} + 0.6 x_{9,2} + 0.6 x_{9,3} + 0.7 x_{10,1} + 0.7 x_{10,2} + 0.7 x_{10,3} + 0.75 x_{11,1} + 0.75 x_{11,2} + 0.75 x_{11,3} + 0.85 x_{12,1} + 0.85 x_{12,2} + 0.85 x_{12,3} + 0.9 x_{13,1} + 0.9 x_{13,2} + 0.9 x_{13,3} + 0.95 x_{14,1} + 0.95 x_{14,2} + 0.95 x_{14,3} $$"
      ],
      "text/plain": [
       "0.55 x[1,1] + 0.55 x[1,2] + 0.55 x[1,3] + 0.6 x[2,1] + 0.6 x[2,2] + 0.6 x[2,3] + 0.7 x[3,1] + 0.7 x[3,2] + 0.7 x[3,3] + 0.75 x[4,1] + 0.75 x[4,2] + 0.75 x[4,3] + 0.85 x[5,1] + 0.85 x[5,2] + 0.85 x[5,3] + 0.9 x[6,1] + 0.9 x[6,2] + 0.9 x[6,3] + 0.95 x[7,1] + 0.95 x[7,2] + 0.95 x[7,3] + 0.55 x[8,1] + 0.55 x[8,2] + 0.55 x[8,3] + 0.6 x[9,1] + 0.6 x[9,2] + 0.6 x[9,3] + 0.7 x[10,1] + 0.7 x[10,2] + 0.7 x[10,3] + 0.75 x[11,1] + 0.75 x[11,2] + 0.75 x[11,3] + 0.85 x[12,1] + 0.85 x[12,2] + 0.85 x[12,3] + 0.9 x[13,1] + 0.9 x[13,2] + 0.9 x[13,3] + 0.95 x[14,1] + 0.95 x[14,2] + 0.95 x[14,3]"
      ]
     },
     "execution_count": 9,
     "metadata": {},
     "output_type": "execute_result"
    }
   ],
   "source": [
    "# Modelo e Solver\n",
    "model1 = Model(GLPK.Optimizer)\n",
    "\n",
    "# Variaveis\n",
    "@variable(model1,x[1:14, 1:3], Bin)\n",
    "\n",
    "# Restrições\n",
    "v = [ 0.55 0.6 0.7 0.75 0.85 0.9 0.95 0.55 0.6 0.7 0.75 0.85 0.9 0.95]\n",
    "\n",
    "@constraint(model1, constraint[j=1:3], sum(x[i,j]*v[i] for i=1:14) <= 3.6)\n",
    "@constraint(model1, cons[l=1:14], sum(x[l,j] for j=1:3) == 1)\n",
    "\n",
    "\n",
    "# Função objetivo\n",
    "@objective(model1,Max,sum(x[i,1]*v[i] + x[i,2]*v[i] + x[i,3]*v[i]  for i=1:14))\n",
    "\n",
    "#print(model1)"
   ]
  },
  {
   "cell_type": "code",
   "execution_count": 12,
   "metadata": {},
   "outputs": [
    {
     "name": "stdout",
     "output_type": "stream",
     "text": [
      "objective_value(model1) = 10.599999999999998\n"
     ]
    },
    {
     "data": {
      "text/plain": [
       "14×3 Array{Float64,2}:\n",
       " 0.0  1.0  0.0\n",
       " 0.0  0.0  1.0\n",
       " 0.0  1.0  0.0\n",
       " 1.0  0.0  0.0\n",
       " 0.0  0.0  1.0\n",
       " 1.0  0.0  0.0\n",
       " 1.0  0.0  0.0\n",
       " 0.0  1.0  0.0\n",
       " 0.0  0.0  1.0\n",
       " 0.0  0.0  1.0\n",
       " 0.0  0.0  1.0\n",
       " 0.0  1.0  0.0\n",
       " 0.0  1.0  0.0\n",
       " 1.0  0.0  0.0"
      ]
     },
     "execution_count": 12,
     "metadata": {},
     "output_type": "execute_result"
    }
   ],
   "source": [
    "# Chamada do Solver\n",
    "optimize!(model1)\n",
    "\n",
    "@show objective_value(model1)\n",
    "value.(x)"
   ]
  },
  {
   "cell_type": "markdown",
   "metadata": {},
   "source": [
    "### Questão 2"
   ]
  },
  {
   "cell_type": "markdown",
   "metadata": {},
   "source": [
    "Nessa questão precisamos alocar os salva-vidas de modo que em cada período de hora haja pelo menos um disponível. Para cada hora existe um certo grupo de salva-vidas que poderia atuar. Observe que na hora 1,2 e 3 são os mesmos disponíveis, por isso podemos colocar a restrição, que é a soma das variáveis binárias que representam os profissionais, apenas uma vez."
   ]
  },
  {
   "cell_type": "code",
   "execution_count": 13,
   "metadata": {},
   "outputs": [
    {
     "data": {
      "text/latex": [
       "$$ \\begin{alignat*}{1}\\min\\quad & 30 S_{1} + 18 S_{2} + 21 S_{3} + 38 S_{4} + 20 S_{5} + 22 S_{6} + 9 S_{7}\\\\\n",
       "\\text{Subject to} \\quad & S_{1} + S_{2} \\geq 1.0\\\\\n",
       " & S_{1} \\geq 1.0\\\\\n",
       " & S_{1} + S_{3} + S_{4} \\geq 1.0\\\\\n",
       " & S_{3} + S_{4} + S_{6} \\geq 1.0\\\\\n",
       " & S_{3} + S_{4} + S_{5} + S_{6} \\geq 1.0\\\\\n",
       " & S_{4} + S_{5} + S_{6} \\geq 1.0\\\\\n",
       " & S_{4} + S_{5} + S_{7} \\geq 1.0\\\\\n",
       " & S_{1} binary\\\\\n",
       " & S_{2} binary\\\\\n",
       " & S_{3} binary\\\\\n",
       " & S_{4} binary\\\\\n",
       " & S_{5} binary\\\\\n",
       " & S_{6} binary\\\\\n",
       " & S_{7} binary\\\\\n",
       "\\end{alignat*}\n",
       " $$"
      ],
      "text/plain": [
       "A JuMP Model\n",
       "Minimization problem with:\n",
       "Variables: 7\n",
       "Objective function type: GenericAffExpr{Float64,VariableRef}\n",
       "`GenericAffExpr{Float64,VariableRef}`-in-`MathOptInterface.GreaterThan{Float64}`: 7 constraints\n",
       "`VariableRef`-in-`MathOptInterface.ZeroOne`: 7 constraints\n",
       "Model mode: AUTOMATIC\n",
       "CachingOptimizer state: EMPTY_OPTIMIZER\n",
       "Solver name: GLPK\n",
       "Names registered in the model: S"
      ]
     },
     "execution_count": 13,
     "metadata": {},
     "output_type": "execute_result"
    }
   ],
   "source": [
    "# Modelo e Solver\n",
    "model2 = Model(GLPK.Optimizer)\n",
    "\n",
    "# Variaveis\n",
    "@variable(model2,S[1:7], Bin)\n",
    "\n",
    "# Restrições\n",
    "r = [30 18 21 38 20 22 9]\n",
    "@constraint(model2, S[1] + S[2] >= 1) #h1, h2\n",
    "@constraint(model2, S[1] >= 1) #h3\n",
    "@constraint(model2, S[1] + S[3] + S[4] >= 1) #h4\n",
    "@constraint(model2, S[3] + S[4] + S[6] >= 1) #h5\n",
    "@constraint(model2, S[3] + S[4] + S[5] + S[6] >= 1) #h6\n",
    "@constraint(model2, S[4] + S[5] + S[6] >= 1) #h7\n",
    "@constraint(model2, S[4] + S[5] + S[7] >= 1) #h8\n",
    "\n",
    "# Função objetivo\n",
    "@objective(model2,Min,sum(S[i]*r[i]  for i=1:7))\n",
    "\n",
    "model2"
   ]
  },
  {
   "cell_type": "code",
   "execution_count": 36,
   "metadata": {},
   "outputs": [
    {
     "name": "stdout",
     "output_type": "stream",
     "text": [
      "Optimal Solutions:\n",
      "S[1] = 1.0\n",
      "S[2] = 0.0\n",
      "S[3] = 0.0\n",
      "S[4] = 0.0\n",
      "S[5] = 0.0\n",
      "S[6] = 1.0\n",
      "S[7] = 1.0\n",
      "objective_value(model2) = 61.0\n"
     ]
    },
    {
     "data": {
      "text/plain": [
       "61.0"
      ]
     },
     "execution_count": 36,
     "metadata": {},
     "output_type": "execute_result"
    }
   ],
   "source": [
    "# Chamada do Solver\n",
    "optimize!(model2)\n",
    "\n",
    "println(\"Optimal Solutions:\")\n",
    "for i=1:7\n",
    "    println(\"S[$i] = \", getvalue(S[i]))\n",
    "end\n",
    "\n",
    "\n",
    "@show objective_value(model2)"
   ]
  },
  {
   "cell_type": "markdown",
   "metadata": {},
   "source": [
    "### Questão 3"
   ]
  },
  {
   "cell_type": "markdown",
   "metadata": {},
   "source": [
    "item a)"
   ]
  },
  {
   "cell_type": "code",
   "execution_count": 14,
   "metadata": {},
   "outputs": [
    {
     "data": {
      "text/latex": [
       "$$ \\begin{alignat*}{1}\\max\\quad & 60 I_{1} + 70 I_{2} + 40 I_{3} + 70 I_{4} + 16 I_{5} + 100 I_{6}\\\\\n",
       "\\text{Subject to} \\quad & 6 I_{1} + 7 I_{2} + 4 I_{3} + 9 I_{4} + 3 I_{5} + 8 I_{6} \\leq 20.0\\\\\n",
       " & I_{1} binary\\\\\n",
       " & I_{2} binary\\\\\n",
       " & I_{3} binary\\\\\n",
       " & I_{4} binary\\\\\n",
       " & I_{5} binary\\\\\n",
       " & I_{6} binary\\\\\n",
       "\\end{alignat*}\n",
       " $$"
      ],
      "text/plain": [
       "A JuMP Model\n",
       "Maximization problem with:\n",
       "Variables: 6\n",
       "Objective function type: GenericAffExpr{Float64,VariableRef}\n",
       "`GenericAffExpr{Float64,VariableRef}`-in-`MathOptInterface.LessThan{Float64}`: 1 constraint\n",
       "`VariableRef`-in-`MathOptInterface.ZeroOne`: 6 constraints\n",
       "Model mode: AUTOMATIC\n",
       "CachingOptimizer state: EMPTY_OPTIMIZER\n",
       "Solver name: GLPK\n",
       "Names registered in the model: I"
      ]
     },
     "execution_count": 14,
     "metadata": {},
     "output_type": "execute_result"
    }
   ],
   "source": [
    "# Modelo e Solver\n",
    "model3a = Model(GLPK.Optimizer)\n",
    "\n",
    "# Variaveis\n",
    "@variable(model3a,I[1:6], Bin)\n",
    "\n",
    "# Restrições\n",
    "w = [6 7 4 9 3 8]\n",
    "v = [60 70 40 70 16 100]\n",
    "\n",
    "@constraint(model3a, sum(I[i]*w[i]  for i=1:6) <= 20)\n",
    "\n",
    "# Função objetivo\n",
    "@objective(model3a,Max,sum(I[i]*v[i]  for i=1:6))\n",
    "\n",
    "model3a"
   ]
  },
  {
   "cell_type": "markdown",
   "metadata": {},
   "source": [
    "item b)"
   ]
  },
  {
   "cell_type": "code",
   "execution_count": 15,
   "metadata": {},
   "outputs": [
    {
     "data": {
      "text/latex": [
       "$$ \\begin{alignat*}{1}\\max\\quad & 60 I_{1} + 70 I_{2} + 40 I_{3} + 70 I_{4} + 16 I_{5} + 100 I_{6}\\\\\n",
       "\\text{Subject to} \\quad & -I_{1} + I_{4} \\leq 0.0\\\\\n",
       " & 6 I_{1} + 7 I_{2} + 4 I_{3} + 9 I_{4} + 3 I_{5} + 8 I_{6} \\leq 20.0\\\\\n",
       " & I_{1} binary\\\\\n",
       " & I_{2} binary\\\\\n",
       " & I_{3} binary\\\\\n",
       " & I_{4} binary\\\\\n",
       " & I_{5} binary\\\\\n",
       " & I_{6} binary\\\\\n",
       "\\end{alignat*}\n",
       " $$"
      ],
      "text/plain": [
       "A JuMP Model\n",
       "Maximization problem with:\n",
       "Variables: 6\n",
       "Objective function type: GenericAffExpr{Float64,VariableRef}\n",
       "`GenericAffExpr{Float64,VariableRef}`-in-`MathOptInterface.LessThan{Float64}`: 2 constraints\n",
       "`VariableRef`-in-`MathOptInterface.ZeroOne`: 6 constraints\n",
       "Model mode: AUTOMATIC\n",
       "CachingOptimizer state: EMPTY_OPTIMIZER\n",
       "Solver name: GLPK\n",
       "Names registered in the model: I"
      ]
     },
     "execution_count": 15,
     "metadata": {},
     "output_type": "execute_result"
    }
   ],
   "source": [
    "# Modelo e Solver\n",
    "model3b = Model(GLPK.Optimizer)\n",
    "\n",
    "# Variaveis\n",
    "@variable(model3b, I[1:6], Bin)\n",
    "\n",
    "# Restrições\n",
    "w = [6 7 4 9 3 8]\n",
    "v = [60 70 40 70 16 100]\n",
    "\n",
    "#Adicionamos a restrição que implica que caso o item A não seja levado, não se pode levar o item D\n",
    "@constraint(model3b, I[4] <= I[1])\n",
    "@constraint(model3b, sum(I[i]*w[i]  for i=1:6) <= 20)\n",
    "\n",
    "\n",
    "# Função objetivo\n",
    "@objective(model3b,Max,sum(I[i]*v[i]  for i=1:6))\n",
    "\n",
    "model3b"
   ]
  },
  {
   "cell_type": "code",
   "execution_count": 69,
   "metadata": {},
   "outputs": [
    {
     "name": "stdout",
     "output_type": "stream",
     "text": [
      "Optimal Solutions:\n",
      "I[1] = 0.0\n",
      "I[2] = 1.0\n",
      "I[3] = 1.0\n",
      "I[4] = 0.0\n",
      "I[5] = 0.0\n",
      "I[6] = 1.0\n",
      "objective_value(model3b) = 210.0\n"
     ]
    },
    {
     "data": {
      "text/plain": [
       "210.0"
      ]
     },
     "execution_count": 69,
     "metadata": {},
     "output_type": "execute_result"
    }
   ],
   "source": [
    "# Chamada do Solver\n",
    "optimize!(model3b)\n",
    "\n",
    "println(\"Optimal Solutions:\")\n",
    "for i=1:6\n",
    "    println(\"I[$i] = \", getvalue(I[i]))\n",
    "end\n",
    "\n",
    "@show objective_value(model3b)"
   ]
  },
  {
   "cell_type": "markdown",
   "metadata": {},
   "source": [
    "item c)"
   ]
  },
  {
   "cell_type": "code",
   "execution_count": 16,
   "metadata": {},
   "outputs": [
    {
     "data": {
      "text/latex": [
       "$$ \\begin{alignat*}{1}\\max\\quad & 60 I_{1} + 70 I_{2} + 40 I_{3} + 70 I_{4} + 16 I_{5} + 100 I_{6} - 15 E\\\\\n",
       "\\text{Subject to} \\quad & -6 I_{1} - 7 I_{2} - 4 I_{3} - 9 I_{4} - 3 I_{5} - 8 I_{6} + E \\geq -20.0\\\\\n",
       " & E \\geq 0.0\\\\\n",
       " & E integer\\\\\n",
       " & I_{1} binary\\\\\n",
       " & I_{2} binary\\\\\n",
       " & I_{3} binary\\\\\n",
       " & I_{4} binary\\\\\n",
       " & I_{5} binary\\\\\n",
       " & I_{6} binary\\\\\n",
       "\\end{alignat*}\n",
       " $$"
      ],
      "text/plain": [
       "A JuMP Model\n",
       "Maximization problem with:\n",
       "Variables: 7\n",
       "Objective function type: GenericAffExpr{Float64,VariableRef}\n",
       "`GenericAffExpr{Float64,VariableRef}`-in-`MathOptInterface.GreaterThan{Float64}`: 1 constraint\n",
       "`VariableRef`-in-`MathOptInterface.GreaterThan{Float64}`: 1 constraint\n",
       "`VariableRef`-in-`MathOptInterface.Integer`: 1 constraint\n",
       "`VariableRef`-in-`MathOptInterface.ZeroOne`: 6 constraints\n",
       "Model mode: AUTOMATIC\n",
       "CachingOptimizer state: EMPTY_OPTIMIZER\n",
       "Solver name: GLPK\n",
       "Names registered in the model: E, I"
      ]
     },
     "execution_count": 16,
     "metadata": {},
     "output_type": "execute_result"
    }
   ],
   "source": [
    "# Modelo e Solver\n",
    "model3c = Model(GLPK.Optimizer)\n",
    "\n",
    "# Variaveis\n",
    "@variable(model3c, I[1:6], Bin)\n",
    "@variable(model3c, E >= 0, Int) #Representa os quilos extras\n",
    "\n",
    "# Restrições\n",
    "w = [6 7 4 9 3 8]\n",
    "v = [60 70 40 70 16 100]\n",
    "\n",
    "@constraint(model3c, E >= sum(I[i]*w[i]  for i=1:6) - 20)\n",
    "\n",
    "# Função objetivo\n",
    "@objective(model3c,Max,sum(I[i]*v[i] for i=1:6) - E*15)\n",
    "\n",
    "model3c"
   ]
  },
  {
   "cell_type": "code",
   "execution_count": 55,
   "metadata": {},
   "outputs": [
    {
     "name": "stdout",
     "output_type": "stream",
     "text": [
      "Optimal Solutions:\n",
      "I[1] = 1.0\n",
      "I[2] = 1.0\n",
      "I[3] = 0.0\n",
      "I[4] = 0.0\n",
      "I[5] = 0.0\n",
      "I[6] = 1.0\n",
      "value(E) = 1.0\n",
      "objective_value(model3c) = 215.0\n"
     ]
    },
    {
     "data": {
      "text/plain": [
       "215.0"
      ]
     },
     "execution_count": 55,
     "metadata": {},
     "output_type": "execute_result"
    }
   ],
   "source": [
    "# Chamada do Solver\n",
    "optimize!(model3c)\n",
    "\n",
    "println(\"Optimal Solutions:\")\n",
    "for i=1:6\n",
    "    println(\"I[$i] = \", getvalue(I[i]))\n",
    "end\n",
    "\n",
    "@show value(E)\n",
    "@show objective_value(model3c)"
   ]
  }
 ],
 "metadata": {
  "kernelspec": {
   "display_name": "Julia 1.5.3",
   "language": "julia",
   "name": "julia-1.5"
  },
  "language_info": {
   "file_extension": ".jl",
   "mimetype": "application/julia",
   "name": "julia",
   "version": "1.5.3"
  }
 },
 "nbformat": 4,
 "nbformat_minor": 4
}
