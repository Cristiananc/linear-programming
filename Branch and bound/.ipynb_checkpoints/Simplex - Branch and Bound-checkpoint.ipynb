{
 "cells": [
  {
   "cell_type": "markdown",
   "metadata": {},
   "source": [
    "# SEF #\n"
   ]
  },
  {
   "cell_type": "code",
   "execution_count": 1,
   "metadata": {},
   "outputs": [
    {
     "data": {
      "text/plain": [
       "SEF (generic function with 1 method)"
      ]
     },
     "execution_count": 1,
     "metadata": {},
     "output_type": "execute_result"
    }
   ],
   "source": [
    "#= SEF(Standart Equality Form), iremos verificar se o problema já é SEF ou não, caso não\n",
    "iremos converter o problema para SEF. Nele todas as variáveis são >= 0, todas as restrições\n",
    "são = (igualdades), e tentamos maximizar a função objetivo\n",
    "=#\n",
    "#=  Entradas:\n",
    "        - A: array m x n\n",
    "            array de *float* de tamanho m(#restrições) linhas por n(#variáveis) colunas\n",
    "    \n",
    "        - b: array 1 x m\n",
    "            array de *float*com lado direito das restrições\n",
    "\n",
    "        - objetivo: array 1 x n\n",
    "            array de *float* com coeficientes da função objetivo\n",
    "\n",
    "        - restricoes: array 1 x m+1\n",
    "            array de strings onde as m primeiras dizem respeito as restrições, se são \">=\", \"<=\" ou \"==\"\n",
    "                Já a ultima componente diz se o problema é de maximização (\"max\") ou \"minimizacao\" (min).\n",
    "    \n",
    "        - variaveis: dicionário com n chaves\n",
    "            cada chave corresponde a uma variável e, associada a ela, estará um array 1x2, onde,\n",
    "                a primeira componete é true (caso a variável seja \">=0\", ou seja não negativa) e false, caso contrário,\n",
    "                já a segunda componente especifíca se a componete é \"Bin\" (variável binária 0 ou 1), \"Int\" (caso seja inteira),\n",
    "            ou \"\" (caso não seja inteira).\n",
    "   \n",
    "    Saida: \n",
    "        - A: array m+kBin x n+k1+k2+kBin\n",
    "            array de *float* de tamanho m+kBin(#restrições) linhas por n+k1+k2+kBin(#variáveis) colunas\n",
    "    \n",
    "        - b: array 1 x m+kBin\n",
    "            array de *float*com lado direito das restrições\n",
    "\n",
    "        - objetivo: array 1 x n+kBin\n",
    "            array de *float* com coeficientes da função objetivo\n",
    "        \n",
    "        - colunas_variaveis: dicionário cujas chaves são as variáveis iniciais (\"id\"/número delas)\n",
    "            a cada chave está associado um array 1x2, onde a primeira componente é o número da a \n",
    "          coluna da matriz A associada a parte positiva da variável, e a segunda é o número da coluna \n",
    "          (da matriz A) associada a parte negativa.\n",
    "=#\n",
    "\n",
    "function SEF(A,b,restricoes,variaveis,objetivo)\n",
    "    #\"m\" é o número inicial de restrições e \"n\" é o número de variáveis iniciais\n",
    "    \n",
    "    if length(variaveis) < 2 \n",
    "        m = size(A)[1]\n",
    "        n = 1\n",
    "    else\n",
    "        m = size(A)[1]\n",
    "        n = size(A)[2]\n",
    "    end     \n",
    "    \n",
    "    # Checando se nosso problema é de maximização ou minimização\n",
    "    if restricoes[size(restricoes)[2]] == \"min\"\n",
    "        objetivo = - objetivo\n",
    "    end\n",
    "\n",
    "    # Agora iremos criar o colunas_variaveis, cujas chaves serão as variáveis (\"id\" delas) e, cada uma\n",
    "    #será associada a um array com duas entradas, que correspondem a coluna da matriz A, correspondentes \n",
    "    #a parte positiva e negativa da variável. \n",
    "    # Note que se não dividirmos a variável, ela será sua própria parte positiva e referênciaremos a coluna da parte\n",
    "    #negativa como 0, como o indice de Julia começa em 1, usaremos isso para \"reconstruir\" as variáveis iniciais no final \n",
    "    colunas_variaveis = Dict()\n",
    "    \n",
    "    k1 = 0\n",
    "    kBin = 0\n",
    "    for i = 1:length(variaveis)\n",
    "        if variaveis[i][1] != true\n",
    "            k1 += 1\n",
    "        end\n",
    "        if variaveis[i][2] == \"Bin\"\n",
    "            kBin += 1\n",
    "        end\n",
    "    end\n",
    "    \n",
    "    # criaremos aqui um array auxiliar, para guardar as partes negativas provisoriamente\n",
    "    auxiliar_A1 = zeros(m,k1)\n",
    "    auxiliar_objetivo1 = zeros(1,k1)\n",
    "    \n",
    "    # k uma variável int auxiliar\n",
    "    k = 0\n",
    "    \n",
    "    for i = 1:length(variaveis)\n",
    "        \n",
    "        #Se a variável xᵢ >= 0, teremos que a entrada é true e apenas registraremos sua coluna\n",
    "        if variaveis[i][1] == true\n",
    "            colunas_variaveis[i] = [i,0]\n",
    "            \n",
    "        #Caso a variável xᵢ não seja >=0, iremos criar a parte negativa\n",
    " \n",
    "        else\n",
    "            k+=1\n",
    "            colunas_variaveis[i] = [i,n+k]\n",
    "            auxiliar_A1[:,k] = -A[:,i]\n",
    "            auxiliar_objetivo1[k] = -objetivo[i]\n",
    "        end\n",
    "    end\n",
    "    \n",
    "    k2 = 0\n",
    "    for i = 1:(size(restricoes)[2]-1)\n",
    "        if restricoes[i] != \"==\" \n",
    "            k2+=1\n",
    "        end\n",
    "    end\n",
    "    \n",
    "    #Agora iremos também criar um segundo array auxiliar, e iremos tranformar todas as restrições em restrições de igualdade\n",
    "    auxiliar_A2 = zeros(m,k2)\n",
    "    auxiliar_objetivo2 = zeros(1,k2)\n",
    "    k = 0\n",
    "    for i = 1:(size(restricoes)[2]-1)\n",
    "        \n",
    "        #Se a i-ésima restrição é do tipo \"<=\"\n",
    "        if restricoes[i] == \"<=\"\n",
    "            k += 1\n",
    "            auxiliar_A2[i,k] = 1\n",
    "            \n",
    "        #Caso i-ésima restrição seja \">=\"\n",
    "        elseif restricoes[i] == \">=\"\n",
    "            k += 1\n",
    "            auxiliar_A2[i,k] = -1\n",
    "        end\n",
    "    end\n",
    "    A = [[A auxiliar_A1] auxiliar_A2]\n",
    "    objetivo = [[objetivo auxiliar_objetivo1] auxiliar_objetivo2]\n",
    "    \n",
    "    for i = 1: m #size(A)[1]\n",
    "        if b[i] < 0\n",
    "            b[i] = - b[i]\n",
    "            A[i,:] = - A[i,:]\n",
    "        end\n",
    "    end\n",
    "    \n",
    "    # Adicionar restrição <= 1, para variáveis binárias\n",
    "    auxiliar_ABin = zeros(kBin,size(A)[2]+kBin)\n",
    "    auxiliar_objetivoBin = zeros(1,kBin)\n",
    "    auxiliar_bBin = ones(1,kBin)\n",
    "    k = 0\n",
    "    for i = 1:length(variaveis)\n",
    "        if variaveis[i][2] == \"Bin\"\n",
    "            k+=1\n",
    "            auxiliar_ABin[k,i] = 1\n",
    "            auxiliar_ABin[k,k+size(A)[2]] = 1\n",
    "       end\n",
    "    end        \n",
    "\n",
    "    A = [[A zeros(m,kBin)]; auxiliar_ABin]\n",
    "    objetivo = [objetivo auxiliar_objetivoBin]\n",
    "    b = [b auxiliar_bBin]\n",
    "\n",
    "    n += k1\n",
    "\n",
    "    return(A,b,objetivo,colunas_variaveis,kBin,k2,n)\n",
    "\n",
    "end"
   ]
  },
  {
   "cell_type": "markdown",
   "metadata": {},
   "source": [
    "## Pivoting ##"
   ]
  },
  {
   "cell_type": "code",
   "execution_count": 2,
   "metadata": {},
   "outputs": [
    {
     "data": {
      "text/plain": [
       "pivoting (generic function with 1 method)"
      ]
     },
     "execution_count": 2,
     "metadata": {},
     "output_type": "execute_result"
    }
   ],
   "source": [
    "function pivoting(A, b, objetivo, bv, flag)\n",
    "    #=ENTRADA\n",
    "        A: array mxn\n",
    "            array de *float* de tamanho m(#restrições) linhas por n(#variáveis) colunas\n",
    "        b: array 1xm\n",
    "            array de *float*com lado direito das restrições\n",
    "        objetivo: array 1xn\n",
    "            array de *float* com coeficientes da função objetivo \n",
    "        bv: array ##########\n",
    "            array com os índices das 'basic variables' em ordem das linhas\n",
    "    SAÍDA\n",
    "        A: array mxn\n",
    "            matriz de restrições modificada \n",
    "        b: array 1xm\n",
    "            array com lado direito das restrições modificada\n",
    "        z: array 1xm\n",
    "            array função objetivo modificada  \n",
    "        bv: array ########\n",
    "            array com as soluções\n",
    "        flag: critério de parada para a função simplex \n",
    "    \n",
    "    Variáveis utilizadas no meio da função\n",
    "        ic_pivot: int\n",
    "            índice da coluna pivot\n",
    "        ir_pivot: int\n",
    "            índice da linha pivot\n",
    "        pivot: float =#\n",
    "    \n",
    "    #Calculo o índice da coluna pivot('ic_pivot'), faz o ratio test para encontrar o índice da linha pivot(ir_pivot) \n",
    "    # e encontra o número pivot\n",
    "    \n",
    "    ic_pivot = argmax(objetivo)[2]\n",
    "    \n",
    "    #Unbounded solution test\n",
    "    if sum(A[:,ic_pivot].>0)==0 \n",
    "        flag = 1    \n",
    "        println(\"The problem is unbounded\")\n",
    "        return(0, 0, 0, 0, flag) \n",
    "    end\n",
    "    \n",
    "    aux_ratio = A[:,ic_pivot]     \n",
    "    for i = 1:size(aux_ratio)[1]   \n",
    "        if aux_ratio[i] < 0     \n",
    "            aux_ratio[i] = 0  \n",
    "        end\n",
    "    end\n",
    "    \n",
    "    ratio = b'./aux_ratio   \n",
    "    coef = findall(x -> isnan.(x), ratio)  \n",
    "\n",
    "    for i=coef     \n",
    "        ratio[i] = Inf   \n",
    "    end\n",
    "    \n",
    "    ir_pivot = argmin(ratio)[1]   \n",
    "    pivot = A[ir_pivot,ic_pivot]   \n",
    "    \n",
    "    # Normalização (modifica o sistema para o coeficiente da nova variável-base ser igual a 1)\n",
    "    A[ir_pivot,:] = A[ir_pivot,:]/pivot\n",
    "    b[ir_pivot] = b[ir_pivot]/pivot\n",
    "    \n",
    "    #Eliminação (modifica o sistema para 'eliminar' a variável que antes era variável-base)\n",
    "    for i =1:size(A)[1] \n",
    "        if i != ir_pivot\n",
    "            b[i] = b[i]-A[i,ic_pivot]*b[ir_pivot]\n",
    "            A[i,:] = A[i,:]-A[i,ic_pivot]*A[ir_pivot,:]          \n",
    "        end        \n",
    "    end\n",
    "    \n",
    "    aux_objetivo = A[ir_pivot,:]*objetivo[ic_pivot]\n",
    "    objetivo = objetivo-reshape(aux_objetivo, 1, length(aux_objetivo))\n",
    "    \n",
    "    #atualiza bv\n",
    "    bv[ir_pivot] = ic_pivot \n",
    "    \n",
    "    return A,b,objetivo,bv, flag\n",
    "end       "
   ]
  },
  {
   "cell_type": "code",
   "execution_count": 3,
   "metadata": {},
   "outputs": [
    {
     "data": {
      "text/plain": [
       "pivoting_artificial (generic function with 1 method)"
      ]
     },
     "execution_count": 3,
     "metadata": {},
     "output_type": "execute_result"
    }
   ],
   "source": [
    "function pivoting_artificial(A, b, objetivo, bv, flag)\n",
    "    \n",
    "    #=ENTRADA\n",
    "        A: array mxn\n",
    "            array de *float* de tamanho m(#restrições) linhas por n(#variáveis) colunas\n",
    "        b: array 1xm\n",
    "            array de *float*com lado direito das restrições\n",
    "        objetivo: array 1xn\n",
    "            array de *float* com coeficientes da função objetivo \n",
    "        bv: array ##########\n",
    "            array com os índices das 'basic variables' em ordem das linhas\n",
    "    SAÍDA\n",
    "        A: array mxn\n",
    "            matriz de restrições modificada \n",
    "        b: array 1xm\n",
    "            array com lado direito das restrições modificada\n",
    "        objetivo: array 1xm\n",
    "            array função objetivo modificada  \n",
    "        bv: array ########\n",
    "            array com as soluções\n",
    "        flag: critério de parada para a função simplex \n",
    "    \n",
    "    Variáveis utilizadas no meio da função\n",
    "        ic_pivot: int\n",
    "            índice da coluna pivot\n",
    "        ir_pivot: int\n",
    "            índice da linha pivot\n",
    "        pivot: float =#\n",
    "    \n",
    "    ic_pivot = argmax(objetivo)[2]\n",
    "    \n",
    "    #Unbounded solution test\n",
    "    if sum(A[:,ic_pivot].>0)==0\n",
    "        flag = 1\n",
    "        println(\"The problem is unbounded\")\n",
    "        return(0, 0, 0, 0, flag) \n",
    "    end\n",
    "        \n",
    "    m = size(A,1)    \n",
    "    aux_ratio = A[1:m-1,ic_pivot]\n",
    "    \n",
    "    for i = 1:size(aux_ratio)[1]\n",
    "        if aux_ratio[i] < 0\n",
    "            aux_ratio[i] = 0\n",
    "        end\n",
    "    end\n",
    "    \n",
    "    ratio = b[1:m-1]./aux_ratio   \n",
    "    coef = findall(x ->  isnan.(x), ratio)\n",
    "\n",
    "    for i=coef\n",
    "        ratio[i] = Inf\n",
    "    end\n",
    "    ir_pivot = argmin(ratio)[1]\n",
    "    pivot = A[ir_pivot,ic_pivot]\n",
    "    \n",
    "    # Normalização (modifica o sistema para o coeficiente da nova variável-base ser igual a 1)\n",
    "    A[ir_pivot,:] = A[ir_pivot,:]/pivot\n",
    "    b[ir_pivot] = b[ir_pivot]/pivot\n",
    "    \n",
    "    #Eliminação (modifica o sistema para 'eliminar' a variável que antes era variável-base)\n",
    "    for i =1:size(A)[1]\n",
    "        if i != ir_pivot\n",
    "            b[i] = b[i]-A[i,ic_pivot]*b[ir_pivot]\n",
    "            A[i,:] = A[i,:]-A[i,ic_pivot]*A[ir_pivot,:]             \n",
    "        end        \n",
    "    end\n",
    "    \n",
    "    aux_objetivo = A[ir_pivot,:]*objetivo[ic_pivot]\n",
    "    objetivo = objetivo-reshape(aux_objetivo, 1, length(aux_objetivo))\n",
    "    \n",
    "    #atualiza bv\n",
    "    bv[ir_pivot] = ic_pivot\n",
    "    \n",
    "    return A,b,objetivo,bv,flag\n",
    "end"
   ]
  },
  {
   "cell_type": "code",
   "execution_count": 4,
   "metadata": {},
   "outputs": [
    {
     "data": {
      "text/plain": [
       "solution_simplex (generic function with 1 method)"
      ]
     },
     "execution_count": 4,
     "metadata": {},
     "output_type": "execute_result"
    }
   ],
   "source": [
    "function solution_simplex(A, b, objetivo, bv, flag)#,lista_especial)\n",
    "    # Itera a função pivoting até chegar a uma solução ótima\n",
    "    \n",
    "    #= ENTRADA\n",
    "        A: array \n",
    "            matriz das restrições já na forma canônica\n",
    "        b: array\n",
    "            array do lado direito das restrições, que também são as soluções das 'basic variables'\n",
    "        objetivo: array\n",
    "            array com coef. da função objetivo\n",
    "        bv: array m\n",
    "            array com os índices das 'basic variables' em ordem de acordo com o vetor solução(que inicialmente é b)\n",
    "    \n",
    "        SAÍDA\n",
    "        solucao: array\n",
    "            valores de cada variável que maximiza a solução =#\n",
    "   \n",
    "    while sum(objetivo.>0) != 0\n",
    "        A,b,objetivo,bv, flag = pivoting( A, b, objetivo, bv, flag)\n",
    "        if flag == 1\n",
    "            return(0, flag)\n",
    "        end\n",
    "    \n",
    "    end\n",
    "    \n",
    "    solucao = zeros(1,size(A)[2])\n",
    "    \n",
    "    for i=1:size(b)[2]\n",
    "       solucao[Int(bv[i])] = b[i] \n",
    "    end\n",
    "\n",
    "    return solucao, flag\n",
    "    \n",
    "end"
   ]
  },
  {
   "cell_type": "code",
   "execution_count": 5,
   "metadata": {},
   "outputs": [
    {
     "data": {
      "text/plain": [
       "basic_solution (generic function with 1 method)"
      ]
     },
     "execution_count": 5,
     "metadata": {},
     "output_type": "execute_result"
    }
   ],
   "source": [
    "function basic_solution(A,b,restricoes,variaveis,objetivo, flag, k_Bin,k_Des,k_Vars)\n",
    "    #Encontra as 'basic variables' e uma solução inicial\n",
    "    \n",
    "     #=ENTRADA\n",
    "        A (depois da SEF): array mxn\n",
    "            array de *float* de tamanho m(#restrições) linhas por n(#variáveis) colunas\n",
    "        b (depois da SEF): array 1xm\n",
    "            array de *float*com lado direito das restrições\n",
    "       \n",
    "        restricoes: array 1 x m+1\n",
    "            array de strings onde as m primeiras dizem respeito as restrições, se são \">=\", \"<=\" ou \"==\"\n",
    "                Já a ultima componente diz se o problema é de maximização (\"max\") ou \"minimizacao\" (min).\n",
    "    \n",
    "        variaveis: dicionário com n chaves\n",
    "            cada chave corresponde a uma variável e, associada a ela, estará um array 1x2, onde,\n",
    "                a primeira componete é true (caso a variável seja \">=0\", ou seja não negativa) e false, caso contrário,\n",
    "                já a segunda componente especifíca se a componete é \"Bin\" (variável binária 0 ou 1), \"Int\" (caso seja inteira),\n",
    "            ou \"\" (caso não seja inteira).\n",
    "         objetivo (depois da SEF): array 1xn\n",
    "            array de *float* com coeficientes da função objetivo \n",
    "        \n",
    "       SAÍDA\n",
    "        A : array\n",
    "            \n",
    "        b : array\n",
    "        \n",
    "        objetivo (depois da SEF): array\n",
    "         \n",
    "        bv: array\n",
    "            array com as 'basic variables'  =#\n",
    "    \n",
    "    n = size(A)[1]\n",
    "    nvars = k_Bin + k_Des + k_Vars\n",
    "    \n",
    "    row_with_basic_var = zeros(n)\n",
    "    \n",
    "    #qtd de slacks (variáveis binárias, inteiras e desigualdades)\n",
    "    nbins = k_Bin    \n",
    "\n",
    "    \n",
    "    ndes = k_Des\n",
    "    \n",
    "    #Verifica se as slacks são elegíveis para basic variables.\n",
    "    row_with_basic_var[n-nbins+1:n] = ones(nbins)\n",
    "        \n",
    "    for i=1:(n-nbins)\n",
    "        if sum(A[i,(k_Vars+1):nvars]) == 1\n",
    "            row_with_basic_var[i] = 1\n",
    "        end       \n",
    "    end\n",
    "    \n",
    "    basic_vars = zeros(Int,Int(sum(row_with_basic_var)))\n",
    "    contador0 = 0\n",
    "    \n",
    "    for i = 1: (k_Des+k_Bin)\n",
    "        if sum(A[:,i+k_Vars]) == 1\n",
    "            contador0 += 1\n",
    "            basic_vars[contador0] = Int(i + k_Vars)\n",
    "        end\n",
    "    end\n",
    "    \n",
    "    # Acrescenta 'artificial variables' para as colunas sem 'basic variables'\n",
    "    n_art_var = sum(row_with_basic_var.==0)\n",
    "    if n_art_var>0\n",
    "        bv = zeros(Int,1,n)\n",
    "        contador = nvars\n",
    "        contador2 = 0\n",
    "        for i=1:n\n",
    "            if row_with_basic_var[i]==0\n",
    "                aux_col = zeros(n)\n",
    "                aux_col[i] = 1\n",
    "                A = [A aux_col]\n",
    "                contador += 1\n",
    "                bv[i] = contador\n",
    "            else\n",
    "                contador2 +=1\n",
    "                bv[i] = basic_vars[contador2]\n",
    "            end\n",
    "        end    \n",
    "       \n",
    "        # Phase I\n",
    "        w = vcat(zeros(nvars),(-1)*ones(n_art_var))\n",
    "        i_art_var = findall(x->x==0,row_with_basic_var)\n",
    "        w = (sum(A[i_art_var,:], dims=1)' + w)'\n",
    "        bv= vec(bv) \n",
    "        \n",
    "        # Resolve problema auxiliar das variáveis artificiais\n",
    "        A = [A; hcat(objetivo, zeros(n_art_var)')]\n",
    "        b = hcat(b,0)\n",
    "        \n",
    "        while sum(w.>0) != 0 #optimality test \n",
    "            A, b, w, bv, flag = pivoting_artificial(A, b, w, bv, flag)\n",
    "            if flag == 1\n",
    "                return(0, 0, 0, 0, flag)\n",
    "            end       \n",
    "        end\n",
    "       \n",
    "        art_solution = zeros(size(A)[2])\n",
    "\n",
    "        for i=1:size(b)[2]-1\n",
    "            art_solution[bv[i]] = b[i]\n",
    "        end\n",
    "       \n",
    "        val_w = sum(w*art_solution)\n",
    "        \n",
    "        #Se alguma variável artificial for positiva, então o problema é infisible.\n",
    "        if sum(art_solution[(nvars+1):(nvars+n_art_var)].>0) > 0\n",
    "            flag = 1\n",
    "            println(\"The original problem is infeasible\")\n",
    "            return(0, 0, 0, 0, flag)\n",
    "\n",
    "        #Transição faseI - faseII           \n",
    "        elseif val_w==0\n",
    "\n",
    "            #Pivoting para eliminar variável artificial da base\n",
    "            while sum(bv.>nvars)>0\n",
    "                ir_pivot=findall(x->x==1,bv.>nvars)[1]\n",
    "                ic_pivot= findfirst(x->x!=0,A[ir_pivot,1:nvars])\n",
    "                pivot=A[ir_pivot,ic_pivot]\n",
    "                \n",
    "                # Normalização\n",
    "                A[ir_pivot,:] = A[ir_pivot,:]/pivot\n",
    "\n",
    "                b[ir_pivot] = b[ir_pivot]/pivot\n",
    "\n",
    "                #Eliminação\n",
    "                for i = 1:size(A)[1]\n",
    "                    if i != ir_pivot\n",
    "                    #Zerando o valor referente ao pivot nas outras \n",
    "                        #linhas e atualizando os valores em b que são \n",
    "                        #modificados nisso\n",
    "                        b[i] = b[i]-A[i,ic_pivot]*b[ir_pivot]\n",
    "                        A[i,:] = A[i,:]-A[i,ic_pivot]*A[ir_pivot,:]            \n",
    "                    end \n",
    "                end\n",
    "\n",
    "                #atualiza bv\n",
    "                bv[ir_pivot] = ic_pivot \n",
    "            end\n",
    "            #Ele retorna em aux_objetivo um vetor coluna\n",
    "            aux_objetivo = A[size(A,1),1:nvars]\n",
    "            objetivo = reshape(aux_objetivo, 1, length(aux_objetivo))\n",
    "            \n",
    "            #Separa o objetivo do A \n",
    "            A = A[1:size(A,1)-1,1:nvars]\n",
    "            aux_b = b[1:(size(b)[2]-1)]\n",
    "            b = reshape(aux_b, 1, length(aux_b))\n",
    "        end        \n",
    "        \n",
    "    #Se não precisar de variável artificial \n",
    "    #Esse é o else do if lá em cima if n_art_var>0\n",
    "\n",
    "    else\n",
    "        bv = basic_vars\n",
    "    end\n",
    "\n",
    "    return A,b,objetivo,bv, flag \n",
    "end "
   ]
  },
  {
   "cell_type": "code",
   "execution_count": 77,
   "metadata": {},
   "outputs": [
    {
     "data": {
      "text/plain": [
       "simplex (generic function with 1 method)"
      ]
     },
     "execution_count": 77,
     "metadata": {},
     "output_type": "execute_result"
    }
   ],
   "source": [
    "function simplex(A,b,restricoes,variaveis,objetivo)\n",
    "    flag = 0\n",
    "    \n",
    "    #Verificar/transformar em 'Standart Equality Form'\n",
    "    A_can, b_can, objetivo_can, colunas_variaveis,k_Bin,k_Des,k_Vars = SEF(A,b,restricoes,variaveis,objetivo)\n",
    "    \n",
    "    println(\"SEF OK\")    \n",
    "    \n",
    "    #Basic feasible solution\n",
    "    A_can, b_can, objetivo_can, bv, flag = basic_solution(A_can,b_can,restricoes,variaveis,objetivo_can,flag, k_Bin,k_Des,k_Vars) ##Falta terminar\n",
    "    \n",
    "    if flag ==1\n",
    "        return \n",
    "    end\n",
    "    \n",
    "    println(\"basic_solution OK\")    \n",
    "    \n",
    "    #Iteração do processo de pivoting\n",
    "    solucao, flag = solution_simplex(A_can, b_can, objetivo_can, bv, flag)#, lista_especial)\n",
    "    \n",
    "    if flag ==1\n",
    "        return \n",
    "    end\n",
    "    \n",
    "    println(\"solution_simplex OK\")    \n",
    "    \n",
    "    # solucao : valores de cada variável que maximiza a solução (2 valores pra cada variavel que nao é >=0)\n",
    "    \n",
    "    if length(variaveis) < 2\n",
    "        solucao_original = zeros(1)\n",
    "        \n",
    "        if colunas_variaveis[1][2] > 0 #significa que tem partes positivas e negativas\n",
    "            solucao_original[1] = solucao[colunas_variaveis[1][1]] - solucao[colunas_variaveis[1][2]]\n",
    "            \n",
    "        else # ja é uma variável positiva\n",
    "            solucao_original[1] = solucao[1]     \n",
    "        end\n",
    "        \n",
    "    else\n",
    "        solucao_original = zeros(1,size(A)[2])\n",
    "    \n",
    "        for i=1:size(solucao_original)[2] # juntando as partes positivas e negativas\n",
    "            if colunas_variaveis[i][2] > 0 #significa que tem partes positivas e negativas\n",
    "                solucao_original[i] = solucao[colunas_variaveis[i][1]] - solucao[colunas_variaveis[i][2]]\n",
    "            \n",
    "            else # ja é uma variável positiva\n",
    "                solucao_original[i] = solucao[i]     \n",
    "            end\n",
    "        \n",
    "        end\n",
    "    end\n",
    "    \n",
    "    z = sum(objetivo.*solucao_original)    \n",
    "    \n",
    "    println()\n",
    "    println(\"Função objetivo(z): \", z)\n",
    "    println()\n",
    "    println(\"Solução: \", solucao_original)\n",
    "    \n",
    "    return z,solucao_original\n",
    "    \n",
    "end"
   ]
  },
  {
   "cell_type": "markdown",
   "metadata": {},
   "source": [
    "# Branch and Bound"
   ]
  },
  {
   "cell_type": "code",
   "execution_count": 94,
   "metadata": {},
   "outputs": [
    {
     "data": {
      "text/plain": [
       "branch_and_bound (generic function with 3 methods)"
      ]
     },
     "execution_count": 94,
     "metadata": {},
     "output_type": "execute_result"
    }
   ],
   "source": [
    "#modificar o simpex para receber as restrições x <= a e x => b\n",
    "#soluções binárias\n",
    "function branch_and_bound(A, b, restricoes, variaveis, objetivo, lower_bound::Float64 = -Inf)\n",
    "    simplex_bb = simplex(A,b,restricoes,variaveis,objetivo)\n",
    "    if typeof(simplex_bb) != Nothing\n",
    "        z_subproblem, sol_subproblem = simplex_bb\n",
    "        index = 0\n",
    "        stop = 1\n",
    "    \n",
    "        #Find the first index of the solution that are not integer\n",
    "        while stop == 1\n",
    "            index+= 1\n",
    "            if floor(sol_subproblem[index]) - sol_subproblem[index] != 0.0\n",
    "                stop = 0\n",
    "            elseif index == size(sol_subproblem)[2]\n",
    "                stop = 0\n",
    "                index = 0\n",
    "                if z_subproblem > lower_bound\n",
    "                    lower_bound = z_subproblem\n",
    "                    sol_integer = sol_subproblem\n",
    "                    println(sol_integer)\n",
    "                    println(\"oi cadu\")\n",
    "                    println(lower_bound)\n",
    "                end\n",
    "            end\n",
    "        end\n",
    "\n",
    "        println(\"antes do while\")\n",
    "        println(lower_bound)\n",
    "        while index != 0 && z_subproblem > lower_bound\n",
    "            println(\"depois do while\")\n",
    "            x = sol_subproblem[index]\n",
    "\n",
    "            # => and <= we need to change constraints\n",
    "            nova_linha = zeros(1, size(A)[2])\n",
    "            nova_linha[index] = 1\n",
    "            A = [A; nova_linha]\n",
    "            up = floor(sol_subproblem[index]) + 1\n",
    "            down = floor(sol_subproblem[index])\n",
    "            restricoesUp = [restricoes \">=\"]\n",
    "            restricoesDown = [restricoes \"<=\"]\n",
    "            bUp = [b up]\n",
    "            bDown = [b down]\n",
    "\n",
    "            z_integer1 = branch_and_bound(A, bUp, restricoesUp, variaveis, objetivo, lower_bound)\n",
    "            z_integer2 = branch_and_bound(A, bDown, restricoesDown, variaveis, objetivo, lower_bound)\n",
    "            index = 0\n",
    "            println(lower_bound)\n",
    "        end\n",
    "    end\n",
    "    return lower_bound\n",
    "end"
   ]
  },
  {
   "cell_type": "code",
   "execution_count": 42,
   "metadata": {},
   "outputs": [
    {
     "data": {
      "text/plain": [
       "true"
      ]
     },
     "execution_count": 42,
     "metadata": {},
     "output_type": "execute_result"
    }
   ],
   "source": [
    "convert(Float64, 3) > -Inf"
   ]
  },
  {
   "cell_type": "code",
   "execution_count": 93,
   "metadata": {},
   "outputs": [
    {
     "name": "stdout",
     "output_type": "stream",
     "text": [
      "SEF OK\n",
      "basic_solution OK\n",
      "solution_simplex OK\n",
      "\n",
      "Função objetivo(z): 1.5\n",
      "\n",
      "Solução: [0.0 2.5 1.5 0.0]\n",
      "antes do while\n",
      "-Inf\n",
      "depois do while\n",
      "SEF OK\n",
      "basic_solution OK\n",
      "solution_simplex OK\n",
      "\n",
      "Função objetivo(z): -3.0\n",
      "\n",
      "Solução: [1.0 3.0 -0.0 -0.0]\n",
      "[1.0 3.0 -0.0 -0.0]\n",
      "oi cadu\n",
      "-3.0\n",
      "antes do while\n",
      "-3.0\n",
      "SEF OK\n",
      "The original problem is infeasible\n",
      "-Inf\n"
     ]
    },
    {
     "data": {
      "text/plain": [
       "-Inf"
      ]
     },
     "execution_count": 93,
     "metadata": {},
     "output_type": "execute_result"
    }
   ],
   "source": [
    "branch_and_bound(A, b, restricoes, variaveis, objetivo)"
   ]
  },
  {
   "cell_type": "code",
   "execution_count": 10,
   "metadata": {},
   "outputs": [
    {
     "data": {
      "text/plain": [
       "Float64"
      ]
     },
     "execution_count": 10,
     "metadata": {},
     "output_type": "execute_result"
    }
   ],
   "source": [
    "typeof(-Inf)"
   ]
  },
  {
   "cell_type": "code",
   "execution_count": 72,
   "metadata": {},
   "outputs": [
    {
     "data": {
      "text/plain": [
       "1×4 Array{Int64,2}:\n",
       " -3  0  1  0"
      ]
     },
     "execution_count": 72,
     "metadata": {},
     "output_type": "execute_result"
    }
   ],
   "source": [
    "#Exemplo pg. 25 ou 64\n",
    "A=[1 1 1 1\n",
    "    -2 1 -1 0\n",
    "    0 3 1 1]\n",
    "b=[4 1 9]\n",
    "restricoes = [\"==\" \"==\" \"==\"]\n",
    "variaveis = Dict(1 => [true,\"\"], 2=>[true,\"\"],3=>[true,\"\"],4=>[true,\"\"])\n",
    "objetivo = [-3 0 1 0]\n"
   ]
  },
  {
   "cell_type": "code",
   "execution_count": 12,
   "metadata": {},
   "outputs": [
    {
     "data": {
      "text/plain": [
       "true"
      ]
     },
     "execution_count": 12,
     "metadata": {},
     "output_type": "execute_result"
    }
   ],
   "source": [
    "a = 2.0\n",
    "a - floor(a) == 0"
   ]
  },
  {
   "cell_type": "code",
   "execution_count": 73,
   "metadata": {
    "scrolled": true
   },
   "outputs": [
    {
     "name": "stdout",
     "output_type": "stream",
     "text": [
      "SEF OK\n",
      "basic_solution OK\n",
      "solution_simplex OK\n",
      "\n",
      "Função objetivo(z): 1.5\n",
      "\n",
      "Solução: [0.0 2.5 1.5 0.0]\n"
     ]
    },
    {
     "data": {
      "text/plain": [
       "(1.5, [0.0 2.5 1.5 0.0])"
      ]
     },
     "execution_count": 73,
     "metadata": {},
     "output_type": "execute_result"
    }
   ],
   "source": [
    "a = simplex(A,b,restricoes,variaveis,objetivo)"
   ]
  },
  {
   "cell_type": "code",
   "execution_count": 76,
   "metadata": {},
   "outputs": [
    {
     "data": {
      "text/plain": [
       "1×4 Array{Float64,2}:\n",
       " 0.0  2.5  1.5  0.0"
      ]
     },
     "execution_count": 76,
     "metadata": {},
     "output_type": "execute_result"
    }
   ],
   "source": [
    "a[2]"
   ]
  },
  {
   "cell_type": "code",
   "execution_count": 14,
   "metadata": {},
   "outputs": [
    {
     "data": {
      "text/plain": [
       "1×2 Array{Int64,2}:\n",
       " 5  8"
      ]
     },
     "execution_count": 14,
     "metadata": {},
     "output_type": "execute_result"
    }
   ],
   "source": [
    "#Exemplo pg. 287 livro\n",
    "A=[1 1\n",
    "   5 9]\n",
    "b=[6 45]\n",
    "restricoes = [\"<=\" \"<=\" \"max\"]\n",
    "variaveis = Dict(1 => [false,\"\"], 2=>[true,\"\"])\n",
    "objetivo = [5 8]"
   ]
  },
  {
   "cell_type": "code",
   "execution_count": 15,
   "metadata": {},
   "outputs": [
    {
     "name": "stdout",
     "output_type": "stream",
     "text": [
      "SEF OK\n",
      "basic_solution OK\n",
      "solution_simplex OK\n",
      "\n",
      "Função objetivo(z): 41.25\n",
      "\n",
      "Solução: [2.25 3.75]\n"
     ]
    },
    {
     "data": {
      "text/plain": [
       "(41.25, [2.25 3.75])"
      ]
     },
     "execution_count": 15,
     "metadata": {},
     "output_type": "execute_result"
    }
   ],
   "source": [
    "simplex(A,b,restricoes,variaveis,objetivo)"
   ]
  },
  {
   "cell_type": "code",
   "execution_count": 16,
   "metadata": {},
   "outputs": [
    {
     "data": {
      "text/plain": [
       "1×3 Array{Int64,2}:\n",
       " -10  -12  -12"
      ]
     },
     "execution_count": 16,
     "metadata": {},
     "output_type": "execute_result"
    }
   ],
   "source": [
    "A=[ 1  2  2\n",
    "    2  1  2\n",
    "    2  2  1]\n",
    "b=[20 20 20]\n",
    "restricoes = [\"<=\" \"<=\" \"<=\" \"min\"]\n",
    "variaveis = Dict(1 => [true,\"\"], 2=>[true,\"\"],3=>[true,\"\"])\n",
    "objetivo = [-10 -12 -12]"
   ]
  },
  {
   "cell_type": "code",
   "execution_count": 17,
   "metadata": {},
   "outputs": [
    {
     "name": "stdout",
     "output_type": "stream",
     "text": [
      "SEF OK\n",
      "basic_solution OK\n",
      "solution_simplex OK\n",
      "\n",
      "Função objetivo(z): -136.0\n",
      "\n",
      "Solução: [4.0 4.0 4.0]\n"
     ]
    },
    {
     "data": {
      "text/plain": [
       "(-136.0, [4.0 4.0 4.0])"
      ]
     },
     "execution_count": 17,
     "metadata": {},
     "output_type": "execute_result"
    }
   ],
   "source": [
    "simplex(A,b,restricoes,variaveis,objetivo)"
   ]
  },
  {
   "cell_type": "code",
   "execution_count": 18,
   "metadata": {},
   "outputs": [
    {
     "data": {
      "text/plain": [
       "1×9 Array{Int64,2}:\n",
       " -1  0  0  0  0  0  0  0  1"
      ]
     },
     "execution_count": 18,
     "metadata": {},
     "output_type": "execute_result"
    }
   ],
   "source": [
    "# Exercício 5 - APM - Cap 8\n",
    "A = [-1  1  0  0  0  0  0  0  0;\n",
    "     -1  0  1  0  0  0  0  0  0;\n",
    "     -1  0  0  1  0  0  0  0  0;\n",
    "      0 -1  1  0  0  0  0  0  0;\n",
    "      0 -1  0  0  1  0  0  0  0;\n",
    "      0  0 -1  0  0  1  0  0  0;\n",
    "      0  0  0 -1  0  1  0  0  0;\n",
    "      0  0  0  0 -1  0  1  0  0;\n",
    "      0  0  0  0  0 -1  1  0  0;\n",
    "      0  0  0  0  0  0 -1  1  0;\n",
    "      0  0  0  0 -1  0  0  0  1;\n",
    "      0  0  0  0  0  0 -1  0  1;\n",
    "      0  0  0  0  0  0  0 -1  1]\n",
    "b = [1 3 4 2 2 1 2 6 5 3 10 3 2]\n",
    "restricoes = [\">=\" \">=\" \">=\" \">=\" \">=\" \">=\" \">=\" \">=\" \">=\" \">=\" \">=\" \">=\" \">=\" \"min\"] \n",
    "variaveis = Dict(1 => [true,\"\"], 2 => [true,\"\"], 3 => [true,\"\"],\n",
    "                 4 => [true,\"\"], 5 => [true,\"\"], 6 => [true,\"\"],\n",
    "                 7 => [true,\"\"], 8 => [true,\"\"], 9 => [true,\"\"])\n",
    "objetivo = [-1 0 0 0 0 0 0 0 1]"
   ]
  },
  {
   "cell_type": "code",
   "execution_count": 19,
   "metadata": {},
   "outputs": [
    {
     "name": "stdout",
     "output_type": "stream",
     "text": [
      "SEF OK\n",
      "basic_solution OK\n",
      "solution_simplex OK\n",
      "\n",
      "Função objetivo(z): 16.0\n",
      "\n",
      "Solução: [0.0 3.0 5.0 4.0 5.0 6.0 11.0 14.0 16.0]\n"
     ]
    },
    {
     "data": {
      "text/plain": [
       "(16.0, [0.0 3.0 … 14.0 16.0])"
      ]
     },
     "execution_count": 19,
     "metadata": {},
     "output_type": "execute_result"
    }
   ],
   "source": [
    "simplex(A,b,restricoes,variaveis,objetivo)"
   ]
  },
  {
   "cell_type": "code",
   "execution_count": 20,
   "metadata": {},
   "outputs": [
    {
     "data": {
      "text/plain": [
       "1×6 Array{Int64,2}:\n",
       " 60  70  40  70  16  100"
      ]
     },
     "execution_count": 20,
     "metadata": {},
     "output_type": "execute_result"
    }
   ],
   "source": [
    "# Exercício 3 - Sec 1.3 - Cap1 - Gentle\n",
    "A = [1  0  0  0  0  0;\n",
    "     0  1  0  0  0  0;\n",
    "     0  0  1  0  0  0;\n",
    "     0  0  0  1  0  0;\n",
    "     0  0  0  0  1  0;\n",
    "     0  0  0  0  0  1;\n",
    "     6  7  4  9  3  8] \n",
    "b = [1 1 1 1 1 1 20]\n",
    "restricoes = [\"<=\" \"<=\" \"<=\" \"<=\" \"<=\" \"<=\" \"<=\" \"max\"] \n",
    "variaveis = Dict(1 => [true,\"\"], 2 => [true,\"\"], 3 => [true,\"\"],\n",
    "                 4 => [true,\"\"], 5 => [true,\"\"], 6 => [true,\"\"])\n",
    "objetivo = [60 70 40 70 16 100]"
   ]
  },
  {
   "cell_type": "code",
   "execution_count": 21,
   "metadata": {},
   "outputs": [
    {
     "name": "stdout",
     "output_type": "stream",
     "text": [
      "SEF OK\n",
      "basic_solution OK\n",
      "solution_simplex OK\n",
      "\n",
      "Função objetivo(z): 220.0\n",
      "\n",
      "Solução: [1.0 0.2857142857142858 1.0 0.0 0.0 1.0]\n"
     ]
    },
    {
     "data": {
      "text/plain": [
       "(220.0, [1.0 0.2857142857142858 … 0.0 1.0])"
      ]
     },
     "execution_count": 21,
     "metadata": {},
     "output_type": "execute_result"
    }
   ],
   "source": [
    "simplex(A,b,restricoes,variaveis,objetivo)"
   ]
  },
  {
   "cell_type": "code",
   "execution_count": 22,
   "metadata": {},
   "outputs": [
    {
     "data": {
      "text/plain": [
       "1×6 Array{Int64,2}:\n",
       " 60  70  40  70  16  100"
      ]
     },
     "execution_count": 22,
     "metadata": {},
     "output_type": "execute_result"
    }
   ],
   "source": [
    "# Exercício 3 - Sec 1.3 - Cap1 - Gentle\n",
    "A = [6  7  4  9  3  8]\n",
    "b = [20]\n",
    "restricoes = [\"<=\" \"max\"] \n",
    "variaveis = Dict(1 => [true,\"Bin\"], 2 => [true,\"Bin\"], 3 => [true,\"Bin\"],\n",
    "                 4 => [true,\"Bin\"], 5 => [true,\"Bin\"], 6 => [true,\"Bin\"])\n",
    "objetivo = [60 70 40 70 16 100]"
   ]
  },
  {
   "cell_type": "code",
   "execution_count": 23,
   "metadata": {},
   "outputs": [
    {
     "name": "stdout",
     "output_type": "stream",
     "text": [
      "SEF OK\n",
      "basic_solution OK\n",
      "solution_simplex OK\n",
      "\n",
      "Função objetivo(z): 220.0\n",
      "\n",
      "Solução: [1.0 0.2857142857142858 1.0 0.0 0.0 1.0]\n"
     ]
    },
    {
     "data": {
      "text/plain": [
       "(220.0, [1.0 0.2857142857142858 … 0.0 1.0])"
      ]
     },
     "execution_count": 23,
     "metadata": {},
     "output_type": "execute_result"
    }
   ],
   "source": [
    "simplex(A,b,restricoes,variaveis,objetivo)"
   ]
  },
  {
   "cell_type": "code",
   "execution_count": 24,
   "metadata": {},
   "outputs": [
    {
     "data": {
      "text/plain": [
       "1×3 Array{Int64,2}:\n",
       " 0  2  3"
      ]
     },
     "execution_count": 24,
     "metadata": {},
     "output_type": "execute_result"
    }
   ],
   "source": [
    "# Exemplo unbounded \n",
    "A =[1 -1 1;\n",
    "    -2 1 0;\n",
    "    0 1 -2;]\n",
    "b = [5 3 5]\n",
    "restricoes = [\"<=\" \"<=\" \"<=\" \"max\"]\n",
    "variaveis = Dict(1=>[true,\"\"], 2=>[true,\"\"],3=>[true,\"\"])\n",
    "objetivo = [0 2 3]"
   ]
  },
  {
   "cell_type": "code",
   "execution_count": 25,
   "metadata": {},
   "outputs": [
    {
     "name": "stdout",
     "output_type": "stream",
     "text": [
      "SEF OK\n",
      "basic_solution OK\n",
      "The problem is unbounded\n"
     ]
    }
   ],
   "source": [
    "simplex(A,b,restricoes,variaveis,objetivo)"
   ]
  },
  {
   "cell_type": "code",
   "execution_count": 26,
   "metadata": {},
   "outputs": [
    {
     "data": {
      "text/plain": [
       "1×2 Array{Int64,2}:\n",
       " 1  -2"
      ]
     },
     "execution_count": 26,
     "metadata": {},
     "output_type": "execute_result"
    }
   ],
   "source": [
    "# Exemplo unbounded \n",
    "A =[1 -1;\n",
    "    0  1]\n",
    "b = [0 2]\n",
    "restricoes = [\"<=\" \">=\" \"min\"]\n",
    "variaveis = Dict(1=>[true,\"\"], 2=>[true,\"\"])\n",
    "objetivo = [1 -2]"
   ]
  },
  {
   "cell_type": "code",
   "execution_count": 27,
   "metadata": {},
   "outputs": [
    {
     "name": "stdout",
     "output_type": "stream",
     "text": [
      "SEF OK\n",
      "basic_solution OK\n",
      "The problem is unbounded\n"
     ]
    }
   ],
   "source": [
    "simplex(A,b,restricoes,variaveis,objetivo)"
   ]
  },
  {
   "cell_type": "code",
   "execution_count": 28,
   "metadata": {},
   "outputs": [
    {
     "data": {
      "text/plain": [
       "1×2 Array{Int64,2}:\n",
       " 1  1"
      ]
     },
     "execution_count": 28,
     "metadata": {},
     "output_type": "execute_result"
    }
   ],
   "source": [
    "# Exemplo Infeasible\n",
    "A =[1 0;\n",
    "    0 1;\n",
    "    1 1]\n",
    "b = [6  6 11]\n",
    "restricoes = [\">=\" \">=\" \"<=\" \"min\"]\n",
    "variaveis = Dict(1=>[true,\"\"], 2=>[true,\"\"])\n",
    "objetivo = [1 1]"
   ]
  },
  {
   "cell_type": "code",
   "execution_count": 29,
   "metadata": {
    "scrolled": false
   },
   "outputs": [
    {
     "name": "stdout",
     "output_type": "stream",
     "text": [
      "SEF OK\n",
      "The original problem is infeasible\n"
     ]
    }
   ],
   "source": [
    "simplex(A,b,restricoes,variaveis,objetivo)"
   ]
  },
  {
   "cell_type": "code",
   "execution_count": 30,
   "metadata": {},
   "outputs": [
    {
     "data": {
      "text/plain": [
       "1×3 Array{Int64,2}:\n",
       " 1  -1  1"
      ]
     },
     "execution_count": 30,
     "metadata": {},
     "output_type": "execute_result"
    }
   ],
   "source": [
    "# Exemplo Infeasible\n",
    "A =[2 -1 -2;\n",
    "    2 -3 -1;\n",
    "    -1 1 1]\n",
    "b = [4  -5 -1]\n",
    "restricoes = [\"<=\" \"<=\" \"<=\" \"max\"]\n",
    "variaveis = Dict(1=>[true,\"\"], 2=>[true,\"\"],3=>[true,\"\"])\n",
    "objetivo = [1 -1 1]"
   ]
  },
  {
   "cell_type": "code",
   "execution_count": 31,
   "metadata": {
    "scrolled": true
   },
   "outputs": [
    {
     "name": "stdout",
     "output_type": "stream",
     "text": [
      "SEF OK\n",
      "The original problem is infeasible\n"
     ]
    }
   ],
   "source": [
    "simplex(A,b,restricoes,variaveis,objetivo)"
   ]
  },
  {
   "cell_type": "code",
   "execution_count": 32,
   "metadata": {},
   "outputs": [
    {
     "name": "stdout",
     "output_type": "stream",
     "text": [
      "SEF OK\n",
      "basic_solution OK\n",
      "solution_simplex OK\n",
      "\n",
      "Função objetivo(z): 2.0\n",
      "\n",
      "Solução: [2.0]\n"
     ]
    },
    {
     "data": {
      "text/plain": [
       "(2.0, [2.0])"
      ]
     },
     "execution_count": 32,
     "metadata": {},
     "output_type": "execute_result"
    }
   ],
   "source": [
    "A = [1;\n",
    "     2]\n",
    "b = [2 -3]\n",
    "restricoes = [\"<=\" \">=\" \"max\"]\n",
    "variaveis = Dict(1=>[true,\"\"])#, 2=>[true,\"\"])\n",
    "objetivo = [1]\n",
    "simplex(A,b,restricoes,variaveis,objetivo)"
   ]
  },
  {
   "cell_type": "code",
   "execution_count": 33,
   "metadata": {},
   "outputs": [
    {
     "name": "stdout",
     "output_type": "stream",
     "text": [
      "SEF OK\n",
      "basic_solution OK\n",
      "The problem is unbounded\n"
     ]
    }
   ],
   "source": [
    "A = [1;\n",
    "     2]\n",
    "b = [2 3]\n",
    "restricoes = [\">=\" \">=\" \"max\"]\n",
    "variaveis = Dict(1=>[true,\"\"])#, 2=>[true,\"\"])\n",
    "objetivo = [1]\n",
    "simplex(A,b,restricoes,variaveis,objetivo)"
   ]
  },
  {
   "cell_type": "code",
   "execution_count": 71,
   "metadata": {},
   "outputs": [
    {
     "name": "stdout",
     "output_type": "stream",
     "text": [
      "SEF OK\n",
      "The original problem is infeasible\n"
     ]
    },
    {
     "data": {
      "text/plain": [
       "true"
      ]
     },
     "execution_count": 71,
     "metadata": {},
     "output_type": "execute_result"
    }
   ],
   "source": [
    "A = [1;\n",
    "     2]\n",
    "b = [2 5]\n",
    "restricoes = [\"<=\" \">=\" \"max\"]\n",
    "variaveis = Dict(1=>[false,\"\"])#, 2=>[true,\"\"])\n",
    "objetivo = [1]\n",
    "typeof(simplex(A,b,restricoes,variaveis,objetivo)) == Nothing"
   ]
  }
 ],
 "metadata": {
  "kernelspec": {
   "display_name": "Julia 1.5.3",
   "language": "julia",
   "name": "julia-1.5"
  },
  "language_info": {
   "file_extension": ".jl",
   "mimetype": "application/julia",
   "name": "julia",
   "version": "1.5.3"
  }
 },
 "nbformat": 4,
 "nbformat_minor": 4
}
