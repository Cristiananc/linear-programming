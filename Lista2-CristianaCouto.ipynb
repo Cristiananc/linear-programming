{
 "cells": [
  {
   "cell_type": "code",
   "execution_count": 2,
   "metadata": {},
   "outputs": [],
   "source": [
    "using JuMP, GLPK, LinearAlgebra"
   ]
  },
  {
   "cell_type": "markdown",
   "metadata": {},
   "source": [
    "### Exercise 2"
   ]
  },
  {
   "cell_type": "markdown",
   "metadata": {},
   "source": [
    "On a particular day during the tourist season a rent-a-car company must supply cars to four destinations according\n",
    "to the following schedule:"
   ]
  },
  {
   "cell_type": "markdown",
   "metadata": {},
   "source": [
    "| Destination | Cars required |\n",
    "|-------------|---------------|\n",
    "| A           | 2             |\n",
    "| B           | 3             |\n",
    "| C           | 5             |\n",
    "| D           | 7             |"
   ]
  },
  {
   "cell_type": "markdown",
   "metadata": {},
   "source": [
    "The company has three branches from which the cars may be supplied. On the day in question, the inventory status\n",
    "of each of the branches was as follows:"
   ]
  },
  {
   "cell_type": "markdown",
   "metadata": {},
   "source": [
    "| Branch | Cars available |\n",
    "|--------|----------------|\n",
    "| 1      | 6              |\n",
    "| 2      | 1              |\n",
    "| 3      | 10             |"
   ]
  },
  {
   "cell_type": "markdown",
   "metadata": {},
   "source": [
    "The distances between branches and destinations are given by the following table:"
   ]
  },
  {
   "cell_type": "markdown",
   "metadata": {},
   "source": [
    "|        | Destination |    |   |   |\n",
    "|--------|:-----------:|----|---|---|\n",
    "| Branch | A           | B  | C | D |\n",
    "| 1      | 7           | 11 | 3 | 2 |\n",
    "| 2      | 1           | 6  | 0 | 1 |\n",
    "| 3      | 9           | 15 | 8 | 5 |"
   ]
  },
  {
   "cell_type": "markdown",
   "metadata": {},
   "source": [
    "Plan the day’s activity such that supply requirements are met at a minimum cost (assumed proportional to car-miles\n",
    "travelled)."
   ]
  },
  {
   "cell_type": "markdown",
   "metadata": {},
   "source": [
    "Resolução:"
   ]
  },
  {
   "cell_type": "markdown",
   "metadata": {},
   "source": [
    "Criamos uma matriz $Q$ que representa a quantidade de carros que serão enviados de cada filial a cada destino, onde as linhas representam as filiais e as colunas os destinos. Já $D$ é uma matriz que contém as distâncias entre cada um dos destinos e cada uma das filiais. Queremos minimizar a quilometragem rodada dos carros que é dada pela soma dos elementos da multiplicação elemento por elemento das matrizes $D$ e $Q$. A seguir a formulação LP do problema:"
   ]
  },
  {
   "cell_type": "code",
   "execution_count": 3,
   "metadata": {},
   "outputs": [
    {
     "data": {
      "text/latex": [
       "$$ \\begin{alignat*}{1}\\min\\quad & 7 Q_{1,1} + Q_{2,1} + 9 Q_{3,1} + 11 Q_{1,2} + 6 Q_{2,2} + 15 Q_{3,2} + 3 Q_{1,3} + 8 Q_{3,3} + 2 Q_{1,4} + Q_{2,4} + 5 Q_{3,4}\\\\\n",
       "\\text{Subject to} \\quad & Q_{1,1} + Q_{2,1} + Q_{3,1} = 2.0\\\\\n",
       " & Q_{1,2} + Q_{2,2} + Q_{3,2} = 3.0\\\\\n",
       " & Q_{1,3} + Q_{2,3} + Q_{3,3} = 5.0\\\\\n",
       " & Q_{1,4} + Q_{2,4} + Q_{3,4} = 7.0\\\\\n",
       " & Q_{1,1} + Q_{1,2} + Q_{1,3} + Q_{1,4} = 6.0\\\\\n",
       " & Q_{2,1} + Q_{2,2} + Q_{2,3} + Q_{2,4} = 1.0\\\\\n",
       " & Q_{3,1} + Q_{3,2} + Q_{3,3} + Q_{3,4} = 10.0\\\\\n",
       " & Q_{1,1} \\geq 0.0\\\\\n",
       " & Q_{2,1} \\geq 0.0\\\\\n",
       " & Q_{3,1} \\geq 0.0\\\\\n",
       " & Q_{1,2} \\geq 0.0\\\\\n",
       " & Q_{2,2} \\geq 0.0\\\\\n",
       " & Q_{3,2} \\geq 0.0\\\\\n",
       " & Q_{1,3} \\geq 0.0\\\\\n",
       " & Q_{2,3} \\geq 0.0\\\\\n",
       " & Q_{3,3} \\geq 0.0\\\\\n",
       " & Q_{1,4} \\geq 0.0\\\\\n",
       " & Q_{2,4} \\geq 0.0\\\\\n",
       " & Q_{3,4} \\geq 0.0\\\\\n",
       " & Q_{1,1} integer\\\\\n",
       " & Q_{2,1} integer\\\\\n",
       " & Q_{3,1} integer\\\\\n",
       " & Q_{1,2} integer\\\\\n",
       " & Q_{2,2} integer\\\\\n",
       " & Q_{3,2} integer\\\\\n",
       " & Q_{1,3} integer\\\\\n",
       " & Q_{2,3} integer\\\\\n",
       " & Q_{3,3} integer\\\\\n",
       " & Q_{1,4} integer\\\\\n",
       " & Q_{2,4} integer\\\\\n",
       " & Q_{3,4} integer\\\\\n",
       "\\end{alignat*}\n",
       " $$"
      ],
      "text/plain": [
       "A JuMP Model\n",
       "Minimization problem with:\n",
       "Variables: 12\n",
       "Objective function type: GenericAffExpr{Float64,VariableRef}\n",
       "`GenericAffExpr{Float64,VariableRef}`-in-`MathOptInterface.EqualTo{Float64}`: 7 constraints\n",
       "`VariableRef`-in-`MathOptInterface.GreaterThan{Float64}`: 12 constraints\n",
       "`VariableRef`-in-`MathOptInterface.Integer`: 12 constraints\n",
       "Model mode: AUTOMATIC\n",
       "CachingOptimizer state: EMPTY_OPTIMIZER\n",
       "Solver name: GLPK\n",
       "Names registered in the model: Q, conC, conD"
      ]
     },
     "execution_count": 3,
     "metadata": {},
     "output_type": "execute_result"
    }
   ],
   "source": [
    "# Modelo e Solver\n",
    "model2 = Model(GLPK.Optimizer)\n",
    "\n",
    "#Distâncias entre filiais e os destinos \n",
    "D = [7 11 3 2; 1 6 0 1; 9 15 8 5]\n",
    "\n",
    "#Demanda de carros em cada um dos destinos\n",
    "de = [2 3 5 7]\n",
    "\n",
    "#Carros disponíveis em cada filial\n",
    "c = [6 1 10]\n",
    "\n",
    "# Variaveis\n",
    "@variable(model2, Q[1:3, 1:4] >= 0, Int)\n",
    "\n",
    "# Restrições\n",
    "@constraint(model2, conD[i = 1:4], sum(Q[:, i]) == de[i])\n",
    "@constraint(model2, conC[i = 1:3], sum(Q[i, :]) == c[i])\n",
    "\n",
    "# Função objetivo\n",
    "@objective(model2, Min, sum(D.*Q))\n",
    "\n",
    "model2"
   ]
  },
  {
   "cell_type": "markdown",
   "metadata": {},
   "source": [
    "Abaixo o resultado encontrado pelo solver, a solução ótima $= 100$ e a matriz $Q$ com a quantidade de carros ."
   ]
  },
  {
   "cell_type": "code",
   "execution_count": 72,
   "metadata": {},
   "outputs": [
    {
     "name": "stdout",
     "output_type": "stream",
     "text": [
      "objective_value(model2) = 100.0\n"
     ]
    },
    {
     "data": {
      "text/plain": [
       "3×4 Array{Float64,2}:\n",
       " 0.0  1.0  5.0  0.0\n",
       " 0.0  1.0  0.0  0.0\n",
       " 2.0  1.0  0.0  7.0"
      ]
     },
     "execution_count": 72,
     "metadata": {},
     "output_type": "execute_result"
    }
   ],
   "source": [
    "# Chamada do Solver\n",
    "optimize!(model2)\n",
    " \n",
    "@show objective_value(model2)\n",
    "value.(Q)"
   ]
  },
  {
   "cell_type": "markdown",
   "metadata": {},
   "source": [
    "### Exercise 3"
   ]
  },
  {
   "cell_type": "markdown",
   "metadata": {},
   "source": [
    "The National Association of Securities Dealers Automated Quotation Systems (NASDAQ) is a network system in which quotation information in over-the-counter operations is collected. Users of the system can re-\n",
    "ceive, in a matter of seconds, buy and sell prices and the exact bid and ask price of each market maker that\n",
    "deals in a particular security. There are 1700 terminals in 1000 locations in almost 400 cities. The central\n",
    "processing center is in Trumbull, Conn., with concentration facilities in New York, Atlanta, Chicago, and San\n",
    "Francisco. On this particular day, the market is quiet, so there are only a few terminals being used. The information they have has to be sent to one of the main processing facilities. The following table gives terminals (supply centers), processing facilities (demand centers), and the time that it takes to transfer a message."
   ]
  },
  {
   "cell_type": "markdown",
   "metadata": {},
   "source": [
    "| Terminals       | Trumbull | N.Y. | Atlanta | Chicago | San. Fran. | Supply |\n",
    "|-----------------|:--------:|------|---------|---------|------------|--------|\n",
    "| Cleveland       | 6        | 6    | 9       | 4       | 10         | 45     |\n",
    "| Boston          | 3        | 2    | 7       | 5       | 12         | 90     |\n",
    "| Houston         | 8        | 7    | 5       | 6       | 4          | 95     |\n",
    "| Los Angeles     | 11       | 12   | 9       | 5       | 2          | 75     |\n",
    "| Washinton, D.C. | 4        | 3    | 4       | 5       | 11         | 105    |\n",
    "| Demand          | 120      | 80   | 50      | 75      | 85         |        |"
   ]
  },
  {
   "cell_type": "markdown",
   "metadata": {},
   "source": [
    "Essa questão é sobre um mercado de ações estadunidense automatizado. O objetivo é minimizar o tempo que leva para transferir as mensagens de um terminal para as instalações de processamento. Para isso, utiliza-se um racíocinio semelhante ao que foi usado no exercício anterior. $T$ é a matriz com os tempos de transferência e $M$ a matriz com a quantidade de mensagens que cada instalação de processamento vai receber de cada terminal."
   ]
  },
  {
   "cell_type": "markdown",
   "metadata": {},
   "source": [
    "item a) Solve, using the minimum matrix method to find an initial feasible solution.\n",
    "\n",
    "Aqui a itenção é encontrar uma solução viável inicial atráves do metódo de matriz mínimo que pode ser compreendido como um algoritmo guloso que em cada iteração toma a melhor decisão para minimizar o custo. Observe inicialmente a tabela acima e note que o menor tempo é $2$, em qual célula que possui o $2$ há a maior demanda que pode ser suprida pelo fornecedor correspondente? A partir disso escolhe-se a célula $T_{2,2}$. Substituindo o valor antigo por $80$, temos a quantidade de mensagens que deve ser transmitida do terminal correspondente para o centro de demanda. E assim sucessivamente é feito o processo, até que todo a demanda seja suprida. E os elementos na última linha correspondente a demanda sejam iguais à zero."
   ]
  },
  {
   "cell_type": "code",
   "execution_count": null,
   "metadata": {},
   "outputs": [],
   "source": []
  },
  {
   "cell_type": "markdown",
   "metadata": {},
   "source": [
    "item b) Are there alternative optimal solutions?"
   ]
  },
  {
   "cell_type": "markdown",
   "metadata": {},
   "source": [
    "A seguir a formulação LP do problema:"
   ]
  },
  {
   "cell_type": "code",
   "execution_count": 22,
   "metadata": {},
   "outputs": [
    {
     "data": {
      "text/latex": [
       "$$ \\begin{alignat*}{1}\\min\\quad & 6 Q_{1,1} + 3 Q_{2,1} + 8 Q_{3,1} + 11 Q_{4,1} + 4 Q_{5,1} + 6 Q_{1,2} + 2 Q_{2,2} + 7 Q_{3,2} + 12 Q_{4,2} + 3 Q_{5,2} + 9 Q_{1,3} + 7 Q_{2,3} + 5 Q_{3,3} + 9 Q_{4,3} + 4 Q_{5,3} + 4 Q_{1,4} + 5 Q_{2,4} + 6 Q_{3,4} + 5 Q_{4,4} + 5 Q_{5,4} + 10 Q_{1,5} + 12 Q_{2,5} + 4 Q_{3,5} + 2 Q_{4,5} + 11 Q_{5,5}\\\\\n",
       "\\text{Subject to} \\quad & Q_{1,1} + Q_{2,1} + Q_{3,1} + Q_{4,1} + Q_{5,1} = 120.0\\\\\n",
       " & Q_{1,2} + Q_{2,2} + Q_{3,2} + Q_{4,2} + Q_{5,2} = 80.0\\\\\n",
       " & Q_{1,3} + Q_{2,3} + Q_{3,3} + Q_{4,3} + Q_{5,3} = 50.0\\\\\n",
       " & Q_{1,4} + Q_{2,4} + Q_{3,4} + Q_{4,4} + Q_{5,4} = 75.0\\\\\n",
       " & Q_{1,5} + Q_{2,5} + Q_{3,5} + Q_{4,5} + Q_{5,5} = 85.0\\\\\n",
       " & Q_{1,1} + Q_{1,2} + Q_{1,3} + Q_{1,4} + Q_{1,5} = 45.0\\\\\n",
       " & Q_{2,1} + Q_{2,2} + Q_{2,3} + Q_{2,4} + Q_{2,5} = 90.0\\\\\n",
       " & Q_{3,1} + Q_{3,2} + Q_{3,3} + Q_{3,4} + Q_{3,5} = 95.0\\\\\n",
       " & Q_{4,1} + Q_{4,2} + Q_{4,3} + Q_{4,4} + Q_{4,5} = 75.0\\\\\n",
       " & Q_{5,1} + Q_{5,2} + Q_{5,3} + Q_{5,4} + Q_{5,5} = 105.0\\\\\n",
       " & Q_{1,1} \\geq 0.0\\\\\n",
       " & Q_{2,1} \\geq 0.0\\\\\n",
       " & Q_{3,1} \\geq 0.0\\\\\n",
       " & Q_{4,1} \\geq 0.0\\\\\n",
       " & Q_{5,1} \\geq 0.0\\\\\n",
       " & Q_{1,2} \\geq 0.0\\\\\n",
       " & Q_{2,2} \\geq 0.0\\\\\n",
       " & Q_{3,2} \\geq 0.0\\\\\n",
       " & Q_{4,2} \\geq 0.0\\\\\n",
       " & Q_{5,2} \\geq 0.0\\\\\n",
       " & Q_{1,3} \\geq 0.0\\\\\n",
       " & Q_{2,3} \\geq 0.0\\\\\n",
       " & Q_{3,3} \\geq 0.0\\\\\n",
       " & Q_{4,3} \\geq 0.0\\\\\n",
       " & Q_{5,3} \\geq 0.0\\\\\n",
       " & Q_{1,4} \\geq 0.0\\\\\n",
       " & Q_{2,4} \\geq 0.0\\\\\n",
       " & Q_{3,4} \\geq 0.0\\\\\n",
       " & Q_{4,4} \\geq 0.0\\\\\n",
       " & Q_{5,4} \\geq 0.0\\\\\n",
       " & Q_{1,5} \\geq 0.0\\\\\n",
       " & Q_{2,5} \\geq 0.0\\\\\n",
       " & Q_{3,5} \\geq 0.0\\\\\n",
       " & Q_{4,5} \\geq 0.0\\\\\n",
       " & Q_{5,5} \\geq 0.0\\\\\n",
       " & Q_{1,1} integer\\\\\n",
       " & Q_{2,1} integer\\\\\n",
       " & Q_{3,1} integer\\\\\n",
       " & Q_{4,1} integer\\\\\n",
       " & Q_{5,1} integer\\\\\n",
       " & Q_{1,2} integer\\\\\n",
       " & Q_{2,2} integer\\\\\n",
       " & Q_{3,2} integer\\\\\n",
       " & Q_{4,2} integer\\\\\n",
       " & Q_{5,2} integer\\\\\n",
       " & Q_{1,3} integer\\\\\n",
       " & Q_{2,3} integer\\\\\n",
       " & Q_{3,3} integer\\\\\n",
       " & Q_{4,3} integer\\\\\n",
       " & Q_{5,3} integer\\\\\n",
       " & Q_{1,4} integer\\\\\n",
       " & Q_{2,4} integer\\\\\n",
       " & Q_{3,4} integer\\\\\n",
       " & Q_{4,4} integer\\\\\n",
       " & Q_{5,4} integer\\\\\n",
       " & Q_{1,5} integer\\\\\n",
       " & Q_{2,5} integer\\\\\n",
       " & Q_{3,5} integer\\\\\n",
       " & Q_{4,5} integer\\\\\n",
       " & Q_{5,5} integer\\\\\n",
       "\\end{alignat*}\n",
       " $$"
      ],
      "text/plain": [
       "A JuMP Model\n",
       "Minimization problem with:\n",
       "Variables: 25\n",
       "Objective function type: GenericAffExpr{Float64,VariableRef}\n",
       "`GenericAffExpr{Float64,VariableRef}`-in-`MathOptInterface.EqualTo{Float64}`: 10 constraints\n",
       "`VariableRef`-in-`MathOptInterface.GreaterThan{Float64}`: 25 constraints\n",
       "`VariableRef`-in-`MathOptInterface.Integer`: 25 constraints\n",
       "Model mode: AUTOMATIC\n",
       "CachingOptimizer state: EMPTY_OPTIMIZER\n",
       "Solver name: GLPK\n",
       "Names registered in the model: Q, conD, conS"
      ]
     },
     "execution_count": 22,
     "metadata": {},
     "output_type": "execute_result"
    }
   ],
   "source": [
    "# Modelo e Solver\n",
    "model3 = Model(GLPK.Optimizer)\n",
    "\n",
    "T = [6 6 9 4 10; 3 2 7 5 12; 8 7 5 6 4; 11 12 9 5 2; 4 3 4 5 11]\n",
    "\n",
    "#Demand\n",
    "D = [120 80 50 75 85]\n",
    "\n",
    "#Suply\n",
    "S = [45 90 95 75 105]\n",
    "\n",
    "# Variaveis\n",
    "@variable(model3, Q[1:5, 1:5] >= 0, Int)\n",
    "\n",
    "# Restrições\n",
    "@constraint(model3, conD[i = 1:5], sum(Q[:, i]) == D[i])\n",
    "@constraint(model3, conS[i = 1:5], sum(Q[i, :]) == S[i])\n",
    "\n",
    "# Função objetivo\n",
    "@objective(model3, Min, sum(T.*Q))\n",
    "\n",
    "model3"
   ]
  },
  {
   "cell_type": "markdown",
   "metadata": {},
   "source": [
    "Sim, existe ao menos uma solução alternativa encontrada que não somente é uma solução viável como também é uma solução ótima. A seguir a solução ótima encontrada pelo solver:"
   ]
  },
  {
   "cell_type": "code",
   "execution_count": 7,
   "metadata": {},
   "outputs": [
    {
     "name": "stdout",
     "output_type": "stream",
     "text": [
      "Optimal Solutions:\n",
      "objective_value(model3) = 1450.0\n"
     ]
    },
    {
     "data": {
      "text/plain": [
       "5×5 Array{Float64,2}:\n",
       "  5.0   0.0   0.0  40.0   0.0\n",
       " 90.0   0.0   0.0   0.0   0.0\n",
       "  0.0   0.0  50.0  35.0  10.0\n",
       "  0.0   0.0   0.0   0.0  75.0\n",
       " 25.0  80.0   0.0   0.0   0.0"
      ]
     },
     "execution_count": 7,
     "metadata": {},
     "output_type": "execute_result"
    }
   ],
   "source": [
    "optimize!(model3)\n",
    "println(\"Optimal Solutions:\")\n",
    "@show objective_value(model3)\n",
    "value.(Q)"
   ]
  },
  {
   "cell_type": "markdown",
   "metadata": {},
   "source": [
    "### Exercise 4"
   ]
  },
  {
   "cell_type": "markdown",
   "metadata": {},
   "source": [
    "O objetivo é maximizar o lucro de uma empresa de esportes nas vendas de raquetes de tênis de 5 tipos diferentes compradas de 4 fabricantes. A matriz $P$ contém os preços das raquetes, onde as linhas são as fabricantes $M1, M2, M3$ e $M4$ e as colunas os tipos de raquete. A matriz $Q$ representa a quantidade de raquetes em todos os casos, as colunas são os tipos de raquete e as linhas as fabricantes."
   ]
  },
  {
   "cell_type": "code",
   "execution_count": 17,
   "metadata": {},
   "outputs": [
    {
     "data": {
      "text/latex": [
       "$$ \\begin{alignat*}{1}\\min\\quad & 5.5 Q_{1,1} + 6 Q_{1,2} + 5 Q_{1,3} + 6.5 Q_{1,4} + 7 Q_{2,1} + 6.5 Q_{2,2} + 7 Q_{2,3} + 5.5 Q_{2,4} + 8.5 Q_{3,1} + 9 Q_{3,2} + 9.5 Q_{3,3} + 8 Q_{3,4} + 4.5 Q_{4,1} + 3.5 Q_{4,2} + 4 Q_{4,3} + 5 Q_{4,4} + 3 Q_{5,1} + 2 Q_{5,2} + 2.5 Q_{5,3} + 3.5 Q_{5,4}\\\\\n",
       "\\text{Subject to} \\quad & Q_{1,1} + Q_{1,2} + Q_{1,3} + Q_{1,4} = 300.0\\\\\n",
       " & Q_{2,1} + Q_{2,2} + Q_{2,3} + Q_{2,4} = 200.0\\\\\n",
       " & Q_{3,1} + Q_{3,2} + Q_{3,3} + Q_{3,4} = 150.0\\\\\n",
       " & Q_{4,1} + Q_{4,2} + Q_{4,3} + Q_{4,4} = 500.0\\\\\n",
       " & Q_{5,1} + Q_{5,2} + Q_{5,3} + Q_{5,4} = 400.0\\\\\n",
       " & Q_{1,1} + Q_{2,1} + Q_{3,1} + Q_{4,1} + Q_{5,1} \\leq 600.0\\\\\n",
       " & Q_{1,2} + Q_{2,2} + Q_{3,2} + Q_{4,2} + Q_{5,2} \\leq 500.0\\\\\n",
       " & Q_{1,3} + Q_{2,3} + Q_{3,3} + Q_{4,3} + Q_{5,3} \\leq 300.0\\\\\n",
       " & Q_{1,4} + Q_{2,4} + Q_{3,4} + Q_{4,4} + Q_{5,4} \\leq 400.0\\\\\n",
       " & Q_{1,1} \\geq 0.0\\\\\n",
       " & Q_{2,1} \\geq 0.0\\\\\n",
       " & Q_{3,1} \\geq 0.0\\\\\n",
       " & Q_{4,1} \\geq 0.0\\\\\n",
       " & Q_{5,1} \\geq 0.0\\\\\n",
       " & Q_{1,2} \\geq 0.0\\\\\n",
       " & Q_{2,2} \\geq 0.0\\\\\n",
       " & Q_{3,2} \\geq 0.0\\\\\n",
       " & Q_{4,2} \\geq 0.0\\\\\n",
       " & Q_{5,2} \\geq 0.0\\\\\n",
       " & Q_{1,3} \\geq 0.0\\\\\n",
       " & Q_{2,3} \\geq 0.0\\\\\n",
       " & Q_{3,3} \\geq 0.0\\\\\n",
       " & Q_{4,3} \\geq 0.0\\\\\n",
       " & Q_{5,3} \\geq 0.0\\\\\n",
       " & Q_{1,4} \\geq 0.0\\\\\n",
       " & Q_{2,4} \\geq 0.0\\\\\n",
       " & Q_{3,4} \\geq 0.0\\\\\n",
       " & Q_{4,4} \\geq 0.0\\\\\n",
       " & Q_{5,4} \\geq 0.0\\\\\n",
       " & Q_{1,1} integer\\\\\n",
       " & Q_{2,1} integer\\\\\n",
       " & Q_{3,1} integer\\\\\n",
       " & Q_{4,1} integer\\\\\n",
       " & Q_{5,1} integer\\\\\n",
       " & Q_{1,2} integer\\\\\n",
       " & Q_{2,2} integer\\\\\n",
       " & Q_{3,2} integer\\\\\n",
       " & Q_{4,2} integer\\\\\n",
       " & Q_{5,2} integer\\\\\n",
       " & Q_{1,3} integer\\\\\n",
       " & Q_{2,3} integer\\\\\n",
       " & Q_{3,3} integer\\\\\n",
       " & Q_{4,3} integer\\\\\n",
       " & Q_{5,3} integer\\\\\n",
       " & Q_{1,4} integer\\\\\n",
       " & Q_{2,4} integer\\\\\n",
       " & Q_{3,4} integer\\\\\n",
       " & Q_{4,4} integer\\\\\n",
       " & Q_{5,4} integer\\\\\n",
       "\\end{alignat*}\n",
       " $$"
      ],
      "text/plain": [
       "A JuMP Model\n",
       "Minimization problem with:\n",
       "Variables: 20\n",
       "Objective function type: GenericAffExpr{Float64,VariableRef}\n",
       "`GenericAffExpr{Float64,VariableRef}`-in-`MathOptInterface.EqualTo{Float64}`: 5 constraints\n",
       "`GenericAffExpr{Float64,VariableRef}`-in-`MathOptInterface.LessThan{Float64}`: 4 constraints\n",
       "`VariableRef`-in-`MathOptInterface.GreaterThan{Float64}`: 20 constraints\n",
       "`VariableRef`-in-`MathOptInterface.Integer`: 20 constraints\n",
       "Model mode: AUTOMATIC\n",
       "CachingOptimizer state: EMPTY_OPTIMIZER\n",
       "Solver name: GLPK\n",
       "Names registered in the model: Q, conR, conS"
      ]
     },
     "execution_count": 17,
     "metadata": {},
     "output_type": "execute_result"
    }
   ],
   "source": [
    "# Modelo e Solver\n",
    "model4 = Model(GLPK.Optimizer)\n",
    "\n",
    "P = [5.50 7 8.5 4.5 3; 6 6.5 9 3.5 2; 5 7 9.5 4 2.5; 6.5 5.5 8 5 3.5]\n",
    "\n",
    "#Qtd máxima de raquetes que cada fabricante pode oferecer\n",
    "S = [600 500 300 400]\n",
    "\n",
    "#Qtd de cada tipo de raquete que a empresa deseja contratar\n",
    "R = [300 200 150 500 400]\n",
    "\n",
    "# Variaveis\n",
    "@variable(model4, Q[1:5, 1:4] >= 0, Int)\n",
    "\n",
    "# Restrições\n",
    "@constraint(model4, conS[i = 1:4], sum(Q[:, i]) <= S[i])\n",
    "@constraint(model4, conR[i = 1:5], sum(Q[i, :]) == R[i])\n",
    "\n",
    "# Função objetivo\n",
    "@objective(model4, Min, sum(P.*(Q')))\n",
    "\n",
    "model4"
   ]
  },
  {
   "cell_type": "code",
   "execution_count": 87,
   "metadata": {},
   "outputs": [
    {
     "name": "stdout",
     "output_type": "stream",
     "text": [
      "objective_value(model4) = 6750.0\n"
     ]
    },
    {
     "data": {
      "text/plain": [
       "5×4 Array{Float64,2}:\n",
       " 300.0    0.0    0.0    0.0\n",
       "   0.0    0.0    0.0  200.0\n",
       "   0.0    0.0    0.0  150.0\n",
       "   0.0  500.0    0.0    0.0\n",
       " 100.0    0.0  300.0    0.0"
      ]
     },
     "execution_count": 87,
     "metadata": {},
     "output_type": "execute_result"
    }
   ],
   "source": [
    "optimize!(model4)\n",
    "\n",
    "@show objective_value(model4)\n",
    "value.(Q)"
   ]
  },
  {
   "cell_type": "markdown",
   "metadata": {},
   "source": [
    "### Exercise 15"
   ]
  },
  {
   "cell_type": "markdown",
   "metadata": {},
   "source": [
    "item a) Existem soluções ótimas que vão além do centro 1 enviar todos os produtos disponíveis para o cliente 1. Para verificar isso, podemos fixar um valor $= 0$ por exemplo para o elemento $Q_{1,1}$ e a partir dele o solver nos dá uma solução que coincide com a solução onde não há restrição para $Q_{1,1}$ e o solver nos devolve que $Q_{1,1} = 300$. Em ambos os casos o custo total é $2700$."
   ]
  },
  {
   "cell_type": "code",
   "execution_count": 38,
   "metadata": {},
   "outputs": [
    {
     "data": {
      "text/latex": [
       "$$ \\begin{alignat*}{1}\\min\\quad & -Q_{1,1} + Q_{2,1} + Q_{3,1} + 3 Q_{1,2} + 6 Q_{2,2} + 5 Q_{3,2}\\\\\n",
       "\\text{Subject to} \\quad & Q_{1,1} = 0.0\\\\\n",
       " & Q_{1,1} + Q_{2,1} + Q_{3,1} = 800.0\\\\\n",
       " & Q_{1,2} + Q_{2,2} + Q_{3,2} = 500.0\\\\\n",
       " & Q_{1,1} + Q_{1,2} \\leq 300.0\\\\\n",
       " & Q_{2,1} + Q_{2,2} \\leq 400.0\\\\\n",
       " & Q_{3,1} + Q_{3,2} \\leq 900.0\\\\\n",
       " & Q_{1,1} \\geq 0.0\\\\\n",
       " & Q_{2,1} \\geq 0.0\\\\\n",
       " & Q_{3,1} \\geq 0.0\\\\\n",
       " & Q_{1,2} \\geq 0.0\\\\\n",
       " & Q_{2,2} \\geq 0.0\\\\\n",
       " & Q_{3,2} \\geq 0.0\\\\\n",
       " & Q_{1,1} integer\\\\\n",
       " & Q_{2,1} integer\\\\\n",
       " & Q_{3,1} integer\\\\\n",
       " & Q_{1,2} integer\\\\\n",
       " & Q_{2,2} integer\\\\\n",
       " & Q_{3,2} integer\\\\\n",
       "\\end{alignat*}\n",
       " $$"
      ],
      "text/plain": [
       "A JuMP Model\n",
       "Minimization problem with:\n",
       "Variables: 6\n",
       "Objective function type: GenericAffExpr{Float64,VariableRef}\n",
       "`GenericAffExpr{Float64,VariableRef}`-in-`MathOptInterface.EqualTo{Float64}`: 3 constraints\n",
       "`GenericAffExpr{Float64,VariableRef}`-in-`MathOptInterface.LessThan{Float64}`: 3 constraints\n",
       "`VariableRef`-in-`MathOptInterface.GreaterThan{Float64}`: 6 constraints\n",
       "`VariableRef`-in-`MathOptInterface.Integer`: 6 constraints\n",
       "Model mode: AUTOMATIC\n",
       "CachingOptimizer state: EMPTY_OPTIMIZER\n",
       "Solver name: GLPK\n",
       "Names registered in the model: Q, conR, conS"
      ]
     },
     "execution_count": 38,
     "metadata": {},
     "output_type": "execute_result"
    }
   ],
   "source": [
    "# Modelo e Solver\n",
    "model15 = Model(GLPK.Optimizer)\n",
    "\n",
    "C = [-1 3; 1 6; 1 5]\n",
    "\n",
    "#Avaiable supplies\n",
    "S = [300 400 900]\n",
    "\n",
    "#Costumer requirements\n",
    "R = [800 500]\n",
    "\n",
    "function exercise15(model, C,S, R)\n",
    "    # Variaveis\n",
    "    @variable(model, Q[1:3, 1:2] >= 0, Int)\n",
    "\n",
    "    # Restrições\n",
    "    @constraint(model, Q[1,1] == 0)\n",
    "\n",
    "    @constraint(model, conS[i = 1:3], sum(Q[i, :]) <= S[i])\n",
    "    @constraint(model, conR[i = 1:2], sum(Q[:, i]) == R[i])\n",
    "\n",
    "    # Função objetivo\n",
    "    @objective(model, Min, sum(C.*Q))\n",
    "\n",
    "    model\n",
    "end\n",
    "\n",
    "exercise15(model15,C,S,R)"
   ]
  },
  {
   "cell_type": "code",
   "execution_count": 47,
   "metadata": {},
   "outputs": [
    {
     "name": "stdout",
     "output_type": "stream",
     "text": [
      "objective_value(model15) = 2700.0\n"
     ]
    },
    {
     "data": {
      "text/plain": [
       "2×3 Array{Float64,2}:\n",
       "   0.0  400.0  400.0\n",
       " 300.0    0.0  200.0"
      ]
     },
     "execution_count": 47,
     "metadata": {},
     "output_type": "execute_result"
    }
   ],
   "source": [
    "# Chamada do Solver\n",
    "optimize!(model15)\n",
    " \n",
    "@show objective_value(model15)\n",
    "value.(Q)"
   ]
  },
  {
   "cell_type": "markdown",
   "metadata": {},
   "source": [
    "item b) Aqui o item pede para assumir que o cliente 2 está localizado numa área onde todas as entregas estão sujeitas a um imposto definido como uma porcentagem do custo de uma unidade do produto. Suponha que a taxa de impostos seja de 10% sobre o custo da unidade, por exemplo:"
   ]
  },
  {
   "cell_type": "code",
   "execution_count": 41,
   "metadata": {},
   "outputs": [
    {
     "data": {
      "text/latex": [
       "$$ \\begin{alignat*}{1}\\min\\quad & -Q_{1,1} + Q_{1,2} + Q_{1,3} + 3.3 Q_{2,1} + 6.6 Q_{2,2} + 5.5 Q_{2,3}\\\\\n",
       "\\text{Subject to} \\quad & Q_{1,1} = 0.0\\\\\n",
       " & Q_{1,1} + Q_{1,2} + Q_{1,3} = 800.0\\\\\n",
       " & Q_{2,1} + Q_{2,2} + Q_{2,3} = 500.0\\\\\n",
       " & Q_{1,1} + Q_{2,1} \\leq 300.0\\\\\n",
       " & Q_{1,2} + Q_{2,2} \\leq 400.0\\\\\n",
       " & Q_{1,3} + Q_{2,3} \\leq 900.0\\\\\n",
       " & Q_{1,1} \\geq 0.0\\\\\n",
       " & Q_{2,1} \\geq 0.0\\\\\n",
       " & Q_{1,2} \\geq 0.0\\\\\n",
       " & Q_{2,2} \\geq 0.0\\\\\n",
       " & Q_{1,3} \\geq 0.0\\\\\n",
       " & Q_{2,3} \\geq 0.0\\\\\n",
       " & Q_{1,1} integer\\\\\n",
       " & Q_{2,1} integer\\\\\n",
       " & Q_{1,2} integer\\\\\n",
       " & Q_{2,2} integer\\\\\n",
       " & Q_{1,3} integer\\\\\n",
       " & Q_{2,3} integer\\\\\n",
       "\\end{alignat*}\n",
       " $$"
      ],
      "text/plain": [
       "A JuMP Model\n",
       "Minimization problem with:\n",
       "Variables: 6\n",
       "Objective function type: GenericAffExpr{Float64,VariableRef}\n",
       "`GenericAffExpr{Float64,VariableRef}`-in-`MathOptInterface.EqualTo{Float64}`: 3 constraints\n",
       "`GenericAffExpr{Float64,VariableRef}`-in-`MathOptInterface.LessThan{Float64}`: 3 constraints\n",
       "`VariableRef`-in-`MathOptInterface.GreaterThan{Float64}`: 6 constraints\n",
       "`VariableRef`-in-`MathOptInterface.Integer`: 6 constraints\n",
       "Model mode: AUTOMATIC\n",
       "CachingOptimizer state: EMPTY_OPTIMIZER\n",
       "Solver name: GLPK\n",
       "Names registered in the model: Q, conR, conS"
      ]
     },
     "execution_count": 41,
     "metadata": {},
     "output_type": "execute_result"
    }
   ],
   "source": [
    "# Modelo e Solver\n",
    "model15b = Model(GLPK.Optimizer)\n",
    "\n",
    "C = [-1 3; 1 6; 1 5]\n",
    "\n",
    "#Avaiable supplies\n",
    "S = [300 400 900]\n",
    "\n",
    "#Costumer requirements\n",
    "R = [800 500]\n",
    "\n",
    "# Variaveis\n",
    "@variable(model15b, Q[1:2, 1:3] >= 0, Int)\n",
    "\n",
    "# Restrições\n",
    "@constraint(model15b, Q[1,1] == 0)\n",
    "\n",
    "@constraint(model15b, conS[i = 1:3], sum(Q[:, i]) <= S[i])\n",
    "@constraint(model15b, conR[i = 1:2], sum(Q[i, :]) == R[i])\n",
    "\n",
    "# Função objetivo\n",
    "@objective(model15b, Min, sum(C.*Q') + sum(C[:,2].*Q'[:,2])*0.1)\n",
    "\n",
    "model15b"
   ]
  },
  {
   "cell_type": "code",
   "execution_count": 42,
   "metadata": {},
   "outputs": [
    {
     "name": "stdout",
     "output_type": "stream",
     "text": [
      "objective_value(model15b) = 2890.0\n"
     ]
    },
    {
     "data": {
      "text/plain": [
       "2×3 Array{Float64,2}:\n",
       "   0.0  400.0  400.0\n",
       " 300.0    0.0  200.0"
      ]
     },
     "execution_count": 42,
     "metadata": {},
     "output_type": "execute_result"
    }
   ],
   "source": [
    "optimize!(model15b)\n",
    "@show objective_value(model15b)\n",
    "value.(Q)"
   ]
  },
  {
   "cell_type": "markdown",
   "metadata": {},
   "source": [
    "A resposta é sim, o imposto afeta a solução ótima encontrada no item a)"
   ]
  },
  {
   "cell_type": "markdown",
   "metadata": {},
   "source": [
    "item c)"
   ]
  },
  {
   "cell_type": "code",
   "execution_count": 43,
   "metadata": {},
   "outputs": [
    {
     "data": {
      "text/latex": [
       "$$ \\begin{alignat*}{1}\\min\\quad & -Q_{1,1} + Q_{2,1} + Q_{3,1} + 3 Q_{1,2} + 6 Q_{2,2} + 5 Q_{3,2}\\\\\n",
       "\\text{Subject to} \\quad & Q_{1,1} = 0.0\\\\\n",
       " & Q_{1,1} + Q_{2,1} + Q_{3,1} = 800.0\\\\\n",
       " & Q_{1,2} + Q_{2,2} + Q_{3,2} = 500.0\\\\\n",
       " & Q_{1,1} + Q_{1,2} \\leq 400.0\\\\\n",
       " & Q_{2,1} + Q_{2,2} \\leq 400.0\\\\\n",
       " & Q_{3,1} + Q_{3,2} \\leq 900.0\\\\\n",
       " & Q_{1,1} \\geq 0.0\\\\\n",
       " & Q_{2,1} \\geq 0.0\\\\\n",
       " & Q_{3,1} \\geq 0.0\\\\\n",
       " & Q_{1,2} \\geq 0.0\\\\\n",
       " & Q_{2,2} \\geq 0.0\\\\\n",
       " & Q_{3,2} \\geq 0.0\\\\\n",
       " & Q_{1,1} integer\\\\\n",
       " & Q_{2,1} integer\\\\\n",
       " & Q_{3,1} integer\\\\\n",
       " & Q_{1,2} integer\\\\\n",
       " & Q_{2,2} integer\\\\\n",
       " & Q_{3,2} integer\\\\\n",
       "\\end{alignat*}\n",
       " $$"
      ],
      "text/plain": [
       "A JuMP Model\n",
       "Minimization problem with:\n",
       "Variables: 6\n",
       "Objective function type: GenericAffExpr{Float64,VariableRef}\n",
       "`GenericAffExpr{Float64,VariableRef}`-in-`MathOptInterface.EqualTo{Float64}`: 3 constraints\n",
       "`GenericAffExpr{Float64,VariableRef}`-in-`MathOptInterface.LessThan{Float64}`: 3 constraints\n",
       "`VariableRef`-in-`MathOptInterface.GreaterThan{Float64}`: 6 constraints\n",
       "`VariableRef`-in-`MathOptInterface.Integer`: 6 constraints\n",
       "Model mode: AUTOMATIC\n",
       "CachingOptimizer state: EMPTY_OPTIMIZER\n",
       "Solver name: GLPK\n",
       "Names registered in the model: Q, conR, conS"
      ]
     },
     "execution_count": 43,
     "metadata": {},
     "output_type": "execute_result"
    }
   ],
   "source": [
    "# Modelo e Solver\n",
    "model15c = Model(GLPK.Optimizer)\n",
    "\n",
    "#Avaiable supplies\n",
    "Sc = [400 400 900]\n",
    "\n",
    "exercise15(model15c,C,Sc,R)"
   ]
  },
  {
   "cell_type": "code",
   "execution_count": 44,
   "metadata": {},
   "outputs": [
    {
     "name": "stdout",
     "output_type": "stream",
     "text": [
      "objective_value(model15c) = 2500.0\n"
     ]
    },
    {
     "data": {
      "text/plain": [
       "2×3 Array{Float64,2}:\n",
       "   0.0  400.0  400.0\n",
       " 300.0    0.0  200.0"
      ]
     },
     "execution_count": 44,
     "metadata": {},
     "output_type": "execute_result"
    }
   ],
   "source": [
    "optimize!(model15c)\n",
    "@show objective_value(model15c)\n",
    "\n",
    "value.(Q)"
   ]
  },
  {
   "cell_type": "markdown",
   "metadata": {},
   "source": [
    "### Exercise 16"
   ]
  },
  {
   "cell_type": "markdown",
   "metadata": {},
   "source": [
    "After solving a transportation problem with positive shipping costs $c_{ij}$ along all arcs, we increase the supply at\n",
    "one source and the requirement at one destination in a manner that will maintain equality of total supply and total\n",
    "demand."
   ]
  },
  {
   "cell_type": "markdown",
   "metadata": {},
   "source": [
    "a) Would you expect the shipping cost in the modified problem with a larger total shipment of goods to be higher\n",
    "than the optimal shipping plan from the original problem?"
   ]
  },
  {
   "cell_type": "markdown",
   "metadata": {},
   "source": [
    "Depende, se o fornecimento de uma fonte aumentar de modo que um item cujo custo seja baixo fornecido nesse local em comparação com os demais locais, pode ser que essa economia de custos compense o aumento da demanda de outro item e torne a solução ótima desse problema menor do que a original."
   ]
  },
  {
   "cell_type": "markdown",
   "metadata": {},
   "source": [
    "b) Solve the following transportation problem:"
   ]
  },
  {
   "cell_type": "markdown",
   "metadata": {},
   "source": [
    "| Source       | Unit shipping costs to destinations |    |    | Supplies |\n",
    "|--------------|-------------------------------------|----|----|----------|\n",
    "|              | D1                                  | D2 | D3 |          |\n",
    "| S1           | 4                                   | 2  | 4  | 15       |\n",
    "| S2           | 12                                  | 8  | 4  | 15       |\n",
    "| Requirements | 10                                  | 10 | 10 |          |"
   ]
  },
  {
   "cell_type": "code",
   "execution_count": 7,
   "metadata": {},
   "outputs": [
    {
     "data": {
      "text/latex": [
       "$$ \\begin{alignat*}{1}\\min\\quad & 4 Q_{1,1} + 12 Q_{2,1} + 2 Q_{1,2} + 8 Q_{2,2} + 4 Q_{1,3} + 4 Q_{2,3}\\\\\n",
       "\\text{Subject to} \\quad & Q_{1,1} + Q_{2,1} = 10.0\\\\\n",
       " & Q_{1,2} + Q_{2,2} = 10.0\\\\\n",
       " & Q_{1,3} + Q_{2,3} = 10.0\\\\\n",
       " & Q_{1,1} + Q_{1,2} + Q_{1,3} \\leq 15.0\\\\\n",
       " & Q_{2,1} + Q_{2,2} + Q_{2,3} \\leq 15.0\\\\\n",
       " & Q_{1,1} \\geq 0.0\\\\\n",
       " & Q_{2,1} \\geq 0.0\\\\\n",
       " & Q_{1,2} \\geq 0.0\\\\\n",
       " & Q_{2,2} \\geq 0.0\\\\\n",
       " & Q_{1,3} \\geq 0.0\\\\\n",
       " & Q_{2,3} \\geq 0.0\\\\\n",
       " & Q_{1,1} integer\\\\\n",
       " & Q_{2,1} integer\\\\\n",
       " & Q_{1,2} integer\\\\\n",
       " & Q_{2,2} integer\\\\\n",
       " & Q_{1,3} integer\\\\\n",
       " & Q_{2,3} integer\\\\\n",
       "\\end{alignat*}\n",
       " $$"
      ],
      "text/plain": [
       "A JuMP Model\n",
       "Minimization problem with:\n",
       "Variables: 6\n",
       "Objective function type: GenericAffExpr{Float64,VariableRef}\n",
       "`GenericAffExpr{Float64,VariableRef}`-in-`MathOptInterface.EqualTo{Float64}`: 3 constraints\n",
       "`GenericAffExpr{Float64,VariableRef}`-in-`MathOptInterface.LessThan{Float64}`: 2 constraints\n",
       "`VariableRef`-in-`MathOptInterface.GreaterThan{Float64}`: 6 constraints\n",
       "`VariableRef`-in-`MathOptInterface.Integer`: 6 constraints\n",
       "Model mode: AUTOMATIC\n",
       "CachingOptimizer state: EMPTY_OPTIMIZER\n",
       "Solver name: GLPK\n",
       "Names registered in the model: Q, conR, conS"
      ]
     },
     "execution_count": 7,
     "metadata": {},
     "output_type": "execute_result"
    }
   ],
   "source": [
    "# Modelo e Solver\n",
    "model16b = Model(GLPK.Optimizer)\n",
    "\n",
    "#Shipping costs\n",
    "C = [4 2 4; 12 8 4]\n",
    "\n",
    "# Variaveis\n",
    "@variable(model16b, Q[1:2, 1:3] >= 0, Int)\n",
    "\n",
    "# Restrições\n",
    "@constraint(model16b, conS[i = 1:2], sum(Q[i, :]) <= 15)\n",
    "@constraint(model16b, conR[i = 1:3], sum(Q[:, i]) == 10)\n",
    "\n",
    "# Função objetivo\n",
    "@objective(model16b, Min, sum(C.*Q))\n",
    "\n",
    "model16b"
   ]
  },
  {
   "cell_type": "code",
   "execution_count": 8,
   "metadata": {},
   "outputs": [
    {
     "name": "stdout",
     "output_type": "stream",
     "text": [
      "objective_value(model16b) = 130.0\n"
     ]
    },
    {
     "data": {
      "text/plain": [
       "2×3 Array{Float64,2}:\n",
       " 10.0  5.0   0.0\n",
       "  0.0  5.0  10.0"
      ]
     },
     "execution_count": 8,
     "metadata": {},
     "output_type": "execute_result"
    }
   ],
   "source": [
    "optimize!(model16b)\n",
    "@show objective_value(model16b)\n",
    "value.(Q)"
   ]
  },
  {
   "cell_type": "markdown",
   "metadata": {},
   "source": [
    "c) Increase the supply at source S1 by 1 unit and the demand at demand center D3 by 1 unit, and re-solve the\n",
    "problem. Has the cost of the optimal shipping plan decreased? Explain this behavior."
   ]
  },
  {
   "cell_type": "code",
   "execution_count": 5,
   "metadata": {},
   "outputs": [
    {
     "data": {
      "text/latex": [
       "$$ \\begin{alignat*}{1}\\min\\quad & 4 Q_{1,1} + 12 Q_{2,1} + 2 Q_{1,2} + 8 Q_{2,2} + 4 Q_{1,3} + 4 Q_{2,3}\\\\\n",
       "\\text{Subject to} \\quad & Q_{1,1} + Q_{2,1} = 10.0\\\\\n",
       " & Q_{1,2} + Q_{2,2} = 10.0\\\\\n",
       " & Q_{1,3} + Q_{2,3} = 11.0\\\\\n",
       " & Q_{1,1} + Q_{1,2} + Q_{1,3} \\leq 16.0\\\\\n",
       " & Q_{2,1} + Q_{2,2} + Q_{2,3} \\leq 15.0\\\\\n",
       " & Q_{1,1} \\geq 0.0\\\\\n",
       " & Q_{2,1} \\geq 0.0\\\\\n",
       " & Q_{1,2} \\geq 0.0\\\\\n",
       " & Q_{2,2} \\geq 0.0\\\\\n",
       " & Q_{1,3} \\geq 0.0\\\\\n",
       " & Q_{2,3} \\geq 0.0\\\\\n",
       " & Q_{1,1} integer\\\\\n",
       " & Q_{2,1} integer\\\\\n",
       " & Q_{1,2} integer\\\\\n",
       " & Q_{2,2} integer\\\\\n",
       " & Q_{1,3} integer\\\\\n",
       " & Q_{2,3} integer\\\\\n",
       "\\end{alignat*}\n",
       " $$"
      ],
      "text/plain": [
       "A JuMP Model\n",
       "Minimization problem with:\n",
       "Variables: 6\n",
       "Objective function type: GenericAffExpr{Float64,VariableRef}\n",
       "`GenericAffExpr{Float64,VariableRef}`-in-`MathOptInterface.EqualTo{Float64}`: 3 constraints\n",
       "`GenericAffExpr{Float64,VariableRef}`-in-`MathOptInterface.LessThan{Float64}`: 2 constraints\n",
       "`VariableRef`-in-`MathOptInterface.GreaterThan{Float64}`: 6 constraints\n",
       "`VariableRef`-in-`MathOptInterface.Integer`: 6 constraints\n",
       "Model mode: AUTOMATIC\n",
       "CachingOptimizer state: EMPTY_OPTIMIZER\n",
       "Solver name: GLPK\n",
       "Names registered in the model: Q, conR, conS"
      ]
     },
     "execution_count": 5,
     "metadata": {},
     "output_type": "execute_result"
    }
   ],
   "source": [
    "# Modelo e Solver\n",
    "model16b = Model(GLPK.Optimizer)\n",
    "\n",
    "#Shipping costs\n",
    "C = [4 2 4; 12 8 4]\n",
    "\n",
    "S = [16 15]\n",
    "R = [10 10 11]\n",
    "\n",
    "# Variaveis\n",
    "@variable(model16b, Q[1:2, 1:3] >= 0, Int)\n",
    "\n",
    "# Restrições\n",
    "@constraint(model16b, conS[i = 1:2], sum(Q[i, :]) <= S[i])\n",
    "@constraint(model16b, conR[i = 1:3], sum(Q[:, i]) == R[i])\n",
    "\n",
    "# Função objetivo\n",
    "@objective(model16b, Min, sum(C.*Q))\n",
    "\n",
    "model16b"
   ]
  },
  {
   "cell_type": "code",
   "execution_count": 6,
   "metadata": {},
   "outputs": [
    {
     "name": "stdout",
     "output_type": "stream",
     "text": [
      "objective_value(model16b) = 128.0\n"
     ]
    },
    {
     "data": {
      "text/plain": [
       "2×3 Array{Float64,2}:\n",
       " 10.0  6.0   0.0\n",
       "  0.0  4.0  11.0"
      ]
     },
     "execution_count": 6,
     "metadata": {},
     "output_type": "execute_result"
    }
   ],
   "source": [
    "optimize!(model16b)\n",
    "@show objective_value(model16b)\n",
    "value.(Q)"
   ]
  },
  {
   "cell_type": "markdown",
   "metadata": {},
   "source": [
    "O custo do plano ótimo diminuiu em comparação com o que foi encontrado no item b). O custo de um item a mais demandado em $D3$ é 4 tanto vindo de $S1$ quanto $S2$, em compensação o item a mais no fornecimento de $S1$ troca uma entrega para $D2$ que custava $8$ para $2$. Fazendo com que no final haja uma economia de $2$ e  o resultado ótimo seja $128$."
   ]
  }
 ],
 "metadata": {
  "kernelspec": {
   "display_name": "Julia 1.5.3",
   "language": "julia",
   "name": "julia-1.5"
  },
  "language_info": {
   "file_extension": ".jl",
   "mimetype": "application/julia",
   "name": "julia",
   "version": "1.5.3"
  }
 },
 "nbformat": 4,
 "nbformat_minor": 4
}
