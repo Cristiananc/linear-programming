{
 "cells": [
  {
   "cell_type": "markdown",
   "metadata": {},
   "source": [
    "Instalando os pacotes"
   ]
  },
  {
   "cell_type": "code",
   "execution_count": 3,
   "metadata": {},
   "outputs": [
    {
     "name": "stderr",
     "output_type": "stream",
     "text": [
      "\u001b[32m\u001b[1m  Resolving\u001b[22m\u001b[39m package versions...\n",
      "\u001b[32m\u001b[1mNo Changes\u001b[22m\u001b[39m to `~/.julia/environments/v1.5/Project.toml`\n",
      "\u001b[32m\u001b[1mNo Changes\u001b[22m\u001b[39m to `~/.julia/environments/v1.5/Manifest.toml`\n",
      "\u001b[32m\u001b[1m  Resolving\u001b[22m\u001b[39m package versions...\n",
      "\u001b[32m\u001b[1mNo Changes\u001b[22m\u001b[39m to `~/.julia/environments/v1.5/Project.toml`\n",
      "\u001b[32m\u001b[1mNo Changes\u001b[22m\u001b[39m to `~/.julia/environments/v1.5/Manifest.toml`\n"
     ]
    }
   ],
   "source": [
    "using Pkg\n",
    "Pkg.add(\"GLPK\")\n",
    "Pkg.add(\"JuMP\")"
   ]
  },
  {
   "cell_type": "code",
   "execution_count": 7,
   "metadata": {},
   "outputs": [
    {
     "name": "stderr",
     "output_type": "stream",
     "text": [
      "┌ Info: Precompiling JuMP [4076af6c-e467-56ae-b986-b466b2749572]\n",
      "└ @ Base loading.jl:1278\n",
      "┌ Info: Precompiling GLPK [60bf3e95-4087-53dc-ae20-288a0d20c6a6]\n",
      "└ @ Base loading.jl:1278\n"
     ]
    }
   ],
   "source": [
    "using JuMP, GLPK"
   ]
  },
  {
   "cell_type": "markdown",
   "metadata": {},
   "source": [
    "### Seção 1.2\n",
    "Questão 1 (Para testar o uso do solver com a linguagem Julia)"
   ]
  },
  {
   "cell_type": "code",
   "execution_count": 15,
   "metadata": {},
   "outputs": [
    {
     "name": "stdout",
     "output_type": "stream",
     "text": [
      "Min 0.14 f1 + 0.12 f2 + 0.2 f3 + 0.75 f4 + 0.15 f5\n",
      "Subject to\n",
      " 23 f1 + 171 f2 + 65 f3 + 112 f4 + 188 f5 ≥ 2000.0\n",
      " 0.1 f1 + 0.2 f2 + 9.3 f4 + 16 f5 ≥ 50.0\n",
      " f1 ≥ 0.0\n",
      " f2 ≥ 0.0\n",
      " f3 ≥ 0.0\n",
      " f4 ≥ 0.0\n",
      " f5 ≥ 0.0\n"
     ]
    }
   ],
   "source": [
    "# Modelo e Solver\n",
    "model = Model(GLPK.Optimizer)\n",
    "\n",
    "# Variaveis\n",
    "@variable(model,f1>=0)\n",
    "@variable(model,f2>=0)\n",
    "@variable(model,f3>=0)\n",
    "@variable(model,f4>=0)\n",
    "@variable(model,f5>=0)\n",
    "\n",
    "# Restrições\n",
    "@constraint(model,23*f1 + 171*f2 + 65*f3 + 112*f4 + 188*f5 >= 2000)\n",
    "@constraint(model, 0.1*f1 + 0.2*f2 + 9.3*f4 + 16*f5 >= 50)\n",
    "\n",
    "# Função objetivo\n",
    "@objective(model,Min,0.14*f1 + 0.12*f2 + 0.2*f3 + 0.75*f4 + 0.15*f5)\n",
    "\n",
    "print(model)"
   ]
  },
  {
   "cell_type": "code",
   "execution_count": 16,
   "metadata": {},
   "outputs": [
    {
     "name": "stdout",
     "output_type": "stream",
     "text": [
      "value(f1) = 0.0\n",
      "value(f2) = 8.375333530981322\n",
      "value(f3) = 0.0\n",
      "value(f4) = 0.0\n",
      "value(f5) = 3.0203083308627336\n",
      "objective_value(model) = 1.4580862733471687\n"
     ]
    },
    {
     "data": {
      "text/plain": [
       "1.4580862733471687"
      ]
     },
     "execution_count": 16,
     "metadata": {},
     "output_type": "execute_result"
    }
   ],
   "source": [
    "# Chamada do Solver\n",
    "optimize!(model)\n",
    "\n",
    "#Declarar solução\n",
    "@show value(f1)\n",
    "@show value(f2)\n",
    "@show value(f3)\n",
    "@show value(f4)\n",
    "@show value(f5)\n",
    "\n",
    "@show objective_value(model)"
   ]
  }
 ],
 "metadata": {
  "kernelspec": {
   "display_name": "Julia 1.5.3",
   "language": "julia",
   "name": "julia-1.5"
  },
  "language_info": {
   "file_extension": ".jl",
   "mimetype": "application/julia",
   "name": "julia",
   "version": "1.5.3"
  }
 },
 "nbformat": 4,
 "nbformat_minor": 4
}
