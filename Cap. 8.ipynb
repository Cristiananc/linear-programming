{
 "cells": [
  {
   "cell_type": "code",
   "execution_count": 1,
   "metadata": {},
   "outputs": [],
   "source": [
    "using JuMP, GLPK, LinearAlgebra"
   ]
  },
  {
   "cell_type": "markdown",
   "metadata": {},
   "source": [
    "### Exercise 1"
   ]
  },
  {
   "cell_type": "markdown",
   "metadata": {},
   "source": [
    "A gas company owns a pipeline network, sections of which are used to pump natural gas from its main field to its\n",
    "distribution center. The network is shown below, where the direction of the arrows indicates the only direction in\n",
    "which the gas can be pumped. The pipeline links of the system are numbered one through six, and the intermediate\n",
    "nodes are large pumping stations. At the present time, the company nets 1200 mcf (million cubic feet) of gas per\n",
    "month from its main field and must transport that entire amount to the distribution center. The following are the\n",
    "maximum usage rates and costs associated with each link:"
   ]
  },
  {
   "cell_type": "markdown",
   "metadata": {},
   "source": [
    "a) What are the decision variables?"
   ]
  },
  {
   "cell_type": "code",
   "execution_count": null,
   "metadata": {},
   "outputs": [],
   "source": [
    "            "
   ]
  },
  {
   "cell_type": "markdown",
   "metadata": {},
   "source": [
    "b) Formulate the problem as a linear program."
   ]
  },
  {
   "cell_type": "code",
   "execution_count": null,
   "metadata": {},
   "outputs": [],
   "source": []
  },
  {
   "cell_type": "markdown",
   "metadata": {},
   "source": [
    "c) For the optimal solution, do you expect the dual variable associated with the maximum usage of link 1 to be\n",
    "positive, zero, or negative and why?"
   ]
  },
  {
   "cell_type": "code",
   "execution_count": null,
   "metadata": {},
   "outputs": [],
   "source": []
  },
  {
   "cell_type": "markdown",
   "metadata": {},
   "source": [
    "d) Suppose there were maximum usage rates on the pumping stations; how would your formulation change?"
   ]
  },
  {
   "cell_type": "code",
   "execution_count": null,
   "metadata": {},
   "outputs": [],
   "source": []
  },
  {
   "cell_type": "code",
   "execution_count": null,
   "metadata": {},
   "outputs": [],
   "source": []
  },
  {
   "cell_type": "code",
   "execution_count": null,
   "metadata": {},
   "outputs": [],
   "source": []
  },
  {
   "cell_type": "markdown",
   "metadata": {},
   "source": [
    "### Exercise 2"
   ]
  },
  {
   "cell_type": "markdown",
   "metadata": {},
   "source": [
    "Criamos uma matriz Q que representa a quantidade de carros que serão enviados de cada filial a cada destino, onde as linhas representam os destinos e as colunas a filial. D é uma matriz que contém as distâncias entre cada um dos destinos e cada uma das filiais. Queremos minimizar a quilometragem rodada dos carros que é dada pela soma dos elementos da multiplicação elemento por elemento das matrizes $D$ e $Q$."
   ]
  },
  {
   "cell_type": "code",
   "execution_count": 73,
   "metadata": {},
   "outputs": [
    {
     "name": "stdout",
     "output_type": "stream",
     "text": [
      "Min 7 Q[1,1] + Q[2,1] + 9 Q[3,1] + 11 Q[1,2] + 6 Q[2,2] + 15 Q[3,2] + 3 Q[1,3] + 8 Q[3,3] + 2 Q[1,4] + Q[2,4] + 5 Q[3,4]\n",
      "Subject to\n",
      " conD[1] : Q[1,1] + Q[2,1] + Q[3,1] = 2.0\n",
      " conD[2] : Q[1,2] + Q[2,2] + Q[3,2] = 3.0\n",
      " conD[3] : Q[1,3] + Q[2,3] + Q[3,3] = 5.0\n",
      " conD[4] : Q[1,4] + Q[2,4] + Q[3,4] = 7.0\n",
      " conC[1] : Q[1,1] + Q[1,2] + Q[1,3] + Q[1,4] = 6.0\n",
      " conC[2] : Q[2,1] + Q[2,2] + Q[2,3] + Q[2,4] = 1.0\n",
      " conC[3] : Q[3,1] + Q[3,2] + Q[3,3] + Q[3,4] = 10.0\n",
      " Q[1,1] ≥ 0.0\n",
      " Q[2,1] ≥ 0.0\n",
      " Q[3,1] ≥ 0.0\n",
      " Q[1,2] ≥ 0.0\n",
      " Q[2,2] ≥ 0.0\n",
      " Q[3,2] ≥ 0.0\n",
      " Q[1,3] ≥ 0.0\n",
      " Q[2,3] ≥ 0.0\n",
      " Q[3,3] ≥ 0.0\n",
      " Q[1,4] ≥ 0.0\n",
      " Q[2,4] ≥ 0.0\n",
      " Q[3,4] ≥ 0.0\n",
      " Q[1,1] integer\n",
      " Q[2,1] integer\n",
      " Q[3,1] integer\n",
      " Q[1,2] integer\n",
      " Q[2,2] integer\n",
      " Q[3,2] integer\n",
      " Q[1,3] integer\n",
      " Q[2,3] integer\n",
      " Q[3,3] integer\n",
      " Q[1,4] integer\n",
      " Q[2,4] integer\n",
      " Q[3,4] integer\n"
     ]
    }
   ],
   "source": [
    "# Modelo e Solver\n",
    "model2 = Model(GLPK.Optimizer)\n",
    "\n",
    "#Distâncias entre filiais e os destinos \n",
    "D = [7 11 3 2; 1 6 0 1; 9 15 8 5]\n",
    "\n",
    "#Demanda de carros em cada um dos destinos\n",
    "de = [2 3 5 7]\n",
    "\n",
    "#Carros disponíveis em cada filial\n",
    "c = [6 1 10]\n",
    "\n",
    "# Variaveis\n",
    "@variable(model2, Q[1:3, 1:4] >= 0, Int)\n",
    "\n",
    "# Restrições\n",
    "@constraint(model2, conD[i = 1:4], sum(Q[:, i]) == de[i])\n",
    "@constraint(model2, conC[i = 1:3], sum(Q[i, :]) == c[i])\n",
    "\n",
    "# Função objetivo\n",
    "@objective(model2, Min, sum(D.*Q))\n",
    "\n",
    "print(model2)"
   ]
  },
  {
   "cell_type": "code",
   "execution_count": 72,
   "metadata": {},
   "outputs": [
    {
     "name": "stdout",
     "output_type": "stream",
     "text": [
      "objective_value(model2) = 100.0\n"
     ]
    },
    {
     "data": {
      "text/plain": [
       "3×4 Array{Float64,2}:\n",
       " 0.0  1.0  5.0  0.0\n",
       " 0.0  1.0  0.0  0.0\n",
       " 2.0  1.0  0.0  7.0"
      ]
     },
     "execution_count": 72,
     "metadata": {},
     "output_type": "execute_result"
    }
   ],
   "source": [
    "# Chamada do Solver\n",
    "optimize!(model2)\n",
    " \n",
    "@show objective_value(model2)\n",
    "value.(Q)"
   ]
  },
  {
   "cell_type": "markdown",
   "metadata": {},
   "source": [
    "### Exercise 3"
   ]
  },
  {
   "cell_type": "markdown",
   "metadata": {},
   "source": [
    "Essa questão é sobre um mercado de ações estadunidense automatizado. O objetivo é minimizar o tempo que leva para transferir as mensagens de um terminal para as instalações de processamento. Para isso, utiliza-se um racíocinio semelhante ao que foi usado no exercício anterior. T é a matriz com os tempos de transferência e M a matriz com a quantidade de mensagens que cada instalação de processamento vai receber de cada terminal."
   ]
  },
  {
   "cell_type": "markdown",
   "metadata": {},
   "source": [
    "item b)"
   ]
  },
  {
   "cell_type": "markdown",
   "metadata": {},
   "source": [
    "(escrever as restrições aqui em Latex)"
   ]
  },
  {
   "cell_type": "code",
   "execution_count": 80,
   "metadata": {},
   "outputs": [
    {
     "name": "stdout",
     "output_type": "stream",
     "text": [
      "Min 6 Q[1,1] + 3 Q[1,2] + 8 Q[1,3] + 11 Q[1,4] + 4 Q[1,5] + 6 Q[2,1] + 2 Q[2,2] + 7 Q[2,3] + 12 Q[2,4] + 3 Q[2,5] + 9 Q[3,1] + 7 Q[3,2] + 5 Q[3,3] + 9 Q[3,4] + 4 Q[3,5] + 4 Q[4,1] + 5 Q[4,2] + 6 Q[4,3] + 5 Q[4,4] + 5 Q[4,5] + 10 Q[5,1] + 12 Q[5,2] + 4 Q[5,3] + 2 Q[5,4] + 11 Q[5,5]\n",
      "Subject to\n",
      " conD[1] : Q[1,1] + Q[2,1] + Q[3,1] + Q[4,1] + Q[5,1] = 120.0\n",
      " conD[2] : Q[1,2] + Q[2,2] + Q[3,2] + Q[4,2] + Q[5,2] = 80.0\n",
      " conD[3] : Q[1,3] + Q[2,3] + Q[3,3] + Q[4,3] + Q[5,3] = 50.0\n",
      " conD[4] : Q[1,4] + Q[2,4] + Q[3,4] + Q[4,4] + Q[5,4] = 75.0\n",
      " conD[5] : Q[1,5] + Q[2,5] + Q[3,5] + Q[4,5] + Q[5,5] = 85.0\n",
      " conS[1] : Q[1,1] + Q[1,2] + Q[1,3] + Q[1,4] + Q[1,5] = 45.0\n",
      " conS[2] : Q[2,1] + Q[2,2] + Q[2,3] + Q[2,4] + Q[2,5] = 90.0\n",
      " conS[3] : Q[3,1] + Q[3,2] + Q[3,3] + Q[3,4] + Q[3,5] = 95.0\n",
      " conS[4] : Q[4,1] + Q[4,2] + Q[4,3] + Q[4,4] + Q[4,5] = 75.0\n",
      " conS[5] : Q[5,1] + Q[5,2] + Q[5,3] + Q[5,4] + Q[5,5] = 105.0\n",
      " Q[1,1] ≥ 0.0\n",
      " Q[2,1] ≥ 0.0\n",
      " Q[3,1] ≥ 0.0\n",
      " Q[4,1] ≥ 0.0\n",
      " Q[5,1] ≥ 0.0\n",
      " Q[1,2] ≥ 0.0\n",
      " Q[2,2] ≥ 0.0\n",
      " Q[3,2] ≥ 0.0\n",
      " Q[4,2] ≥ 0.0\n",
      " Q[5,2] ≥ 0.0\n",
      " Q[1,3] ≥ 0.0\n",
      " Q[2,3] ≥ 0.0\n",
      " Q[3,3] ≥ 0.0\n",
      " Q[4,3] ≥ 0.0\n",
      " Q[5,3] ≥ 0.0\n",
      " Q[1,4] ≥ 0.0\n",
      " Q[2,4] ≥ 0.0\n",
      " Q[3,4] ≥ 0.0\n",
      " Q[4,4] ≥ 0.0\n",
      " Q[5,4] ≥ 0.0\n",
      " Q[1,5] ≥ 0.0\n",
      " Q[2,5] ≥ 0.0\n",
      " Q[3,5] ≥ 0.0\n",
      " Q[4,5] ≥ 0.0\n",
      " Q[5,5] ≥ 0.0\n",
      " Q[1,1] integer\n",
      " Q[2,1] integer\n",
      " Q[3,1] integer\n",
      " Q[4,1] integer\n",
      " Q[5,1] integer\n",
      " Q[1,2] integer\n",
      " Q[2,2] integer\n",
      " Q[3,2] integer\n",
      " Q[4,2] integer\n",
      " Q[5,2] integer\n",
      " Q[1,3] integer\n",
      " Q[2,3] integer\n",
      " Q[3,3] integer\n",
      " Q[4,3] integer\n",
      " Q[5,3] integer\n",
      " Q[1,4] integer\n",
      " Q[2,4] integer\n",
      " Q[3,4] integer\n",
      " Q[4,4] integer\n",
      " Q[5,4] integer\n",
      " Q[1,5] integer\n",
      " Q[2,5] integer\n",
      " Q[3,5] integer\n",
      " Q[4,5] integer\n",
      " Q[5,5] integer\n"
     ]
    }
   ],
   "source": [
    "# Modelo e Solver\n",
    "model3 = Model(GLPK.Optimizer)\n",
    "\n",
    "T = [6 6 9 4 10; 3 2 7 5 12; 8 7 5 6 4; 11 12 9 5 2; 4 3 4 5 11]\n",
    "\n",
    "#Demand\n",
    "D = [120 80 50 75 85]\n",
    "\n",
    "#Suply\n",
    "S = [45 90 95 75 105]\n",
    "\n",
    "# Variaveis\n",
    "@variable(model3, Q[1:5, 1:5] >= 0, Int)\n",
    "\n",
    "# Restrições\n",
    "@constraint(model3, conD[i = 1:5], sum(Q[:, i]) == D[i])\n",
    "@constraint(model3, conS[i = 1:5], sum(Q[i, :]) == S[i])\n",
    "\n",
    "# Função objetivo\n",
    "@objective(model3, Min, sum(T.*Q'))\n",
    "\n",
    "print(model3)"
   ]
  },
  {
   "cell_type": "code",
   "execution_count": 84,
   "metadata": {},
   "outputs": [
    {
     "name": "stdout",
     "output_type": "stream",
     "text": [
      "Optimal Solutions:\n",
      "objective_value(model3) = 1430.0\n"
     ]
    },
    {
     "data": {
      "text/plain": [
       "5×5 Array{Float64,2}:\n",
       " 45.0   0.0   0.0   0.0   0.0\n",
       "  0.0  80.0   0.0   0.0  10.0\n",
       "  0.0   0.0  20.0   0.0  75.0\n",
       " 75.0   0.0   0.0   0.0   0.0\n",
       "  0.0   0.0  30.0  75.0   0.0"
      ]
     },
     "execution_count": 84,
     "metadata": {},
     "output_type": "execute_result"
    }
   ],
   "source": [
    "optimize!(model3)\n",
    "println(\"Optimal Solutions:\")\n",
    "@show objective_value(model3)\n",
    "value.(Q)"
   ]
  },
  {
   "cell_type": "markdown",
   "metadata": {},
   "source": [
    "### Exercise 4"
   ]
  },
  {
   "cell_type": "markdown",
   "metadata": {},
   "source": [
    "O objetivo é maximizar o lucro de uma empresa de esportes nas vendas de raquetes de tênis de 5 tipos diferentes compradas de 4 fabricantes. A matriz P contém os preços das raquetes, onde as linhas são as fabricantes M1, M2, M3 e M4 e as colunas os tipos de raquete. A matriz Q representa a quantidade de raquetes, as linhas são os tipos e as colunas as fabricantes."
   ]
  },
  {
   "cell_type": "code",
   "execution_count": 85,
   "metadata": {},
   "outputs": [
    {
     "name": "stdout",
     "output_type": "stream",
     "text": [
      "Min 5.5 Q[1,1] + 6 Q[1,2] + 5 Q[1,3] + 6.5 Q[1,4] + 7 Q[2,1] + 6.5 Q[2,2] + 7 Q[2,3] + 5.5 Q[2,4] + 8.5 Q[3,1] + 9 Q[3,2] + 9.5 Q[3,3] + 8 Q[3,4] + 4.5 Q[4,1] + 3.5 Q[4,2] + 4 Q[4,3] + 5 Q[4,4] + 3 Q[5,1] + 2 Q[5,2] + 2.5 Q[5,3] + 3.5 Q[5,4]\n",
      "Subject to\n",
      " conR[1] : Q[1,1] + Q[1,2] + Q[1,3] + Q[1,4] = 300.0\n",
      " conR[2] : Q[2,1] + Q[2,2] + Q[2,3] + Q[2,4] = 200.0\n",
      " conR[3] : Q[3,1] + Q[3,2] + Q[3,3] + Q[3,4] = 150.0\n",
      " conR[4] : Q[4,1] + Q[4,2] + Q[4,3] + Q[4,4] = 500.0\n",
      " conR[5] : Q[5,1] + Q[5,2] + Q[5,3] + Q[5,4] = 400.0\n",
      " conS[1] : Q[1,1] + Q[2,1] + Q[3,1] + Q[4,1] + Q[5,1] ≤ 600.0\n",
      " conS[2] : Q[1,2] + Q[2,2] + Q[3,2] + Q[4,2] + Q[5,2] ≤ 500.0\n",
      " conS[3] : Q[1,3] + Q[2,3] + Q[3,3] + Q[4,3] + Q[5,3] ≤ 300.0\n",
      " conS[4] : Q[1,4] + Q[2,4] + Q[3,4] + Q[4,4] + Q[5,4] ≤ 400.0\n",
      " Q[1,1] ≥ 0.0\n",
      " Q[2,1] ≥ 0.0\n",
      " Q[3,1] ≥ 0.0\n",
      " Q[4,1] ≥ 0.0\n",
      " Q[5,1] ≥ 0.0\n",
      " Q[1,2] ≥ 0.0\n",
      " Q[2,2] ≥ 0.0\n",
      " Q[3,2] ≥ 0.0\n",
      " Q[4,2] ≥ 0.0\n",
      " Q[5,2] ≥ 0.0\n",
      " Q[1,3] ≥ 0.0\n",
      " Q[2,3] ≥ 0.0\n",
      " Q[3,3] ≥ 0.0\n",
      " Q[4,3] ≥ 0.0\n",
      " Q[5,3] ≥ 0.0\n",
      " Q[1,4] ≥ 0.0\n",
      " Q[2,4] ≥ 0.0\n",
      " Q[3,4] ≥ 0.0\n",
      " Q[4,4] ≥ 0.0\n",
      " Q[5,4] ≥ 0.0\n",
      " Q[1,1] integer\n",
      " Q[2,1] integer\n",
      " Q[3,1] integer\n",
      " Q[4,1] integer\n",
      " Q[5,1] integer\n",
      " Q[1,2] integer\n",
      " Q[2,2] integer\n",
      " Q[3,2] integer\n",
      " Q[4,2] integer\n",
      " Q[5,2] integer\n",
      " Q[1,3] integer\n",
      " Q[2,3] integer\n",
      " Q[3,3] integer\n",
      " Q[4,3] integer\n",
      " Q[5,3] integer\n",
      " Q[1,4] integer\n",
      " Q[2,4] integer\n",
      " Q[3,4] integer\n",
      " Q[4,4] integer\n",
      " Q[5,4] integer\n"
     ]
    }
   ],
   "source": [
    "# Modelo e Solver\n",
    "model4 = Model(GLPK.Optimizer)\n",
    "\n",
    "P = [5.50 7 8.5 4.5 3; 6 6.5 9 3.5 2; 5 7 9.5 4 2.5; 6.5 5.5 8 5 3.5]\n",
    "\n",
    "#Qtd máxima de raquetes que cada fabricante pode oferecer\n",
    "S = [600 500 300 400]\n",
    "\n",
    "#Qtd de cada tipo de raquete que a empresa deseja contratar\n",
    "R = [300 200 150 500 400]\n",
    "\n",
    "# Variaveis\n",
    "@variable(model4, Q[1:5, 1:4] >= 0, Int)\n",
    "\n",
    "# Restrições\n",
    "@constraint(model4, conS[i = 1:4], sum(Q[:, i]) <= S[i])\n",
    "@constraint(model4, conR[i = 1:5], sum(Q[i, :]) == R[i])\n",
    "\n",
    "# Função objetivo\n",
    "@objective(model4, Min, sum(P.*(Q')))\n",
    "\n",
    "print(model4)"
   ]
  },
  {
   "cell_type": "code",
   "execution_count": 87,
   "metadata": {},
   "outputs": [
    {
     "name": "stdout",
     "output_type": "stream",
     "text": [
      "objective_value(model4) = 6750.0\n"
     ]
    },
    {
     "data": {
      "text/plain": [
       "5×4 Array{Float64,2}:\n",
       " 300.0    0.0    0.0    0.0\n",
       "   0.0    0.0    0.0  200.0\n",
       "   0.0    0.0    0.0  150.0\n",
       "   0.0  500.0    0.0    0.0\n",
       " 100.0    0.0  300.0    0.0"
      ]
     },
     "execution_count": 87,
     "metadata": {},
     "output_type": "execute_result"
    }
   ],
   "source": [
    "optimize!(model4)\n",
    "\n",
    "@show objective_value(model4)\n",
    "value.(Q)"
   ]
  },
  {
   "cell_type": "markdown",
   "metadata": {},
   "source": [
    "### Exercise 5"
   ]
  },
  {
   "cell_type": "code",
   "execution_count": null,
   "metadata": {},
   "outputs": [],
   "source": []
  },
  {
   "cell_type": "code",
   "execution_count": null,
   "metadata": {},
   "outputs": [],
   "source": []
  },
  {
   "cell_type": "code",
   "execution_count": null,
   "metadata": {},
   "outputs": [],
   "source": []
  },
  {
   "cell_type": "markdown",
   "metadata": {},
   "source": [
    "### Exercise 6"
   ]
  },
  {
   "cell_type": "code",
   "execution_count": null,
   "metadata": {},
   "outputs": [],
   "source": []
  },
  {
   "cell_type": "code",
   "execution_count": null,
   "metadata": {},
   "outputs": [],
   "source": []
  },
  {
   "cell_type": "markdown",
   "metadata": {},
   "source": [
    "### Exercise 7"
   ]
  },
  {
   "cell_type": "code",
   "execution_count": null,
   "metadata": {},
   "outputs": [],
   "source": []
  },
  {
   "cell_type": "code",
   "execution_count": null,
   "metadata": {},
   "outputs": [],
   "source": []
  },
  {
   "cell_type": "code",
   "execution_count": null,
   "metadata": {},
   "outputs": [],
   "source": []
  },
  {
   "cell_type": "markdown",
   "metadata": {},
   "source": [
    "### Exercise 8"
   ]
  },
  {
   "cell_type": "code",
   "execution_count": null,
   "metadata": {},
   "outputs": [],
   "source": []
  },
  {
   "cell_type": "code",
   "execution_count": null,
   "metadata": {},
   "outputs": [],
   "source": []
  },
  {
   "cell_type": "markdown",
   "metadata": {},
   "source": [
    "### Exercise 15"
   ]
  },
  {
   "cell_type": "markdown",
   "metadata": {},
   "source": [
    "item a) Existem soluções ótimas que vão além do centro 1 enviar todos os produtos disponíveis para o cliente 1."
   ]
  },
  {
   "cell_type": "code",
   "execution_count": 91,
   "metadata": {},
   "outputs": [
    {
     "name": "stdout",
     "output_type": "stream",
     "text": [
      "Min -Q[1,1] + Q[1,2] + Q[1,3] + 3 Q[2,1] + 6 Q[2,2] + 5 Q[2,3]\n",
      "Subject to\n",
      " Q[1,1] = 0.0\n",
      " conR[1] : Q[1,1] + Q[1,2] + Q[1,3] = 800.0\n",
      " conR[2] : Q[2,1] + Q[2,2] + Q[2,3] = 500.0\n",
      " conS[1] : Q[1,1] + Q[2,1] ≤ 300.0\n",
      " conS[2] : Q[1,2] + Q[2,2] ≤ 400.0\n",
      " conS[3] : Q[1,3] + Q[2,3] ≤ 900.0\n",
      " Q[1,1] ≥ 0.0\n",
      " Q[2,1] ≥ 0.0\n",
      " Q[1,2] ≥ 0.0\n",
      " Q[2,2] ≥ 0.0\n",
      " Q[1,3] ≥ 0.0\n",
      " Q[2,3] ≥ 0.0\n",
      " Q[1,1] integer\n",
      " Q[2,1] integer\n",
      " Q[1,2] integer\n",
      " Q[2,2] integer\n",
      " Q[1,3] integer\n",
      " Q[2,3] integer\n"
     ]
    }
   ],
   "source": [
    "# Modelo e Solver\n",
    "model15 = Model(GLPK.Optimizer)\n",
    "\n",
    "C = [-1 3; 1 6; 1 5]\n",
    "\n",
    "#Avaiable supplies\n",
    "S = [300 400 900]\n",
    "\n",
    "#Costumer requirements\n",
    "R = [800 500]\n",
    "\n",
    "function exercise15(model, C,S, R)\n",
    "    # Variaveis\n",
    "    @variable(model, Q[1:2, 1:3] >= 0, Int)\n",
    "\n",
    "    # Restrições\n",
    "    @constraint(model, Q[1,1] == 0)\n",
    "\n",
    "    @constraint(model, conS[i = 1:3], sum(Q[:, i]) <= S[i])\n",
    "    @constraint(model, conR[i = 1:2], sum(Q[i, :]) == R[i])\n",
    "\n",
    "    # Função objetivo\n",
    "    @objective(model, Min, sum(C.*Q'))\n",
    "\n",
    "    print(model)\n",
    "end\n",
    "\n",
    "exercise15(model15,C,S,R)"
   ]
  },
  {
   "cell_type": "code",
   "execution_count": 92,
   "metadata": {},
   "outputs": [
    {
     "name": "stdout",
     "output_type": "stream",
     "text": [
      "objective_value(model15) = 2700.0\n"
     ]
    },
    {
     "data": {
      "text/plain": [
       "2×3 Array{Float64,2}:\n",
       "   0.0  400.0  400.0\n",
       " 300.0    0.0  200.0"
      ]
     },
     "execution_count": 92,
     "metadata": {},
     "output_type": "execute_result"
    }
   ],
   "source": [
    "# Chamada do Solver\n",
    "optimize!(model15)\n",
    " \n",
    "@show objective_value(model15)\n",
    "value.(Q)"
   ]
  },
  {
   "cell_type": "markdown",
   "metadata": {},
   "source": [
    "item b) Aqui o item pede para assumir que o cliente 2 está localizado numa área onde todas as entregas estão sujeitas a um imposto definido como uma porcentagem do custo de uma unidade do produto. Suponha que a taxa de impostos seja de 10% sobre o custo da unidade, por exemplo:"
   ]
  },
  {
   "cell_type": "code",
   "execution_count": 93,
   "metadata": {},
   "outputs": [
    {
     "name": "stdout",
     "output_type": "stream",
     "text": [
      "Min -Q[1,1] + Q[1,2] + Q[1,3] + 3.3 Q[2,1] + 6.6 Q[2,2] + 5.5 Q[2,3]\n",
      "Subject to\n",
      " Q[1,1] = 0.0\n",
      " conR[1] : Q[1,1] + Q[1,2] + Q[1,3] = 800.0\n",
      " conR[2] : Q[2,1] + Q[2,2] + Q[2,3] = 500.0\n",
      " conS[1] : Q[1,1] + Q[2,1] ≤ 300.0\n",
      " conS[2] : Q[1,2] + Q[2,2] ≤ 400.0\n",
      " conS[3] : Q[1,3] + Q[2,3] ≤ 900.0\n",
      " Q[1,1] ≥ 0.0\n",
      " Q[2,1] ≥ 0.0\n",
      " Q[1,2] ≥ 0.0\n",
      " Q[2,2] ≥ 0.0\n",
      " Q[1,3] ≥ 0.0\n",
      " Q[2,3] ≥ 0.0\n",
      " Q[1,1] integer\n",
      " Q[2,1] integer\n",
      " Q[1,2] integer\n",
      " Q[2,2] integer\n",
      " Q[1,3] integer\n",
      " Q[2,3] integer\n",
      "objective_value(model15b) = 2890.0\n"
     ]
    },
    {
     "data": {
      "text/plain": [
       "2890.0"
      ]
     },
     "execution_count": 93,
     "metadata": {},
     "output_type": "execute_result"
    }
   ],
   "source": [
    "# Modelo e Solver\n",
    "model15b = Model(GLPK.Optimizer)\n",
    "\n",
    "C = [-1 3; 1 6; 1 5]\n",
    "\n",
    "#Avaiable supplies\n",
    "S = [300 400 900]\n",
    "\n",
    "#Costumer requirements\n",
    "R = [800 500]\n",
    "\n",
    "# Variaveis\n",
    "@variable(model15b, Q[1:2, 1:3] >= 0, Int)\n",
    "\n",
    "# Restrições\n",
    "@constraint(model15b, Q[1,1] == 0)\n",
    "\n",
    "@constraint(model15b, conS[i = 1:3], sum(Q[:, i]) <= S[i])\n",
    "@constraint(model15b, conR[i = 1:2], sum(Q[i, :]) == R[i])\n",
    "\n",
    "# Função objetivo\n",
    "@objective(model15b, Min, sum(C.*Q') + sum(C[:,2].*Q'[:,2])*0.1)\n",
    "\n",
    "print(model15b)\n",
    "\n",
    "optimize!(model15b)\n",
    "@show objective_value(model15b)"
   ]
  },
  {
   "cell_type": "markdown",
   "metadata": {},
   "source": [
    "A resposta é sim, o imposto afeta a solução ótima encontrada no item a)"
   ]
  },
  {
   "cell_type": "markdown",
   "metadata": {},
   "source": [
    "item c)"
   ]
  },
  {
   "cell_type": "code",
   "execution_count": 39,
   "metadata": {},
   "outputs": [
    {
     "name": "stdout",
     "output_type": "stream",
     "text": [
      "Min -Q[1,1] + Q[1,2] + Q[1,3] + 3 Q[2,1] + 6 Q[2,2] + 5 Q[2,3]\n",
      "Subject to\n",
      " Q[1,1] = 0.0\n",
      " conR[1] : Q[1,1] + Q[1,2] + Q[1,3] = 800.0\n",
      " conR[2] : Q[2,1] + Q[2,2] + Q[2,3] = 500.0\n",
      " cons1[1] : Q[1,1] ≥ 0.0\n",
      " cons1[2] : Q[1,2] ≥ 0.0\n",
      " cons1[3] : Q[1,3] ≥ 0.0\n",
      " cons2[1] : Q[2,1] ≥ 0.0\n",
      " cons2[2] : Q[2,2] ≥ 0.0\n",
      " cons2[3] : Q[2,3] ≥ 0.0\n",
      " conS[1] : Q[1,1] + Q[2,1] ≤ 400.0\n",
      " conS[2] : Q[1,2] + Q[2,2] ≤ 400.0\n",
      " conS[3] : Q[1,3] + Q[2,3] ≤ 900.0\n",
      " Q[1,1] integer\n",
      " Q[2,1] integer\n",
      " Q[1,2] integer\n",
      " Q[2,2] integer\n",
      " Q[1,3] integer\n",
      " Q[2,3] integer\n"
     ]
    }
   ],
   "source": [
    "# Modelo e Solver\n",
    "model15c = Model(GLPK.Optimizer)\n",
    "\n",
    "#Avaiable supplies\n",
    "Sc = [400 400 900]\n",
    "\n",
    "exercise15(model15c,C,Sc,R)"
   ]
  },
  {
   "cell_type": "code",
   "execution_count": 62,
   "metadata": {},
   "outputs": [
    {
     "name": "stdout",
     "output_type": "stream",
     "text": [
      "objective_value(model15c) = 2500.0\n"
     ]
    },
    {
     "data": {
      "text/plain": [
       "2×3 Array{Float64,2}:\n",
       "   0.0  400.0  400.0\n",
       " 300.0    0.0  200.0"
      ]
     },
     "execution_count": 62,
     "metadata": {},
     "output_type": "execute_result"
    }
   ],
   "source": [
    "optimize!(model15c)\n",
    "@show objective_value(model15c)\n",
    "value.(Q)"
   ]
  },
  {
   "cell_type": "markdown",
   "metadata": {},
   "source": [
    "### Exercise 16"
   ]
  },
  {
   "cell_type": "markdown",
   "metadata": {},
   "source": [
    "After solving a transportation problem with positive shipping costs $c_{ij}$ along all arcs, we increase the supply at\n",
    "one source and the requirement at one destination in a manner that will maintain equality of total supply and total\n",
    "demand."
   ]
  },
  {
   "cell_type": "markdown",
   "metadata": {},
   "source": [
    "a) Would you expect the shipping cost in the modified problem with a larger total shipment of goods to be higher\n",
    "than the optimal shipping plan from the original problem?"
   ]
  },
  {
   "cell_type": "markdown",
   "metadata": {},
   "source": [
    "Depende, se o fornecimento de uma fonte aumentar de modo que um item cujo custo seja baixo fornecido nesse local em comparação com os demais locais, pode ser que essa economia de custos compense o aumento da demanda de outro item e torne a solução ótima desse problema menor do que a original."
   ]
  },
  {
   "cell_type": "markdown",
   "metadata": {},
   "source": [
    "b) Solve the following transportation problem:"
   ]
  },
  {
   "cell_type": "markdown",
   "metadata": {},
   "source": [
    "| Source       | Unit shipping costs to destinations |    |    | Supplies |\n",
    "|--------------|-------------------------------------|----|----|----------|\n",
    "|              | D1                                  | D2 | D3 |          |\n",
    "| S1           | 4                                   | 2  | 4  | 15       |\n",
    "| S2           | 12                                  | 8  | 4  | 15       |\n",
    "| Requirements | 10                                  | 10 | 10 |          |"
   ]
  },
  {
   "cell_type": "code",
   "execution_count": 107,
   "metadata": {},
   "outputs": [
    {
     "name": "stdout",
     "output_type": "stream",
     "text": [
      "Min 4 Q[1,1] + 12 Q[2,1] + 2 Q[1,2] + 8 Q[2,2] + 4 Q[1,3] + 4 Q[2,3]\n",
      "Subject to\n",
      " conR[1] : Q[1,1] + Q[2,1] = 10.0\n",
      " conR[2] : Q[1,2] + Q[2,2] = 10.0\n",
      " conR[3] : Q[1,3] + Q[2,3] = 10.0\n",
      " conS[1] : Q[1,1] + Q[1,2] + Q[1,3] ≤ 15.0\n",
      " conS[2] : Q[2,1] + Q[2,2] + Q[2,3] ≤ 15.0\n",
      " Q[1,1] ≥ 0.0\n",
      " Q[2,1] ≥ 0.0\n",
      " Q[1,2] ≥ 0.0\n",
      " Q[2,2] ≥ 0.0\n",
      " Q[1,3] ≥ 0.0\n",
      " Q[2,3] ≥ 0.0\n",
      " Q[1,1] integer\n",
      " Q[2,1] integer\n",
      " Q[1,2] integer\n",
      " Q[2,2] integer\n",
      " Q[1,3] integer\n",
      " Q[2,3] integer\n",
      "objective_value(model16b) = 130.0\n"
     ]
    },
    {
     "data": {
      "text/plain": [
       "2×3 Array{Float64,2}:\n",
       " 10.0  5.0   0.0\n",
       "  0.0  5.0  10.0"
      ]
     },
     "execution_count": 107,
     "metadata": {},
     "output_type": "execute_result"
    }
   ],
   "source": [
    "# Modelo e Solver\n",
    "model16b = Model(GLPK.Optimizer)\n",
    "\n",
    "#Shipping costs\n",
    "C = [4 2 4; 12 8 4]\n",
    "\n",
    "# Variaveis\n",
    "@variable(model16b, Q[1:2, 1:3] >= 0, Int)\n",
    "\n",
    "# Restrições\n",
    "@constraint(model16b, conS[i = 1:2], sum(Q[i, :]) <= 15)\n",
    "@constraint(model16b, conR[i = 1:3], sum(Q[:, i]) == 10)\n",
    "\n",
    "# Função objetivo\n",
    "@objective(model16b, Min, sum(C.*Q))\n",
    "\n",
    "print(model16b)\n",
    "\n",
    "optimize!(model16b)\n",
    "@show objective_value(model16b)\n",
    "value.(Q)"
   ]
  },
  {
   "cell_type": "markdown",
   "metadata": {},
   "source": [
    "c) Increase the supply at source S1 by 1 unit and the demand at demand center D3 by 1 unit, and re-solve the\n",
    "problem. Has the cost of the optimal shipping plan decreased? Explain this behavior."
   ]
  },
  {
   "cell_type": "code",
   "execution_count": 105,
   "metadata": {},
   "outputs": [
    {
     "name": "stdout",
     "output_type": "stream",
     "text": [
      "Min 4 Q[1,1] + 12 Q[2,1] + 2 Q[1,2] + 8 Q[2,2] + 4 Q[1,3] + 4 Q[2,3]\n",
      "Subject to\n",
      " conR[1] : Q[1,1] + Q[2,1] = 10.0\n",
      " conR[2] : Q[1,2] + Q[2,2] = 10.0\n",
      " conR[3] : Q[1,3] + Q[2,3] = 11.0\n",
      " conS[1] : Q[1,1] + Q[1,2] + Q[1,3] ≤ 16.0\n",
      " conS[2] : Q[2,1] + Q[2,2] + Q[2,3] ≤ 15.0\n",
      " Q[1,1] ≥ 0.0\n",
      " Q[2,1] ≥ 0.0\n",
      " Q[1,2] ≥ 0.0\n",
      " Q[2,2] ≥ 0.0\n",
      " Q[1,3] ≥ 0.0\n",
      " Q[2,3] ≥ 0.0\n",
      " Q[1,1] integer\n",
      " Q[2,1] integer\n",
      " Q[1,2] integer\n",
      " Q[2,2] integer\n",
      " Q[1,3] integer\n",
      " Q[2,3] integer\n",
      "objective_value(model16b) = 128.0\n"
     ]
    },
    {
     "data": {
      "text/plain": [
       "2×3 Array{Float64,2}:\n",
       " 10.0  6.0   0.0\n",
       "  0.0  4.0  11.0"
      ]
     },
     "execution_count": 105,
     "metadata": {},
     "output_type": "execute_result"
    }
   ],
   "source": [
    "# Modelo e Solver\n",
    "model16b = Model(GLPK.Optimizer)\n",
    "\n",
    "#Shipping costs\n",
    "C = [4 2 4; 12 8 4]\n",
    "\n",
    "S = [16 15]\n",
    "R = [10 10 11]\n",
    "\n",
    "# Variaveis\n",
    "@variable(model16b, Q[1:2, 1:3] >= 0, Int)\n",
    "\n",
    "# Restrições\n",
    "@constraint(model16b, conS[i = 1:2], sum(Q[i, :]) <= S[i])\n",
    "@constraint(model16b, conR[i = 1:3], sum(Q[:, i]) == R[i])\n",
    "\n",
    "# Função objetivo\n",
    "@objective(model16b, Min, sum(C.*Q))\n",
    "\n",
    "print(model16b)\n",
    "\n",
    "optimize!(model16b)\n",
    "@show objective_value(model16b)\n",
    "value.(Q)"
   ]
  },
  {
   "cell_type": "markdown",
   "metadata": {},
   "source": [
    "O custo do plano ótimo diminuiu em comparação com o que foi encontrado no item b). O custo de um item a mais demandado em $D3$ é 4 tanto vindo de $S1$ quanto $S2$, em compensação o item a mais no fornecimento de $S1$ troca uma entrega para $D2$ que custava $8$ para $2$. Fazendo com que no final haja uma economia de $2$ e  o resultado ótimo seja $128$."
   ]
  },
  {
   "cell_type": "code",
   "execution_count": null,
   "metadata": {},
   "outputs": [],
   "source": []
  },
  {
   "cell_type": "code",
   "execution_count": null,
   "metadata": {},
   "outputs": [],
   "source": []
  }
 ],
 "metadata": {
  "kernelspec": {
   "display_name": "Julia 1.5.3",
   "language": "julia",
   "name": "julia-1.5"
  },
  "language_info": {
   "file_extension": ".jl",
   "mimetype": "application/julia",
   "name": "julia",
   "version": "1.5.3"
  }
 },
 "nbformat": 4,
 "nbformat_minor": 4
}
